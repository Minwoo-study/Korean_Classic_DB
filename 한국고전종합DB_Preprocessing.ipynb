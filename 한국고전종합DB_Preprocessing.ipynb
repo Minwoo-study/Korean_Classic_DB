{
  "cells": [
    {
      "cell_type": "markdown",
      "metadata": {
        "id": "view-in-github",
        "colab_type": "text"
      },
      "source": [
        "<a href=\"https://colab.research.google.com/github/Minwoo-study/Korean_Classic_DB/blob/main/%ED%95%9C%EA%B5%AD%EA%B3%A0%EC%A0%84%EC%A2%85%ED%95%A9DB_Preprocessing.ipynb\" target=\"_parent\"><img src=\"https://colab.research.google.com/assets/colab-badge.svg\" alt=\"Open In Colab\"/></a>"
      ]
    },
    {
      "cell_type": "markdown",
      "metadata": {
        "id": "ISCzLjj_Wj00"
      },
      "source": [
        "# 한국고전종합DB 원문 및 번역문 전처리"
      ]
    },
    {
      "cell_type": "code",
      "execution_count": null,
      "metadata": {
        "id": "th0CxHhxgrVK"
      },
      "outputs": [],
      "source": [
        "import pandas as pd\n",
        "# import pickle5 as pickle\n",
        "import pickle\n",
        "import re\n",
        "import regex\n",
        "from tqdm import tqdm\n",
        "tqdm.pandas()\n",
        "\n",
        "from kiwipiepy import Kiwi, Option\n",
        "kiwi = Kiwi()\n",
        "kiwi.prepare()\n",
        "\n",
        "from kss import split_sentences\n",
        "import itertools\n",
        "from collections import defaultdict\n",
        "from collections import Counter\n",
        "\n",
        "import matplotlib.pyplot as plt\n",
        "import matplotlib as mpl\n",
        "# 그래프에서 마이너스 폰트 깨지는 문제에 대한 대처\n",
        "mpl.rcParams['axes.unicode_minus'] = False\n",
        "plt.rc('font', family='NanumBarunGothic')\n",
        "font_path = '/usr/share/fonts/truetype/nanum/NanumBarunGothic.ttf'\n",
        "import matplotlib.colors as clr\n"
      ]
    },
    {
      "cell_type": "code",
      "execution_count": null,
      "metadata": {
        "id": "48vPqPwUiQIr"
      },
      "outputs": [],
      "source": [
        "with open('./한국문집총간_translate.pickle', \"rb\") as fh:\n",
        "  data = pickle.load(fh)"
      ]
    },
    {
      "cell_type": "code",
      "execution_count": null,
      "metadata": {
        "colab": {
          "base_uri": "https://localhost:8080/",
          "height": 493
        },
        "id": "IxCisb-riONa",
        "outputId": "11618dca-df3a-4261-ee4a-1467d0cbf4ce"
      },
      "outputs": [
        {
          "data": {
            "text/html": [
              "<div>\n",
              "<style scoped>\n",
              "    .dataframe tbody tr th:only-of-type {\n",
              "        vertical-align: middle;\n",
              "    }\n",
              "\n",
              "    .dataframe tbody tr th {\n",
              "        vertical-align: top;\n",
              "    }\n",
              "\n",
              "    .dataframe thead th {\n",
              "        text-align: right;\n",
              "    }\n",
              "</style>\n",
              "<table border=\"1\" class=\"dataframe\">\n",
              "  <thead>\n",
              "    <tr style=\"text-align: right;\">\n",
              "      <th></th>\n",
              "      <th>ID</th>\n",
              "      <th>원문</th>\n",
              "      <th>번역문</th>\n",
              "    </tr>\n",
              "  </thead>\n",
              "  <tbody>\n",
              "    <tr>\n",
              "      <th>0</th>\n",
              "      <td>ITKC_MO_0001A_0010_010_0010</td>\n",
              "      <td>記有之。曰酒醴之美。而玄酒明水之尙。貴五味之本也。黼黻文繡之美。而疏布之尙。反女功之始也。古...</td>\n",
              "      <td>\\n《예기》에 이르기를 “단술이 맛이 좋긴 하지만 제사 때에 현주와 명수 같은 물을...</td>\n",
              "    </tr>\n",
              "    <tr>\n",
              "      <th>1</th>\n",
              "      <td>ITKC_MO_0001A_0010_010_0020</td>\n",
              "      <td>桂苑筆耕集二十卷。新羅孤雲崔公在唐淮南幕府時公私應酬之作。而東還之後。手編表進于朝者也公名致...</td>\n",
              "      <td>\\n《계원필경집》 20권은 신라의 고운(孤雲) 최공(崔公)이 당나라 회남(淮南) 막...</td>\n",
              "    </tr>\n",
              "    <tr>\n",
              "      <th>2</th>\n",
              "      <td>ITKC_MO_0001A_0010_010_0030</td>\n",
              "      <td>淮南入本國兼送詔書等使前都統巡官承務郎侍御史內供奉賜紫金魚袋臣崔致遠進所著雜詩賦及表奏集二十...</td>\n",
              "      <td>\\n회남(淮南)에서 본국에 들어오면서 조서(詔書) 등을 보내는 사신을 겸한, 전(前...</td>\n",
              "    </tr>\n",
              "    <tr>\n",
              "      <th>3</th>\n",
              "      <td>ITKC_MO_0001A_0020_010_0010</td>\n",
              "      <td>臣某言。今月某日。得進奏院狀報。奉十一日宣下改廣明元年爲中和元年者。展義龜城。易名鳳紀。美號...</td>\n",
              "      <td>\\n신(臣) 모(某)는 아룁니다.금월(今月) 모일(某日)에 진주원(進奏院)의 장보(...</td>\n",
              "    </tr>\n",
              "    <tr>\n",
              "      <th>4</th>\n",
              "      <td>ITKC_MO_0001A_0020_010_0020</td>\n",
              "      <td>臣某言。臣得進奏院狀報。入南蠻通和使劉光裕等廻。雲南通和兼進獻國信金銀器物疋段香藥馬等者。天...</td>\n",
              "      <td>\\n신 모는 아룁니다.신이 진주원의 장보를 얻어 보건대, 입남만통화사(入南蠻通和使)...</td>\n",
              "    </tr>\n",
              "    <tr>\n",
              "      <th>...</th>\n",
              "      <td>...</td>\n",
              "      <td>...</td>\n",
              "      <td>...</td>\n",
              "    </tr>\n",
              "    <tr>\n",
              "      <th>105619</th>\n",
              "      <td>ITKC_MO_1252A_0270_000_0040</td>\n",
              "      <td>公諱晩燾字觀必姓李。退溪文純公后。大司成彙濬娶弼善姜橒女无育。繼娶僉樞宋在憲女。憲宗壬寅生公...</td>\n",
              "      <td>\\n공은 휘는 만도(晩燾), 자는 관필(觀必)이며, 성은 이씨(李氏)로 퇴계(退溪)...</td>\n",
              "    </tr>\n",
              "    <tr>\n",
              "      <th>105620</th>\n",
              "      <td>ITKC_MO_1252A_0280_000_0010</td>\n",
              "      <td>府君諱晩燾字觀必。號響山。又曰直齋。姓李氏。始祖諱碩。麗末以眞寶縣吏中司馬。生諱子脩。登第討...</td>\n",
              "      <td>\\n부군은 휘는 만도(晩燾), 자는 관필(觀必), 호는 향산(響山) 혹은 직제(直齋...</td>\n",
              "    </tr>\n",
              "    <tr>\n",
              "      <th>105621</th>\n",
              "      <td>ITKC_MO_1252A_0290_000_0010</td>\n",
              "      <td>此吾響山公手藳之名訒出編者也。殉國之粤六年丙辰。吾黨之士。就其中節略爲十九卷原集。又以門生子...</td>\n",
              "      <td>\\n이것은 우리 향산공(響山公)의 수고(手藁)로, 《인출편(訒出編)》이라고 하는 것...</td>\n",
              "    </tr>\n",
              "    <tr>\n",
              "      <th>105622</th>\n",
              "      <td>ITKC_MO_1252A_0290_000_0020</td>\n",
              "      <td>文者氣之所形也。氣必充積而後文亦有格力。故觀於文而其人槩可想矣。然氣不可力以致。其得於天者。...</td>\n",
              "      <td>\\n글이란 기(氣)가 드러난 것이며, 기가 충만(充滿)한 뒤에라야 글 역시 격조(格...</td>\n",
              "    </tr>\n",
              "    <tr>\n",
              "      <th>105623</th>\n",
              "      <td>ITKC_MO_1252A_0290_000_0030</td>\n",
              "      <td>嗚呼。此吾響山公遺文也。公大節旣昭然如日星之在天。其不朽何待乎文哉。獨後死者之論。以爲公歿而...</td>\n",
              "      <td>\\n오호라, 이 책은 우리 향산공(響山公)의 유문(遺文)이다. 공의 큰 절의가 이미...</td>\n",
              "    </tr>\n",
              "  </tbody>\n",
              "</table>\n",
              "<p>105624 rows × 3 columns</p>\n",
              "</div>"
            ],
            "text/plain": [
              "                                 ID  \\\n",
              "0       ITKC_MO_0001A_0010_010_0010   \n",
              "1       ITKC_MO_0001A_0010_010_0020   \n",
              "2       ITKC_MO_0001A_0010_010_0030   \n",
              "3       ITKC_MO_0001A_0020_010_0010   \n",
              "4       ITKC_MO_0001A_0020_010_0020   \n",
              "...                             ...   \n",
              "105619  ITKC_MO_1252A_0270_000_0040   \n",
              "105620  ITKC_MO_1252A_0280_000_0010   \n",
              "105621  ITKC_MO_1252A_0290_000_0010   \n",
              "105622  ITKC_MO_1252A_0290_000_0020   \n",
              "105623  ITKC_MO_1252A_0290_000_0030   \n",
              "\n",
              "                                                       원문  \\\n",
              "0       記有之。曰酒醴之美。而玄酒明水之尙。貴五味之本也。黼黻文繡之美。而疏布之尙。反女功之始也。古...   \n",
              "1       桂苑筆耕集二十卷。新羅孤雲崔公在唐淮南幕府時公私應酬之作。而東還之後。手編表進于朝者也公名致...   \n",
              "2       淮南入本國兼送詔書等使前都統巡官承務郎侍御史內供奉賜紫金魚袋臣崔致遠進所著雜詩賦及表奏集二十...   \n",
              "3       臣某言。今月某日。得進奏院狀報。奉十一日宣下改廣明元年爲中和元年者。展義龜城。易名鳳紀。美號...   \n",
              "4       臣某言。臣得進奏院狀報。入南蠻通和使劉光裕等廻。雲南通和兼進獻國信金銀器物疋段香藥馬等者。天...   \n",
              "...                                                   ...   \n",
              "105619  公諱晩燾字觀必姓李。退溪文純公后。大司成彙濬娶弼善姜橒女无育。繼娶僉樞宋在憲女。憲宗壬寅生公...   \n",
              "105620  府君諱晩燾字觀必。號響山。又曰直齋。姓李氏。始祖諱碩。麗末以眞寶縣吏中司馬。生諱子脩。登第討...   \n",
              "105621  此吾響山公手藳之名訒出編者也。殉國之粤六年丙辰。吾黨之士。就其中節略爲十九卷原集。又以門生子...   \n",
              "105622  文者氣之所形也。氣必充積而後文亦有格力。故觀於文而其人槩可想矣。然氣不可力以致。其得於天者。...   \n",
              "105623  嗚呼。此吾響山公遺文也。公大節旣昭然如日星之在天。其不朽何待乎文哉。獨後死者之論。以爲公歿而...   \n",
              "\n",
              "                                                      번역문  \n",
              "0       \\n《예기》에 이르기를 “단술이 맛이 좋긴 하지만 제사 때에 현주와 명수 같은 물을...  \n",
              "1       \\n《계원필경집》 20권은 신라의 고운(孤雲) 최공(崔公)이 당나라 회남(淮南) 막...  \n",
              "2       \\n회남(淮南)에서 본국에 들어오면서 조서(詔書) 등을 보내는 사신을 겸한, 전(前...  \n",
              "3       \\n신(臣) 모(某)는 아룁니다.금월(今月) 모일(某日)에 진주원(進奏院)의 장보(...  \n",
              "4       \\n신 모는 아룁니다.신이 진주원의 장보를 얻어 보건대, 입남만통화사(入南蠻通和使)...  \n",
              "...                                                   ...  \n",
              "105619  \\n공은 휘는 만도(晩燾), 자는 관필(觀必)이며, 성은 이씨(李氏)로 퇴계(退溪)...  \n",
              "105620  \\n부군은 휘는 만도(晩燾), 자는 관필(觀必), 호는 향산(響山) 혹은 직제(直齋...  \n",
              "105621  \\n이것은 우리 향산공(響山公)의 수고(手藁)로, 《인출편(訒出編)》이라고 하는 것...  \n",
              "105622  \\n글이란 기(氣)가 드러난 것이며, 기가 충만(充滿)한 뒤에라야 글 역시 격조(格...  \n",
              "105623  \\n오호라, 이 책은 우리 향산공(響山公)의 유문(遺文)이다. 공의 큰 절의가 이미...  \n",
              "\n",
              "[105624 rows x 3 columns]"
            ]
          },
          "execution_count": 3,
          "metadata": {},
          "output_type": "execute_result"
        }
      ],
      "source": [
        "#총 105624 개의 문단(페이지)\n",
        "data"
      ]
    },
    {
      "cell_type": "code",
      "execution_count": null,
      "metadata": {
        "colab": {
          "base_uri": "https://localhost:8080/",
          "height": 424
        },
        "id": "cZ_qHcvcjb1c",
        "outputId": "cf36abd7-dbc2-48b3-f21b-d680a9a84229"
      },
      "outputs": [
        {
          "data": {
            "text/html": [
              "<div>\n",
              "<style scoped>\n",
              "    .dataframe tbody tr th:only-of-type {\n",
              "        vertical-align: middle;\n",
              "    }\n",
              "\n",
              "    .dataframe tbody tr th {\n",
              "        vertical-align: top;\n",
              "    }\n",
              "\n",
              "    .dataframe thead th {\n",
              "        text-align: right;\n",
              "    }\n",
              "</style>\n",
              "<table border=\"1\" class=\"dataframe\">\n",
              "  <thead>\n",
              "    <tr style=\"text-align: right;\">\n",
              "      <th></th>\n",
              "      <th>ID</th>\n",
              "      <th>원문</th>\n",
              "      <th>번역문</th>\n",
              "    </tr>\n",
              "  </thead>\n",
              "  <tbody>\n",
              "    <tr>\n",
              "      <th>2976</th>\n",
              "      <td>ITKC_MO_0011A_0170_010_0020</td>\n",
              "      <td>원문 오류</td>\n",
              "      <td>번역문 오류</td>\n",
              "    </tr>\n",
              "    <tr>\n",
              "      <th>12002</th>\n",
              "      <td>ITKC_MO_0049A_0010_010_0040</td>\n",
              "      <td>원문 오류</td>\n",
              "      <td>번역문 오류</td>\n",
              "    </tr>\n",
              "    <tr>\n",
              "      <th>12003</th>\n",
              "      <td>ITKC_MO_0049A_0010_010_0050</td>\n",
              "      <td>원문 오류</td>\n",
              "      <td>번역문 오류</td>\n",
              "    </tr>\n",
              "    <tr>\n",
              "      <th>27214</th>\n",
              "      <td>ITKC_MO_0189A_0160_010_0010</td>\n",
              "      <td>원문 오류</td>\n",
              "      <td>번역문 오류</td>\n",
              "    </tr>\n",
              "    <tr>\n",
              "      <th>27215</th>\n",
              "      <td>ITKC_MO_0189A_0160_010_0020</td>\n",
              "      <td>원문 오류</td>\n",
              "      <td>번역문 오류</td>\n",
              "    </tr>\n",
              "    <tr>\n",
              "      <th>...</th>\n",
              "      <td>...</td>\n",
              "      <td>...</td>\n",
              "      <td>...</td>\n",
              "    </tr>\n",
              "    <tr>\n",
              "      <th>37540</th>\n",
              "      <td>ITKC_MO_0273A_0360_010_0520</td>\n",
              "      <td>원문 오류</td>\n",
              "      <td>번역문 오류</td>\n",
              "    </tr>\n",
              "    <tr>\n",
              "      <th>37541</th>\n",
              "      <td>ITKC_MO_0273A_0360_010_0530</td>\n",
              "      <td>원문 오류</td>\n",
              "      <td>번역문 오류</td>\n",
              "    </tr>\n",
              "    <tr>\n",
              "      <th>46200</th>\n",
              "      <td>ITKC_MO_0299A_0130_010_0010</td>\n",
              "      <td>원문 오류</td>\n",
              "      <td>번역문 오류</td>\n",
              "    </tr>\n",
              "    <tr>\n",
              "      <th>47243</th>\n",
              "      <td>ITKC_MO_0311A_0070_010_0490</td>\n",
              "      <td>원문 오류</td>\n",
              "      <td>번역문 오류</td>\n",
              "    </tr>\n",
              "    <tr>\n",
              "      <th>72001</th>\n",
              "      <td>ITKC_MO_0433A_0140_010_0020</td>\n",
              "      <td>원문 오류</td>\n",
              "      <td>번역문 오류</td>\n",
              "    </tr>\n",
              "  </tbody>\n",
              "</table>\n",
              "<p>229 rows × 3 columns</p>\n",
              "</div>"
            ],
            "text/plain": [
              "                                ID     원문     번역문\n",
              "2976   ITKC_MO_0011A_0170_010_0020  원문 오류  번역문 오류\n",
              "12002  ITKC_MO_0049A_0010_010_0040  원문 오류  번역문 오류\n",
              "12003  ITKC_MO_0049A_0010_010_0050  원문 오류  번역문 오류\n",
              "27214  ITKC_MO_0189A_0160_010_0010  원문 오류  번역문 오류\n",
              "27215  ITKC_MO_0189A_0160_010_0020  원문 오류  번역문 오류\n",
              "...                            ...    ...     ...\n",
              "37540  ITKC_MO_0273A_0360_010_0520  원문 오류  번역문 오류\n",
              "37541  ITKC_MO_0273A_0360_010_0530  원문 오류  번역문 오류\n",
              "46200  ITKC_MO_0299A_0130_010_0010  원문 오류  번역문 오류\n",
              "47243  ITKC_MO_0311A_0070_010_0490  원문 오류  번역문 오류\n",
              "72001  ITKC_MO_0433A_0140_010_0020  원문 오류  번역문 오류\n",
              "\n",
              "[229 rows x 3 columns]"
            ]
          },
          "execution_count": 23,
          "metadata": {},
          "output_type": "execute_result"
        }
      ],
      "source": [
        "#번역문 크롤링 실패한 목록\n",
        "data[data['번역문'] =='번역문 오류']"
      ]
    },
    {
      "cell_type": "code",
      "execution_count": null,
      "metadata": {
        "colab": {
          "base_uri": "https://localhost:8080/",
          "height": 493
        },
        "id": "TfkJlaL0jNlT",
        "outputId": "fb7a499a-d238-4abd-aa4f-3aec988b3e66"
      },
      "outputs": [
        {
          "data": {
            "text/html": [
              "<div>\n",
              "<style scoped>\n",
              "    .dataframe tbody tr th:only-of-type {\n",
              "        vertical-align: middle;\n",
              "    }\n",
              "\n",
              "    .dataframe tbody tr th {\n",
              "        vertical-align: top;\n",
              "    }\n",
              "\n",
              "    .dataframe thead th {\n",
              "        text-align: right;\n",
              "    }\n",
              "</style>\n",
              "<table border=\"1\" class=\"dataframe\">\n",
              "  <thead>\n",
              "    <tr style=\"text-align: right;\">\n",
              "      <th></th>\n",
              "      <th>ID</th>\n",
              "      <th>원문</th>\n",
              "      <th>번역문</th>\n",
              "    </tr>\n",
              "  </thead>\n",
              "  <tbody>\n",
              "    <tr>\n",
              "      <th>0</th>\n",
              "      <td>ITKC_MO_0001A_0010_010_0010</td>\n",
              "      <td>記有之。曰酒醴之美。而玄酒明水之尙。貴五味之本也。黼黻文繡之美。而疏布之尙。反女功之始也。古...</td>\n",
              "      <td>\\n《예기》에 이르기를 “단술이 맛이 좋긴 하지만 제사 때에 현주와 명수 같은 물을...</td>\n",
              "    </tr>\n",
              "    <tr>\n",
              "      <th>1</th>\n",
              "      <td>ITKC_MO_0001A_0010_010_0020</td>\n",
              "      <td>桂苑筆耕集二十卷。新羅孤雲崔公在唐淮南幕府時公私應酬之作。而東還之後。手編表進于朝者也公名致...</td>\n",
              "      <td>\\n《계원필경집》 20권은 신라의 고운(孤雲) 최공(崔公)이 당나라 회남(淮南) 막...</td>\n",
              "    </tr>\n",
              "    <tr>\n",
              "      <th>2</th>\n",
              "      <td>ITKC_MO_0001A_0010_010_0030</td>\n",
              "      <td>淮南入本國兼送詔書等使前都統巡官承務郎侍御史內供奉賜紫金魚袋臣崔致遠進所著雜詩賦及表奏集二十...</td>\n",
              "      <td>\\n회남(淮南)에서 본국에 들어오면서 조서(詔書) 등을 보내는 사신을 겸한, 전(前...</td>\n",
              "    </tr>\n",
              "    <tr>\n",
              "      <th>3</th>\n",
              "      <td>ITKC_MO_0001A_0020_010_0010</td>\n",
              "      <td>臣某言。今月某日。得進奏院狀報。奉十一日宣下改廣明元年爲中和元年者。展義龜城。易名鳳紀。美號...</td>\n",
              "      <td>\\n신(臣) 모(某)는 아룁니다.금월(今月) 모일(某日)에 진주원(進奏院)의 장보(...</td>\n",
              "    </tr>\n",
              "    <tr>\n",
              "      <th>4</th>\n",
              "      <td>ITKC_MO_0001A_0020_010_0020</td>\n",
              "      <td>臣某言。臣得進奏院狀報。入南蠻通和使劉光裕等廻。雲南通和兼進獻國信金銀器物疋段香藥馬等者。天...</td>\n",
              "      <td>\\n신 모는 아룁니다.신이 진주원의 장보를 얻어 보건대, 입남만통화사(入南蠻通和使)...</td>\n",
              "    </tr>\n",
              "    <tr>\n",
              "      <th>...</th>\n",
              "      <td>...</td>\n",
              "      <td>...</td>\n",
              "      <td>...</td>\n",
              "    </tr>\n",
              "    <tr>\n",
              "      <th>105619</th>\n",
              "      <td>ITKC_MO_1252A_0270_000_0040</td>\n",
              "      <td>公諱晩燾字觀必姓李。退溪文純公后。大司成彙濬娶弼善姜橒女无育。繼娶僉樞宋在憲女。憲宗壬寅生公...</td>\n",
              "      <td>\\n공은 휘는 만도(晩燾), 자는 관필(觀必)이며, 성은 이씨(李氏)로 퇴계(退溪)...</td>\n",
              "    </tr>\n",
              "    <tr>\n",
              "      <th>105620</th>\n",
              "      <td>ITKC_MO_1252A_0280_000_0010</td>\n",
              "      <td>府君諱晩燾字觀必。號響山。又曰直齋。姓李氏。始祖諱碩。麗末以眞寶縣吏中司馬。生諱子脩。登第討...</td>\n",
              "      <td>\\n부군은 휘는 만도(晩燾), 자는 관필(觀必), 호는 향산(響山) 혹은 직제(直齋...</td>\n",
              "    </tr>\n",
              "    <tr>\n",
              "      <th>105621</th>\n",
              "      <td>ITKC_MO_1252A_0290_000_0010</td>\n",
              "      <td>此吾響山公手藳之名訒出編者也。殉國之粤六年丙辰。吾黨之士。就其中節略爲十九卷原集。又以門生子...</td>\n",
              "      <td>\\n이것은 우리 향산공(響山公)의 수고(手藁)로, 《인출편(訒出編)》이라고 하는 것...</td>\n",
              "    </tr>\n",
              "    <tr>\n",
              "      <th>105622</th>\n",
              "      <td>ITKC_MO_1252A_0290_000_0020</td>\n",
              "      <td>文者氣之所形也。氣必充積而後文亦有格力。故觀於文而其人槩可想矣。然氣不可力以致。其得於天者。...</td>\n",
              "      <td>\\n글이란 기(氣)가 드러난 것이며, 기가 충만(充滿)한 뒤에라야 글 역시 격조(格...</td>\n",
              "    </tr>\n",
              "    <tr>\n",
              "      <th>105623</th>\n",
              "      <td>ITKC_MO_1252A_0290_000_0030</td>\n",
              "      <td>嗚呼。此吾響山公遺文也。公大節旣昭然如日星之在天。其不朽何待乎文哉。獨後死者之論。以爲公歿而...</td>\n",
              "      <td>\\n오호라, 이 책은 우리 향산공(響山公)의 유문(遺文)이다. 공의 큰 절의가 이미...</td>\n",
              "    </tr>\n",
              "  </tbody>\n",
              "</table>\n",
              "<p>105395 rows × 3 columns</p>\n",
              "</div>"
            ],
            "text/plain": [
              "                                 ID  \\\n",
              "0       ITKC_MO_0001A_0010_010_0010   \n",
              "1       ITKC_MO_0001A_0010_010_0020   \n",
              "2       ITKC_MO_0001A_0010_010_0030   \n",
              "3       ITKC_MO_0001A_0020_010_0010   \n",
              "4       ITKC_MO_0001A_0020_010_0020   \n",
              "...                             ...   \n",
              "105619  ITKC_MO_1252A_0270_000_0040   \n",
              "105620  ITKC_MO_1252A_0280_000_0010   \n",
              "105621  ITKC_MO_1252A_0290_000_0010   \n",
              "105622  ITKC_MO_1252A_0290_000_0020   \n",
              "105623  ITKC_MO_1252A_0290_000_0030   \n",
              "\n",
              "                                                       원문  \\\n",
              "0       記有之。曰酒醴之美。而玄酒明水之尙。貴五味之本也。黼黻文繡之美。而疏布之尙。反女功之始也。古...   \n",
              "1       桂苑筆耕集二十卷。新羅孤雲崔公在唐淮南幕府時公私應酬之作。而東還之後。手編表進于朝者也公名致...   \n",
              "2       淮南入本國兼送詔書等使前都統巡官承務郎侍御史內供奉賜紫金魚袋臣崔致遠進所著雜詩賦及表奏集二十...   \n",
              "3       臣某言。今月某日。得進奏院狀報。奉十一日宣下改廣明元年爲中和元年者。展義龜城。易名鳳紀。美號...   \n",
              "4       臣某言。臣得進奏院狀報。入南蠻通和使劉光裕等廻。雲南通和兼進獻國信金銀器物疋段香藥馬等者。天...   \n",
              "...                                                   ...   \n",
              "105619  公諱晩燾字觀必姓李。退溪文純公后。大司成彙濬娶弼善姜橒女无育。繼娶僉樞宋在憲女。憲宗壬寅生公...   \n",
              "105620  府君諱晩燾字觀必。號響山。又曰直齋。姓李氏。始祖諱碩。麗末以眞寶縣吏中司馬。生諱子脩。登第討...   \n",
              "105621  此吾響山公手藳之名訒出編者也。殉國之粤六年丙辰。吾黨之士。就其中節略爲十九卷原集。又以門生子...   \n",
              "105622  文者氣之所形也。氣必充積而後文亦有格力。故觀於文而其人槩可想矣。然氣不可力以致。其得於天者。...   \n",
              "105623  嗚呼。此吾響山公遺文也。公大節旣昭然如日星之在天。其不朽何待乎文哉。獨後死者之論。以爲公歿而...   \n",
              "\n",
              "                                                      번역문  \n",
              "0       \\n《예기》에 이르기를 “단술이 맛이 좋긴 하지만 제사 때에 현주와 명수 같은 물을...  \n",
              "1       \\n《계원필경집》 20권은 신라의 고운(孤雲) 최공(崔公)이 당나라 회남(淮南) 막...  \n",
              "2       \\n회남(淮南)에서 본국에 들어오면서 조서(詔書) 등을 보내는 사신을 겸한, 전(前...  \n",
              "3       \\n신(臣) 모(某)는 아룁니다.금월(今月) 모일(某日)에 진주원(進奏院)의 장보(...  \n",
              "4       \\n신 모는 아룁니다.신이 진주원의 장보를 얻어 보건대, 입남만통화사(入南蠻通和使)...  \n",
              "...                                                   ...  \n",
              "105619  \\n공은 휘는 만도(晩燾), 자는 관필(觀必)이며, 성은 이씨(李氏)로 퇴계(退溪)...  \n",
              "105620  \\n부군은 휘는 만도(晩燾), 자는 관필(觀必), 호는 향산(響山) 혹은 직제(直齋...  \n",
              "105621  \\n이것은 우리 향산공(響山公)의 수고(手藁)로, 《인출편(訒出編)》이라고 하는 것...  \n",
              "105622  \\n글이란 기(氣)가 드러난 것이며, 기가 충만(充滿)한 뒤에라야 글 역시 격조(格...  \n",
              "105623  \\n오호라, 이 책은 우리 향산공(響山公)의 유문(遺文)이다. 공의 큰 절의가 이미...  \n",
              "\n",
              "[105395 rows x 3 columns]"
            ]
          },
          "execution_count": 4,
          "metadata": {},
          "output_type": "execute_result"
        }
      ],
      "source": [
        "#번역문 없는 것 지우기 => 105395개의 문단\n",
        "data = data[data['번역문']!='번역문 오류']\n",
        "data"
      ]
    },
    {
      "cell_type": "code",
      "execution_count": null,
      "metadata": {
        "colab": {
          "base_uri": "https://localhost:8080/",
          "height": 456
        },
        "id": "Wmt_WGJdjsx6",
        "outputId": "6d90c46e-c6cb-4d1b-e5ca-e43a3a4bea8c"
      },
      "outputs": [
        {
          "data": {
            "text/html": [
              "<div>\n",
              "<style scoped>\n",
              "    .dataframe tbody tr th:only-of-type {\n",
              "        vertical-align: middle;\n",
              "    }\n",
              "\n",
              "    .dataframe tbody tr th {\n",
              "        vertical-align: top;\n",
              "    }\n",
              "\n",
              "    .dataframe thead th {\n",
              "        text-align: right;\n",
              "    }\n",
              "</style>\n",
              "<table border=\"1\" class=\"dataframe\">\n",
              "  <thead>\n",
              "    <tr style=\"text-align: right;\">\n",
              "      <th></th>\n",
              "      <th>ID</th>\n",
              "      <th>원문</th>\n",
              "      <th>번역문</th>\n",
              "    </tr>\n",
              "  </thead>\n",
              "  <tbody>\n",
              "    <tr>\n",
              "      <th>2526</th>\n",
              "      <td>ITKC_MO_0005A_0040_020_0120</td>\n",
              "      <td>원문 오류</td>\n",
              "      <td>\\n\\n칠언고시인데, 여기에는 수록하지 않는다.\\n\\n</td>\n",
              "    </tr>\n",
              "    <tr>\n",
              "      <th>8764</th>\n",
              "      <td>ITKC_MO_0024A_0160_050_0010</td>\n",
              "      <td>원문 오류</td>\n",
              "      <td>\\n백암산 정토사기(白巖山淨土寺記) 없어졌다.\\n\\n【안】 이색(李穡)의 정토사(淨...</td>\n",
              "    </tr>\n",
              "    <tr>\n",
              "      <th>8765</th>\n",
              "      <td>ITKC_MO_0024A_0160_060_0010</td>\n",
              "      <td>원문 오류</td>\n",
              "      <td>\\n본조의 칙위성지의 발어 정축 [本朝勅慰聖旨跋語 丁丑] 없어졌다.\\n\\n</td>\n",
              "    </tr>\n",
              "    <tr>\n",
              "      <th>8766</th>\n",
              "      <td>ITKC_MO_0024A_0160_070_0010</td>\n",
              "      <td>원문 오류</td>\n",
              "      <td>\\n여조의 적경원 중흥비 경오 [麗朝積慶園中興碑 庚午] 없어졌다.\\n학자 지남도(學...</td>\n",
              "    </tr>\n",
              "    <tr>\n",
              "      <th>8767</th>\n",
              "      <td>ITKC_MO_0024A_0160_080_0010</td>\n",
              "      <td>원문 오류</td>\n",
              "      <td>\\n여조의 적경원 중흥비 경오 [麗朝積慶園中興碑 庚午] 없어졌다.\\n학자 지남도(學...</td>\n",
              "    </tr>\n",
              "    <tr>\n",
              "      <th>8768</th>\n",
              "      <td>ITKC_MO_0024A_0160_080_0020</td>\n",
              "      <td>원문 오류</td>\n",
              "      <td>\\n여조의 적경원 중흥비 경오 [麗朝積慶園中興碑 庚午] 없어졌다.\\n학자 지남도(學...</td>\n",
              "    </tr>\n",
              "    <tr>\n",
              "      <th>8769</th>\n",
              "      <td>ITKC_MO_0024A_0160_080_0030</td>\n",
              "      <td>원문 오류</td>\n",
              "      <td>\\n여조의 적경원 중흥비 경오 [麗朝積慶園中興碑 庚午] 없어졌다.\\n학자 지남도(學...</td>\n",
              "    </tr>\n",
              "    <tr>\n",
              "      <th>8770</th>\n",
              "      <td>ITKC_MO_0024A_0160_080_0040</td>\n",
              "      <td>원문 오류</td>\n",
              "      <td>\\n여조의 적경원 중흥비 경오 [麗朝積慶園中興碑 庚午] 없어졌다.\\n학자 지남도(學...</td>\n",
              "    </tr>\n",
              "    <tr>\n",
              "      <th>8771</th>\n",
              "      <td>ITKC_MO_0024A_0160_080_0050</td>\n",
              "      <td>원문 오류</td>\n",
              "      <td>\\n여조의 적경원 중흥비 경오 [麗朝積慶園中興碑 庚午] 없어졌다.\\n학자 지남도(學...</td>\n",
              "    </tr>\n",
              "    <tr>\n",
              "      <th>8772</th>\n",
              "      <td>ITKC_MO_0024A_0160_080_0060</td>\n",
              "      <td>원문 오류</td>\n",
              "      <td>\\n여조의 적경원 중흥비 경오 [麗朝積慶園中興碑 庚午] 없어졌다.\\n학자 지남도(學...</td>\n",
              "    </tr>\n",
              "    <tr>\n",
              "      <th>10780</th>\n",
              "      <td>ITKC_MO_0040A_0010_010_0450</td>\n",
              "      <td>원문 오류</td>\n",
              "      <td>\\n지난날 판전교시사로 있을 때 / 昔忝典校寺공무가 한가해 아무 일도 없었지 / 官...</td>\n",
              "    </tr>\n",
              "    <tr>\n",
              "      <th>42849</th>\n",
              "      <td>ITKC_MO_0290A_0140_030_0020</td>\n",
              "      <td>원문 오류</td>\n",
              "      <td>\\n[본문 내용 없음]\\n</td>\n",
              "    </tr>\n",
              "    <tr>\n",
              "      <th>42850</th>\n",
              "      <td>ITKC_MO_0290A_0140_030_0030</td>\n",
              "      <td>원문 오류</td>\n",
              "      <td>\\n[본문 내용 없음]\\n</td>\n",
              "    </tr>\n",
              "  </tbody>\n",
              "</table>\n",
              "</div>"
            ],
            "text/plain": [
              "                                ID     원문  \\\n",
              "2526   ITKC_MO_0005A_0040_020_0120  원문 오류   \n",
              "8764   ITKC_MO_0024A_0160_050_0010  원문 오류   \n",
              "8765   ITKC_MO_0024A_0160_060_0010  원문 오류   \n",
              "8766   ITKC_MO_0024A_0160_070_0010  원문 오류   \n",
              "8767   ITKC_MO_0024A_0160_080_0010  원문 오류   \n",
              "8768   ITKC_MO_0024A_0160_080_0020  원문 오류   \n",
              "8769   ITKC_MO_0024A_0160_080_0030  원문 오류   \n",
              "8770   ITKC_MO_0024A_0160_080_0040  원문 오류   \n",
              "8771   ITKC_MO_0024A_0160_080_0050  원문 오류   \n",
              "8772   ITKC_MO_0024A_0160_080_0060  원문 오류   \n",
              "10780  ITKC_MO_0040A_0010_010_0450  원문 오류   \n",
              "42849  ITKC_MO_0290A_0140_030_0020  원문 오류   \n",
              "42850  ITKC_MO_0290A_0140_030_0030  원문 오류   \n",
              "\n",
              "                                                     번역문  \n",
              "2526                      \\n\\n칠언고시인데, 여기에는 수록하지 않는다.\\n\\n  \n",
              "8764   \\n백암산 정토사기(白巖山淨土寺記) 없어졌다.\\n\\n【안】 이색(李穡)의 정토사(淨...  \n",
              "8765           \\n본조의 칙위성지의 발어 정축 [本朝勅慰聖旨跋語 丁丑] 없어졌다.\\n\\n  \n",
              "8766   \\n여조의 적경원 중흥비 경오 [麗朝積慶園中興碑 庚午] 없어졌다.\\n학자 지남도(學...  \n",
              "8767   \\n여조의 적경원 중흥비 경오 [麗朝積慶園中興碑 庚午] 없어졌다.\\n학자 지남도(學...  \n",
              "8768   \\n여조의 적경원 중흥비 경오 [麗朝積慶園中興碑 庚午] 없어졌다.\\n학자 지남도(學...  \n",
              "8769   \\n여조의 적경원 중흥비 경오 [麗朝積慶園中興碑 庚午] 없어졌다.\\n학자 지남도(學...  \n",
              "8770   \\n여조의 적경원 중흥비 경오 [麗朝積慶園中興碑 庚午] 없어졌다.\\n학자 지남도(學...  \n",
              "8771   \\n여조의 적경원 중흥비 경오 [麗朝積慶園中興碑 庚午] 없어졌다.\\n학자 지남도(學...  \n",
              "8772   \\n여조의 적경원 중흥비 경오 [麗朝積慶園中興碑 庚午] 없어졌다.\\n학자 지남도(學...  \n",
              "10780  \\n지난날 판전교시사로 있을 때 / 昔忝典校寺공무가 한가해 아무 일도 없었지 / 官...  \n",
              "42849                                     \\n[본문 내용 없음]\\n  \n",
              "42850                                     \\n[본문 내용 없음]\\n  "
            ]
          },
          "execution_count": 5,
          "metadata": {},
          "output_type": "execute_result"
        }
      ],
      "source": [
        "data[data['원문']== '원문 오류']"
      ]
    },
    {
      "cell_type": "markdown",
      "metadata": {
        "id": "vRi4132vkugE"
      },
      "source": [
        "### 겹치는 부분 제거"
      ]
    },
    {
      "cell_type": "code",
      "source": [
        ""
      ],
      "metadata": {
        "id": "-s3fh5iJh7hX"
      },
      "execution_count": null,
      "outputs": []
    },
    {
      "cell_type": "code",
      "execution_count": null,
      "metadata": {
        "colab": {
          "base_uri": "https://localhost:8080/",
          "height": 49
        },
        "id": "DU69VXWNkNYz",
        "outputId": "d11db0a1-e5e6-4d95-f5c7-b86ee3b09303"
      },
      "outputs": [
        {
          "data": {
            "text/html": [
              "<div>\n",
              "<style scoped>\n",
              "    .dataframe tbody tr th:only-of-type {\n",
              "        vertical-align: middle;\n",
              "    }\n",
              "\n",
              "    .dataframe tbody tr th {\n",
              "        vertical-align: top;\n",
              "    }\n",
              "\n",
              "    .dataframe thead th {\n",
              "        text-align: right;\n",
              "    }\n",
              "</style>\n",
              "<table border=\"1\" class=\"dataframe\">\n",
              "  <thead>\n",
              "    <tr style=\"text-align: right;\">\n",
              "      <th></th>\n",
              "      <th>ID</th>\n",
              "      <th>원문</th>\n",
              "      <th>번역문</th>\n",
              "    </tr>\n",
              "  </thead>\n",
              "  <tbody>\n",
              "  </tbody>\n",
              "</table>\n",
              "</div>"
            ],
            "text/plain": [
              "Empty DataFrame\n",
              "Columns: [ID, 원문, 번역문]\n",
              "Index: []"
            ]
          },
          "execution_count": 26,
          "metadata": {},
          "output_type": "execute_result"
        }
      ],
      "source": [
        "# id 겹치는 것 = 없음\n",
        "data[data.duplicated(['ID'])==True]"
      ]
    },
    {
      "cell_type": "code",
      "execution_count": null,
      "metadata": {
        "colab": {
          "base_uri": "https://localhost:8080/",
          "height": 458
        },
        "id": "O-im3Q_lkaB6",
        "outputId": "cb643d7a-5ab3-45e1-9000-640c0507ca48"
      },
      "outputs": [
        {
          "data": {
            "text/html": [
              "<div>\n",
              "<style scoped>\n",
              "    .dataframe tbody tr th:only-of-type {\n",
              "        vertical-align: middle;\n",
              "    }\n",
              "\n",
              "    .dataframe tbody tr th {\n",
              "        vertical-align: top;\n",
              "    }\n",
              "\n",
              "    .dataframe thead th {\n",
              "        text-align: right;\n",
              "    }\n",
              "</style>\n",
              "<table border=\"1\" class=\"dataframe\">\n",
              "  <thead>\n",
              "    <tr style=\"text-align: right;\">\n",
              "      <th></th>\n",
              "      <th>ID</th>\n",
              "      <th>원문</th>\n",
              "      <th>번역문</th>\n",
              "    </tr>\n",
              "  </thead>\n",
              "  <tbody>\n",
              "    <tr>\n",
              "      <th>1615</th>\n",
              "      <td>ITKC_MO_0004A_0340_010_0050</td>\n",
              "      <td>上延昌侯</td>\n",
              "      <td>\\n연창후에게천경(天經 해[日]를 말한다)이 좌로 돌고 삭통(朔統)이 우로 도니, ...</td>\n",
              "    </tr>\n",
              "    <tr>\n",
              "      <th>1683</th>\n",
              "      <td>ITKC_MO_0004A_0360_010_0040</td>\n",
              "      <td>敎書</td>\n",
              "      <td>\\n\\n관고\\n운운. 대개 지인(至人)의 경지는 사는 것을 즐거움으로 삼지 않고, ...</td>\n",
              "    </tr>\n",
              "    <tr>\n",
              "      <th>1687</th>\n",
              "      <td>ITKC_MO_0004A_0360_010_0080</td>\n",
              "      <td>敎書</td>\n",
              "      <td>\\n\\n교서\\n운운. 대개 국가가 석문(釋門)의 품계를 만들어 놓은 것은, 그 본의...</td>\n",
              "    </tr>\n",
              "    <tr>\n",
              "      <th>1689</th>\n",
              "      <td>ITKC_MO_0004A_0360_010_0100</td>\n",
              "      <td>敎書</td>\n",
              "      <td>\\n\\n교서\\n운운. 대개 대부가 70세가 되면 법에 의하여 사퇴를 원하니 이것이 ...</td>\n",
              "    </tr>\n",
              "    <tr>\n",
              "      <th>1694</th>\n",
              "      <td>ITKC_MO_0004A_0360_010_0150</td>\n",
              "      <td>\\n敎書</td>\n",
              "      <td>\\n운운. 우리나라에서 척리(戚里)에 대하여 공(公)ㆍ후(侯)ㆍ백(伯) 3등의 작위...</td>\n",
              "    </tr>\n",
              "    <tr>\n",
              "      <th>...</th>\n",
              "      <td>...</td>\n",
              "      <td>...</td>\n",
              "      <td>...</td>\n",
              "    </tr>\n",
              "    <tr>\n",
              "      <th>102429</th>\n",
              "      <td>ITKC_MO_0650A_0210_010_0350</td>\n",
              "      <td>大老西歸殷室傾。天心不與獨夫橫。採薇叩馬齊東語。誤了淸風百世名。</td>\n",
              "      <td>\\n\\n대로 서쪽으로 돌아가자 은나라 기울어 / 大老西歸殷室傾천심은 독부의 횡포와 ...</td>\n",
              "    </tr>\n",
              "    <tr>\n",
              "      <th>102430</th>\n",
              "      <td>ITKC_MO_0650A_0210_010_0360</td>\n",
              "      <td>白沙浩漫漫。悲風日暮起。借問此何地。云是古易水。昔日燕儲君。送別入秦士。入秦夫如何。一死酬知...</td>\n",
              "      <td>\\n흰모래 벌 넓고 아득한데 / 白沙浩漫漫슬픈 바람이 석양에 일어나네 / 悲風日暮起...</td>\n",
              "    </tr>\n",
              "    <tr>\n",
              "      <th>103574</th>\n",
              "      <td>ITKC_MO_0663A_0020_010_0390</td>\n",
              "      <td>朝</td>\n",
              "      <td>\\n아침〔朝〕꿈에서 깨자 서창에 달 지려는데 / 夢覺西窓月欲低숲에 내리던 비 비로소...</td>\n",
              "    </tr>\n",
              "    <tr>\n",
              "      <th>104334</th>\n",
              "      <td>ITKC_MO_0663A_0170_010_0140</td>\n",
              "      <td>\\n\\n\\n\\n\\n\\n삽화 새창열기\\n\\n</td>\n",
              "      <td>\\n\\n\\n\\n\\n\\n\\n삽화 새창열기\\n\\n\\n</td>\n",
              "    </tr>\n",
              "    <tr>\n",
              "      <th>105412</th>\n",
              "      <td>ITKC_MO_1252A_0200_010_0510</td>\n",
              "      <td>西山採薇</td>\n",
              "      <td>\\n\\n서산채미(西山採薇)꼿꼿한 서산의 절개여 / 卓卓西山節나라를 서로 양보할 때부...</td>\n",
              "    </tr>\n",
              "  </tbody>\n",
              "</table>\n",
              "<p>317 rows × 3 columns</p>\n",
              "</div>"
            ],
            "text/plain": [
              "                                 ID  \\\n",
              "1615    ITKC_MO_0004A_0340_010_0050   \n",
              "1683    ITKC_MO_0004A_0360_010_0040   \n",
              "1687    ITKC_MO_0004A_0360_010_0080   \n",
              "1689    ITKC_MO_0004A_0360_010_0100   \n",
              "1694    ITKC_MO_0004A_0360_010_0150   \n",
              "...                             ...   \n",
              "102429  ITKC_MO_0650A_0210_010_0350   \n",
              "102430  ITKC_MO_0650A_0210_010_0360   \n",
              "103574  ITKC_MO_0663A_0020_010_0390   \n",
              "104334  ITKC_MO_0663A_0170_010_0140   \n",
              "105412  ITKC_MO_1252A_0200_010_0510   \n",
              "\n",
              "                                                       원문  \\\n",
              "1615                                                 上延昌侯   \n",
              "1683                                                   敎書   \n",
              "1687                                                   敎書   \n",
              "1689                                                   敎書   \n",
              "1694                                                 \\n敎書   \n",
              "...                                                   ...   \n",
              "102429                   大老西歸殷室傾。天心不與獨夫橫。採薇叩馬齊東語。誤了淸風百世名。   \n",
              "102430  白沙浩漫漫。悲風日暮起。借問此何地。云是古易水。昔日燕儲君。送別入秦士。入秦夫如何。一死酬知...   \n",
              "103574                                                  朝   \n",
              "104334                            \\n\\n\\n\\n\\n\\n삽화 새창열기\\n\\n   \n",
              "105412                                               西山採薇   \n",
              "\n",
              "                                                      번역문  \n",
              "1615    \\n연창후에게천경(天經 해[日]를 말한다)이 좌로 돌고 삭통(朔統)이 우로 도니, ...  \n",
              "1683    \\n\\n관고\\n운운. 대개 지인(至人)의 경지는 사는 것을 즐거움으로 삼지 않고, ...  \n",
              "1687    \\n\\n교서\\n운운. 대개 국가가 석문(釋門)의 품계를 만들어 놓은 것은, 그 본의...  \n",
              "1689    \\n\\n교서\\n운운. 대개 대부가 70세가 되면 법에 의하여 사퇴를 원하니 이것이 ...  \n",
              "1694    \\n운운. 우리나라에서 척리(戚里)에 대하여 공(公)ㆍ후(侯)ㆍ백(伯) 3등의 작위...  \n",
              "...                                                   ...  \n",
              "102429  \\n\\n대로 서쪽으로 돌아가자 은나라 기울어 / 大老西歸殷室傾천심은 독부의 횡포와 ...  \n",
              "102430  \\n흰모래 벌 넓고 아득한데 / 白沙浩漫漫슬픈 바람이 석양에 일어나네 / 悲風日暮起...  \n",
              "103574  \\n아침〔朝〕꿈에서 깨자 서창에 달 지려는데 / 夢覺西窓月欲低숲에 내리던 비 비로소...  \n",
              "104334                        \\n\\n\\n\\n\\n\\n\\n삽화 새창열기\\n\\n\\n  \n",
              "105412  \\n\\n서산채미(西山採薇)꼿꼿한 서산의 절개여 / 卓卓西山節나라를 서로 양보할 때부...  \n",
              "\n",
              "[317 rows x 3 columns]"
            ]
          },
          "execution_count": 27,
          "metadata": {},
          "output_type": "execute_result"
        }
      ],
      "source": [
        "#원문 겹치는 것 \n",
        "data[data.duplicated(['원문'])==True]"
      ]
    },
    {
      "cell_type": "code",
      "execution_count": null,
      "metadata": {
        "colab": {
          "base_uri": "https://localhost:8080/",
          "height": 493
        },
        "id": "moFVqJ-fmD5U",
        "outputId": "e8b9bbbf-43d1-4cbc-ec6d-621ae5b69cdf"
      },
      "outputs": [
        {
          "data": {
            "text/html": [
              "<div>\n",
              "<style scoped>\n",
              "    .dataframe tbody tr th:only-of-type {\n",
              "        vertical-align: middle;\n",
              "    }\n",
              "\n",
              "    .dataframe tbody tr th {\n",
              "        vertical-align: top;\n",
              "    }\n",
              "\n",
              "    .dataframe thead th {\n",
              "        text-align: right;\n",
              "    }\n",
              "</style>\n",
              "<table border=\"1\" class=\"dataframe\">\n",
              "  <thead>\n",
              "    <tr style=\"text-align: right;\">\n",
              "      <th></th>\n",
              "      <th>ID</th>\n",
              "      <th>원문</th>\n",
              "      <th>번역문</th>\n",
              "    </tr>\n",
              "  </thead>\n",
              "  <tbody>\n",
              "    <tr>\n",
              "      <th>2250</th>\n",
              "      <td>ITKC_MO_0004A_0500_010_0320</td>\n",
              "      <td>江天暮雪</td>\n",
              "      <td>\\n\\n저물녘에 내리는 강천의 눈\\n해 저물어 어둡지 않은 곳이 없는데 / 晩來無處...</td>\n",
              "    </tr>\n",
              "    <tr>\n",
              "      <th>2789</th>\n",
              "      <td>ITKC_MO_0011A_0060_010_0190</td>\n",
              "      <td>萬尋澄澈靑銅鏡。千尺逶迤白玉虹。怪底古今流不盡。層巖直上是龍宮。</td>\n",
              "      <td>\\n\\n평사(平沙)에 내리는 기러기\\n줄줄이 점점이 가지런했다 비꼈다 / 行行點點整...</td>\n",
              "    </tr>\n",
              "    <tr>\n",
              "      <th>2935</th>\n",
              "      <td>ITKC_MO_0011A_0130_030_0020</td>\n",
              "      <td>問。孟子曰。夏后氏五十而貢。殷人七十而助。周人百畝而徹。其實皆什一也。又曰。仁政必自經界始。...</td>\n",
              "      <td>\\n묻노라.《논어(論語)》를 읽을 때에는 언제나 여러 제자들이 물은 것을 자신이 직...</td>\n",
              "    </tr>\n",
              "    <tr>\n",
              "      <th>2936</th>\n",
              "      <td>ITKC_MO_0011A_0130_030_0030</td>\n",
              "      <td>問。帝王之統。若四時之相代。有不可紊。天命人心之所歸。又不可誣也。三五已前。遐哉邈乎。雖有載...</td>\n",
              "      <td>\\n묻노라.《논어(論語)》를 읽을 때에는 언제나 여러 제자들이 물은 것을 자신이 직...</td>\n",
              "    </tr>\n",
              "    <tr>\n",
              "      <th>2937</th>\n",
              "      <td>ITKC_MO_0011A_0130_030_0040</td>\n",
              "      <td>問。論語曰。旣庶矣。富之。旣富矣。敎之。又曰。善人敎民七年。可使卽戎。又曰。善人爲邦百年。亦...</td>\n",
              "      <td>\\n묻노라.《논어(論語)》를 읽을 때에는 언제나 여러 제자들이 물은 것을 자신이 직...</td>\n",
              "    </tr>\n",
              "    <tr>\n",
              "      <th>...</th>\n",
              "      <td>...</td>\n",
              "      <td>...</td>\n",
              "      <td>...</td>\n",
              "    </tr>\n",
              "    <tr>\n",
              "      <th>103579</th>\n",
              "      <td>ITKC_MO_0663A_0020_010_0440</td>\n",
              "      <td>擘岸揷靑冥。參天抱雲木。寺樓刱何年。巍然當其谷。傑閣始隱映。長廊乍起伏。燈炯照僧衣。鍾動隨佛...</td>\n",
              "      <td>\\n출발을 기록하다〔紀發行〕약관의 나이에 산수 구경 좋아하니 / 弱歲喜幽賞진토는 편...</td>\n",
              "    </tr>\n",
              "    <tr>\n",
              "      <th>103580</th>\n",
              "      <td>ITKC_MO_0663A_0020_010_0450</td>\n",
              "      <td>仲秋深谷寒。行子心悄悄。一路稍依微。千山遞遶圍。苦竹不見外。村落時縹緲。其人虎爲羣。其屋日不...</td>\n",
              "      <td>\\n출발을 기록하다〔紀發行〕약관의 나이에 산수 구경 좋아하니 / 弱歲喜幽賞진토는 편...</td>\n",
              "    </tr>\n",
              "    <tr>\n",
              "      <th>103581</th>\n",
              "      <td>ITKC_MO_0663A_0020_010_0460</td>\n",
              "      <td>\\n乾坤闢鴻濛。山嶽氣所凝。茲峰一卷撮。萬里乃相仍。我來値秋半。風高天宇澄。穹林拂蒙鬱。絶壑...</td>\n",
              "      <td>\\n출발을 기록하다〔紀發行〕약관의 나이에 산수 구경 좋아하니 / 弱歲喜幽賞진토는 편...</td>\n",
              "    </tr>\n",
              "    <tr>\n",
              "      <th>103582</th>\n",
              "      <td>ITKC_MO_0663A_0020_010_0470</td>\n",
              "      <td>昔遊大源寺。愛此無塵雜。吟哦共詩流。選搜携殘衲。徘徊盡淸奇。夢寐思騰踏。今秋興何長。雙屐無餘...</td>\n",
              "      <td>\\n출발을 기록하다〔紀發行〕약관의 나이에 산수 구경 좋아하니 / 弱歲喜幽賞진토는 편...</td>\n",
              "    </tr>\n",
              "    <tr>\n",
              "      <th>104334</th>\n",
              "      <td>ITKC_MO_0663A_0170_010_0140</td>\n",
              "      <td>\\n\\n\\n\\n\\n\\n삽화 새창열기\\n\\n</td>\n",
              "      <td>\\n\\n\\n\\n\\n\\n\\n삽화 새창열기\\n\\n\\n</td>\n",
              "    </tr>\n",
              "  </tbody>\n",
              "</table>\n",
              "<p>1268 rows × 3 columns</p>\n",
              "</div>"
            ],
            "text/plain": [
              "                                 ID  \\\n",
              "2250    ITKC_MO_0004A_0500_010_0320   \n",
              "2789    ITKC_MO_0011A_0060_010_0190   \n",
              "2935    ITKC_MO_0011A_0130_030_0020   \n",
              "2936    ITKC_MO_0011A_0130_030_0030   \n",
              "2937    ITKC_MO_0011A_0130_030_0040   \n",
              "...                             ...   \n",
              "103579  ITKC_MO_0663A_0020_010_0440   \n",
              "103580  ITKC_MO_0663A_0020_010_0450   \n",
              "103581  ITKC_MO_0663A_0020_010_0460   \n",
              "103582  ITKC_MO_0663A_0020_010_0470   \n",
              "104334  ITKC_MO_0663A_0170_010_0140   \n",
              "\n",
              "                                                       원문  \\\n",
              "2250                                                 江天暮雪   \n",
              "2789                     萬尋澄澈靑銅鏡。千尺逶迤白玉虹。怪底古今流不盡。層巖直上是龍宮。   \n",
              "2935    問。孟子曰。夏后氏五十而貢。殷人七十而助。周人百畝而徹。其實皆什一也。又曰。仁政必自經界始。...   \n",
              "2936    問。帝王之統。若四時之相代。有不可紊。天命人心之所歸。又不可誣也。三五已前。遐哉邈乎。雖有載...   \n",
              "2937    問。論語曰。旣庶矣。富之。旣富矣。敎之。又曰。善人敎民七年。可使卽戎。又曰。善人爲邦百年。亦...   \n",
              "...                                                   ...   \n",
              "103579  擘岸揷靑冥。參天抱雲木。寺樓刱何年。巍然當其谷。傑閣始隱映。長廊乍起伏。燈炯照僧衣。鍾動隨佛...   \n",
              "103580  仲秋深谷寒。行子心悄悄。一路稍依微。千山遞遶圍。苦竹不見外。村落時縹緲。其人虎爲羣。其屋日不...   \n",
              "103581  \\n乾坤闢鴻濛。山嶽氣所凝。茲峰一卷撮。萬里乃相仍。我來値秋半。風高天宇澄。穹林拂蒙鬱。絶壑...   \n",
              "103582  昔遊大源寺。愛此無塵雜。吟哦共詩流。選搜携殘衲。徘徊盡淸奇。夢寐思騰踏。今秋興何長。雙屐無餘...   \n",
              "104334                            \\n\\n\\n\\n\\n\\n삽화 새창열기\\n\\n   \n",
              "\n",
              "                                                      번역문  \n",
              "2250    \\n\\n저물녘에 내리는 강천의 눈\\n해 저물어 어둡지 않은 곳이 없는데 / 晩來無處...  \n",
              "2789    \\n\\n평사(平沙)에 내리는 기러기\\n줄줄이 점점이 가지런했다 비꼈다 / 行行點點整...  \n",
              "2935    \\n묻노라.《논어(論語)》를 읽을 때에는 언제나 여러 제자들이 물은 것을 자신이 직...  \n",
              "2936    \\n묻노라.《논어(論語)》를 읽을 때에는 언제나 여러 제자들이 물은 것을 자신이 직...  \n",
              "2937    \\n묻노라.《논어(論語)》를 읽을 때에는 언제나 여러 제자들이 물은 것을 자신이 직...  \n",
              "...                                                   ...  \n",
              "103579  \\n출발을 기록하다〔紀發行〕약관의 나이에 산수 구경 좋아하니 / 弱歲喜幽賞진토는 편...  \n",
              "103580  \\n출발을 기록하다〔紀發行〕약관의 나이에 산수 구경 좋아하니 / 弱歲喜幽賞진토는 편...  \n",
              "103581  \\n출발을 기록하다〔紀發行〕약관의 나이에 산수 구경 좋아하니 / 弱歲喜幽賞진토는 편...  \n",
              "103582  \\n출발을 기록하다〔紀發行〕약관의 나이에 산수 구경 좋아하니 / 弱歲喜幽賞진토는 편...  \n",
              "104334                        \\n\\n\\n\\n\\n\\n\\n삽화 새창열기\\n\\n\\n  \n",
              "\n",
              "[1268 rows x 3 columns]"
            ]
          },
          "execution_count": 28,
          "metadata": {},
          "output_type": "execute_result"
        }
      ],
      "source": [
        "#번역문 겹치는 것  => 논의 필요 \n",
        "data[data.duplicated(['번역문'])==True]"
      ]
    },
    {
      "cell_type": "code",
      "execution_count": null,
      "metadata": {
        "colab": {
          "base_uri": "https://localhost:8080/",
          "height": 493
        },
        "id": "W50jw2rlVvYk",
        "outputId": "2a4d8ed8-9826-47b0-f3ab-e524184ac257"
      },
      "outputs": [
        {
          "data": {
            "text/html": [
              "<div>\n",
              "<style scoped>\n",
              "    .dataframe tbody tr th:only-of-type {\n",
              "        vertical-align: middle;\n",
              "    }\n",
              "\n",
              "    .dataframe tbody tr th {\n",
              "        vertical-align: top;\n",
              "    }\n",
              "\n",
              "    .dataframe thead th {\n",
              "        text-align: right;\n",
              "    }\n",
              "</style>\n",
              "<table border=\"1\" class=\"dataframe\">\n",
              "  <thead>\n",
              "    <tr style=\"text-align: right;\">\n",
              "      <th></th>\n",
              "      <th>ID</th>\n",
              "      <th>원문</th>\n",
              "      <th>번역문</th>\n",
              "    </tr>\n",
              "  </thead>\n",
              "  <tbody>\n",
              "    <tr>\n",
              "      <th>0</th>\n",
              "      <td>ITKC_MO_0001A_0010_010_0010</td>\n",
              "      <td>記有之。曰酒醴之美。而玄酒明水之尙。貴五味之本也。黼黻文繡之美。而疏布之尙。反女功之始也。古...</td>\n",
              "      <td>\\n《예기》에 이르기를 “단술이 맛이 좋긴 하지만 제사 때에 현주와 명수 같은 물을...</td>\n",
              "    </tr>\n",
              "    <tr>\n",
              "      <th>1</th>\n",
              "      <td>ITKC_MO_0001A_0010_010_0020</td>\n",
              "      <td>桂苑筆耕集二十卷。新羅孤雲崔公在唐淮南幕府時公私應酬之作。而東還之後。手編表進于朝者也公名致...</td>\n",
              "      <td>\\n《계원필경집》 20권은 신라의 고운(孤雲) 최공(崔公)이 당나라 회남(淮南) 막...</td>\n",
              "    </tr>\n",
              "    <tr>\n",
              "      <th>2</th>\n",
              "      <td>ITKC_MO_0001A_0010_010_0030</td>\n",
              "      <td>淮南入本國兼送詔書等使前都統巡官承務郎侍御史內供奉賜紫金魚袋臣崔致遠進所著雜詩賦及表奏集二十...</td>\n",
              "      <td>\\n회남(淮南)에서 본국에 들어오면서 조서(詔書) 등을 보내는 사신을 겸한, 전(前...</td>\n",
              "    </tr>\n",
              "    <tr>\n",
              "      <th>3</th>\n",
              "      <td>ITKC_MO_0001A_0020_010_0010</td>\n",
              "      <td>臣某言。今月某日。得進奏院狀報。奉十一日宣下改廣明元年爲中和元年者。展義龜城。易名鳳紀。美號...</td>\n",
              "      <td>\\n신(臣) 모(某)는 아룁니다.금월(今月) 모일(某日)에 진주원(進奏院)의 장보(...</td>\n",
              "    </tr>\n",
              "    <tr>\n",
              "      <th>4</th>\n",
              "      <td>ITKC_MO_0001A_0020_010_0020</td>\n",
              "      <td>臣某言。臣得進奏院狀報。入南蠻通和使劉光裕等廻。雲南通和兼進獻國信金銀器物疋段香藥馬等者。天...</td>\n",
              "      <td>\\n신 모는 아룁니다.신이 진주원의 장보를 얻어 보건대, 입남만통화사(入南蠻通和使)...</td>\n",
              "    </tr>\n",
              "    <tr>\n",
              "      <th>...</th>\n",
              "      <td>...</td>\n",
              "      <td>...</td>\n",
              "      <td>...</td>\n",
              "    </tr>\n",
              "    <tr>\n",
              "      <th>105619</th>\n",
              "      <td>ITKC_MO_1252A_0270_000_0040</td>\n",
              "      <td>公諱晩燾字觀必姓李。退溪文純公后。大司成彙濬娶弼善姜橒女无育。繼娶僉樞宋在憲女。憲宗壬寅生公...</td>\n",
              "      <td>\\n공은 휘는 만도(晩燾), 자는 관필(觀必)이며, 성은 이씨(李氏)로 퇴계(退溪)...</td>\n",
              "    </tr>\n",
              "    <tr>\n",
              "      <th>105620</th>\n",
              "      <td>ITKC_MO_1252A_0280_000_0010</td>\n",
              "      <td>府君諱晩燾字觀必。號響山。又曰直齋。姓李氏。始祖諱碩。麗末以眞寶縣吏中司馬。生諱子脩。登第討...</td>\n",
              "      <td>\\n부군은 휘는 만도(晩燾), 자는 관필(觀必), 호는 향산(響山) 혹은 직제(直齋...</td>\n",
              "    </tr>\n",
              "    <tr>\n",
              "      <th>105621</th>\n",
              "      <td>ITKC_MO_1252A_0290_000_0010</td>\n",
              "      <td>此吾響山公手藳之名訒出編者也。殉國之粤六年丙辰。吾黨之士。就其中節略爲十九卷原集。又以門生子...</td>\n",
              "      <td>\\n이것은 우리 향산공(響山公)의 수고(手藁)로, 《인출편(訒出編)》이라고 하는 것...</td>\n",
              "    </tr>\n",
              "    <tr>\n",
              "      <th>105622</th>\n",
              "      <td>ITKC_MO_1252A_0290_000_0020</td>\n",
              "      <td>文者氣之所形也。氣必充積而後文亦有格力。故觀於文而其人槩可想矣。然氣不可力以致。其得於天者。...</td>\n",
              "      <td>\\n글이란 기(氣)가 드러난 것이며, 기가 충만(充滿)한 뒤에라야 글 역시 격조(格...</td>\n",
              "    </tr>\n",
              "    <tr>\n",
              "      <th>105623</th>\n",
              "      <td>ITKC_MO_1252A_0290_000_0030</td>\n",
              "      <td>嗚呼。此吾響山公遺文也。公大節旣昭然如日星之在天。其不朽何待乎文哉。獨後死者之論。以爲公歿而...</td>\n",
              "      <td>\\n오호라, 이 책은 우리 향산공(響山公)의 유문(遺文)이다. 공의 큰 절의가 이미...</td>\n",
              "    </tr>\n",
              "  </tbody>\n",
              "</table>\n",
              "<p>104127 rows × 3 columns</p>\n",
              "</div>"
            ],
            "text/plain": [
              "                                 ID  \\\n",
              "0       ITKC_MO_0001A_0010_010_0010   \n",
              "1       ITKC_MO_0001A_0010_010_0020   \n",
              "2       ITKC_MO_0001A_0010_010_0030   \n",
              "3       ITKC_MO_0001A_0020_010_0010   \n",
              "4       ITKC_MO_0001A_0020_010_0020   \n",
              "...                             ...   \n",
              "105619  ITKC_MO_1252A_0270_000_0040   \n",
              "105620  ITKC_MO_1252A_0280_000_0010   \n",
              "105621  ITKC_MO_1252A_0290_000_0010   \n",
              "105622  ITKC_MO_1252A_0290_000_0020   \n",
              "105623  ITKC_MO_1252A_0290_000_0030   \n",
              "\n",
              "                                                       원문  \\\n",
              "0       記有之。曰酒醴之美。而玄酒明水之尙。貴五味之本也。黼黻文繡之美。而疏布之尙。反女功之始也。古...   \n",
              "1       桂苑筆耕集二十卷。新羅孤雲崔公在唐淮南幕府時公私應酬之作。而東還之後。手編表進于朝者也公名致...   \n",
              "2       淮南入本國兼送詔書等使前都統巡官承務郎侍御史內供奉賜紫金魚袋臣崔致遠進所著雜詩賦及表奏集二十...   \n",
              "3       臣某言。今月某日。得進奏院狀報。奉十一日宣下改廣明元年爲中和元年者。展義龜城。易名鳳紀。美號...   \n",
              "4       臣某言。臣得進奏院狀報。入南蠻通和使劉光裕等廻。雲南通和兼進獻國信金銀器物疋段香藥馬等者。天...   \n",
              "...                                                   ...   \n",
              "105619  公諱晩燾字觀必姓李。退溪文純公后。大司成彙濬娶弼善姜橒女无育。繼娶僉樞宋在憲女。憲宗壬寅生公...   \n",
              "105620  府君諱晩燾字觀必。號響山。又曰直齋。姓李氏。始祖諱碩。麗末以眞寶縣吏中司馬。生諱子脩。登第討...   \n",
              "105621  此吾響山公手藳之名訒出編者也。殉國之粤六年丙辰。吾黨之士。就其中節略爲十九卷原集。又以門生子...   \n",
              "105622  文者氣之所形也。氣必充積而後文亦有格力。故觀於文而其人槩可想矣。然氣不可力以致。其得於天者。...   \n",
              "105623  嗚呼。此吾響山公遺文也。公大節旣昭然如日星之在天。其不朽何待乎文哉。獨後死者之論。以爲公歿而...   \n",
              "\n",
              "                                                      번역문  \n",
              "0       \\n《예기》에 이르기를 “단술이 맛이 좋긴 하지만 제사 때에 현주와 명수 같은 물을...  \n",
              "1       \\n《계원필경집》 20권은 신라의 고운(孤雲) 최공(崔公)이 당나라 회남(淮南) 막...  \n",
              "2       \\n회남(淮南)에서 본국에 들어오면서 조서(詔書) 등을 보내는 사신을 겸한, 전(前...  \n",
              "3       \\n신(臣) 모(某)는 아룁니다.금월(今月) 모일(某日)에 진주원(進奏院)의 장보(...  \n",
              "4       \\n신 모는 아룁니다.신이 진주원의 장보를 얻어 보건대, 입남만통화사(入南蠻通和使)...  \n",
              "...                                                   ...  \n",
              "105619  \\n공은 휘는 만도(晩燾), 자는 관필(觀必)이며, 성은 이씨(李氏)로 퇴계(退溪)...  \n",
              "105620  \\n부군은 휘는 만도(晩燾), 자는 관필(觀必), 호는 향산(響山) 혹은 직제(直齋...  \n",
              "105621  \\n이것은 우리 향산공(響山公)의 수고(手藁)로, 《인출편(訒出編)》이라고 하는 것...  \n",
              "105622  \\n글이란 기(氣)가 드러난 것이며, 기가 충만(充滿)한 뒤에라야 글 역시 격조(格...  \n",
              "105623  \\n오호라, 이 책은 우리 향산공(響山公)의 유문(遺文)이다. 공의 큰 절의가 이미...  \n",
              "\n",
              "[104127 rows x 3 columns]"
            ]
          },
          "execution_count": 6,
          "metadata": {},
          "output_type": "execute_result"
        }
      ],
      "source": [
        "data = data.drop_duplicates(['번역문'])\n",
        "data"
      ]
    },
    {
      "cell_type": "code",
      "execution_count": null,
      "metadata": {
        "id": "qoUbVSZgV8mm"
      },
      "outputs": [],
      "source": [
        "# data_dup.to_pickle('한국문집총간_trans_duplicate.pickle')"
      ]
    },
    {
      "cell_type": "markdown",
      "metadata": {
        "id": "RzsEjYOilfZU"
      },
      "source": [
        "### 번역문 한자 및 특수문자 제거"
      ]
    },
    {
      "cell_type": "code",
      "execution_count": null,
      "metadata": {
        "id": "oASMN5tqlWmm"
      },
      "outputs": [],
      "source": [
        "# 전처리 함수화\n",
        "# def preprocess(title,text):\n",
        "#     text = re.sub(f'\\n{title}\\n\\n<sep>','',text)\n",
        "#     text = re.sub(f'^\\n{title}\\n\\n','',text)\n",
        "#     text = re.sub('<sep>\\n\\n$','',text)\n",
        "#     text = re.sub('\\n',' ',text)\n",
        "#     text = re.sub('\\=+ \\d{1,} \\=+(\\<sep\\>)*','',text)\n",
        "    \n",
        "#     #한자제거 추가\n",
        "#     text = re.sub(r'\\([\\W]*\\)', '', text)\n",
        "#     text = re.sub('[一-龥]', '', text)\n",
        "#     text = re.sub(\"[()]\",\"\", text)\n",
        "    \n",
        "#     text = regex.sub('\\=+ \\p{Hangul}+ \\=+(\\<sep\\>)*','',text)\n",
        "#     text = regex.sub('\\=+ \\p{Han}+ \\=+(\\<sep\\>)*','',text)\n",
        "#     text = text.strip()\n",
        "#     text = re.sub('<sep>\\n*$','',text)\n",
        "#     text_list = text.split('<sep>')\n",
        "#     text_list = [x.strip() for x in text_list if not re.match('\\=+.+\\=+',x)]\n",
        "#     # text_list = [x for x in text_list if not re.match('\\=+.+\\=+',x)]\n",
        "#     return text_list"
      ]
    },
    {
      "cell_type": "code",
      "execution_count": null,
      "metadata": {
        "id": "i4JwAj2eWj1O"
      },
      "outputs": [],
      "source": [
        "def preprocess(text):\n",
        "    text = re.sub('\\n',' ',text).strip()\n",
        "    text = re.sub(\"[()《》〔〕]\",\"\", text)\n",
        "    text = re.sub('[一-龥]', '', text)\n",
        "    text = regex.sub('\\(\\p{Han}+\\)','',text)\n",
        "    return text"
      ]
    },
    {
      "cell_type": "code",
      "execution_count": null,
      "metadata": {
        "id": "e2OuQBclWj1P",
        "outputId": "0c9b6535-26e9-405a-fa49-f57a65d30417"
      },
      "outputs": [
        {
          "data": {
            "text/plain": [
              "'예기에 이르기를 “단술이 맛이 좋긴 하지만 제사 때에 현주와 명수 같은 물을 윗자리에 놓는 것은 물이 모든 맛의 근본임을 중시하려고 해서이다. 각종 화려한 무늬의 옷감이 아름답기는 하지만 제사 때에 거친 삼베로 동이를 덮는 것은 부녀자들이 하는 길쌈질의 시초를 돌아보고 귀하게 여기려 해서이다.     ”라고 하였다. 옛날의 군자가 그 근본과 시초를 반드시 중하게 여기려 한 것이 이와 같았다.우리 동방에 문장이 나와서 글을 지어 후세에 전할 수 있게 된 것은 고운 최공으로부터 비롯되었다. 그리고 우리 동방의 선비로서 북쪽으로 중국에 유학하여 문장으로 천하에 명성을 떨친 것도 최공으로부터 시작되었다. 최공의 글 가운데 후세에 전하는 것으로는 오직 계원필경과 중산복궤집 2부가 있을 뿐이다. 그러고 보면 이 2부의 서책이 또한 우리 동방 문장의 근본이요 시초라고 할 것이다.글을 숭상하는 우리 동방의 풍조가 아조에 이르러서는 더욱 빛나고 무르익어 집집마다 연허와 조유가 배출되면서 시와 문으로 문집을 이룬 것이 집을 가득 채울 정도로 엄청나게 많았다. 하지만 최공의 글을 아는 사람은 드물기만 하였다.내가 일찍이 근대 사람이 편찬한 동국서목을 보니 중산복궤집이 실려 있기에 널리 구해 보았지만 끝내 얻지 못하였다. 다만 계원필경 20권은 우리 집안에서 대대로 소장해 왔으므로 내가 어려서부터 진귀한 글로 알고서 음미해 왔다. 그러나 간혹 사람들과 이야기를 나누다 보면, 비록 박아하고 글을 잘하며 옛것을 좋아하는 자라고 할지라도 모두 그 글을 본 적이 없다고 말하고 있으니, 그러고 보면 이 글이 거의 없어질 지경에 이르렀다고 해야 할 것이다. 만약 이 글이 동방에 전하지 않게 된다면, 이는 현주를 태실에 진설하지 않는 것과 같고, 거친 삼베로 제사용 술동이를 덮지 않는 것과 같게 될 것이니, 어떻게 백성에게 근본을 잊지 말라고 가르칠 수가 있겠는가.세상에서는 간혹 공의 글이 모두 변려 사륙문으로서 옛 작자의 글과는 완전히 다르다고 비평하기도 한다. 그러나 공이 중국에 들어가서 활동한 것이 당나라 의종과 희종 연간이었는데, 당시에 중국의 글이 변려문을 전문으로 일삼았던 것을 감안할 때 공이 그 풍조에 따랐던 것은 원래 어쩔 수 없는 점이 있었다고 해야 할 것이다.그렇긴 하지만 공이 지은 글을 보면 왕왕 화려하면서도 들뜨지 않은 것이 많음을 알 수 있다. 가령 황소에게 보낸 격문 1편만을 보더라도 기운이 굳세고 뜻이 곧으니 결코 교묘하게 아로새기려 한 것이 아니요, 그가 지은 시 역시 평이하고 우아하니 만당의 사람들이 미칠 수 있는 바가 더욱 아니라고 할 것이다. 이는 대개 명수와 거친 삼베 같은 바탕 위에 단술의 맛과 화려한 옷감의 아름다움을 겸한 것이라고 할 것이니, 이 어찌 더욱 보배로 여겨야 할 일이 아니겠는가.공이 중국에서 과거에 급제하고 군부에 들어갔으니 이것만으로도 벌써 당시에 명성을 떨쳤다고 할 것인데, 공은 하루아침에 그만두고 떠나오면서 마치 헌 신발을 벗어버리듯 하였다. 그 뒤 동방에 돌아와서는 한원에 오르고 병부 시랑을 거쳐 아찬에 이르렀는데, 아찬은 신라의 대관이었다. 게다가 현달할 길이 바야흐로 끝나지 않았는데도, 공은 또 스스로 산림의 적막한 곳으로 나아가 배회하며 그 몸을 마치면서도 후회하지 않았다. 이는 대개 그 시대가 모두 뜻있는 일을 할 만한 상황이 아니라고 판단하였기 때문이다.사군자가 몸을 세우고 도를 행함에 있어서는 출처를 어떻게 하느냐가 가장 중요하다고 할 것이다. 그런데 출처에 있어서 그 때를 잃지 않는 것은 현자가 아니고서는 불가능한 일이다. 현자가 지은 글이라면 당연히 세상에 전하지 않는 일이 없게 해야 할 것인데, 더군다나 그 글이 저토록 걸출하고 또 동국 문장의 근본과 시초가 되는 데야 더 말해 무엇 하겠는가.호남 관찰사 서공 준평 서유구은 바로 내가 박아하고 글을 잘하며 옛것을 좋아하는 자라고 칭한 그 사람이다. 내가 이 글을 소장하고 있다는 말을 듣고는 얼른 가져다가 교열한 뒤에 자기 봉록을 털어 활자로 인쇄해서 수십 백 본을 만들어 널리 전파하려 하면서 “이 글이 동국에서 끊어지게 해서는 안 된다.”라고 하였다.아, 근본과 시초를 잊지 않는 것이야말로 백성에게 후덕함을 가르치는 것이요, 현인을 표장하는 것이야말로 백성에게 착한 일을 권면하는 것이다. 서공의 마음 씀이 이와 같으니, 그가 호남에서 행하는 정사가 어떠할지를 또한 알 수가 있다.이 일이 완료된 뒤에 서공이 나에게 부탁하기를 “그대가 바로 이 글을 전하였으니, 지금 한마디 말을 아껴서는 안 된다.”라고 하기에, 내가 사양하였으나 허락을 얻지 못하였다. 최공의 행적의 본말과 이 글의 고증 자료 등에 대해서는 서공의 서문에 자세히 나와 있으니 내가 더 이상 덧붙일 말이 없다. 갑오년1834, 순조34 9월에 대광보국숭록대부 의정부 좌의정 풍산 홍석주는 서문을 쓰다.'"
            ]
          },
          "execution_count": 8,
          "metadata": {},
          "output_type": "execute_result"
        }
      ],
      "source": [
        "preprocess(data['번역문'][0])"
      ]
    },
    {
      "cell_type": "code",
      "execution_count": null,
      "metadata": {
        "id": "OvyMI5gSSiGI"
      },
      "outputs": [],
      "source": [
        "data=data.reset_index(drop=True)"
      ]
    },
    {
      "cell_type": "code",
      "execution_count": null,
      "metadata": {
        "colab": {
          "base_uri": "https://localhost:8080/"
        },
        "id": "XLna9R_TSK7N",
        "outputId": "9f2e9624-dd9a-4715-910e-6375b1c59a98"
      },
      "outputs": [
        {
          "name": "stderr",
          "output_type": "stream",
          "text": [
            "100%|██████████| 104127/104127 [00:05<00:00, 17671.18it/s]\n",
            "/tmp/ipykernel_649961/1663847976.py:1: SettingWithCopyWarning: \n",
            "A value is trying to be set on a copy of a slice from a DataFrame.\n",
            "Try using .loc[row_indexer,col_indexer] = value instead\n",
            "\n",
            "See the caveats in the documentation: https://pandas.pydata.org/pandas-docs/stable/user_guide/indexing.html#returning-a-view-versus-a-copy\n",
            "  data['text_list'] = data.progress_apply(lambda x:preprocess(x['번역문']),axis=1)\n"
          ]
        },
        {
          "data": {
            "text/plain": [
              "0         예기에 이르기를 “단술이 맛이 좋긴 하지만 제사 때에 현주와 명수 같은 물을 윗자리...\n",
              "1         계원필경집 20권은 신라의 고운 최공이 당나라 회남 막부에 있을 때 공적으로나 사적...\n",
              "2         회남에서 본국에 들어오면서 조서 등을 보내는 사신을 겸한, 전 도통순관 승무랑 시어...\n",
              "3         신 모는 아룁니다.금월 모일에 진주원의 장보를 얻어서 11일에 선하된 내용을 살펴보...\n",
              "4         신 모는 아룁니다.신이 진주원의 장보를 얻어 보건대, 입남만통화사 유광유 등이 돌아...\n",
              "                                ...                        \n",
              "105619    공은 휘는 만도, 자는 관필이며, 성은 이씨로 퇴계 문순공의 후손이다. 대사성 휘준...\n",
              "105620    부군은 휘는 만도, 자는 관필, 호는 향산 혹은 직제이며 성은 이씨이다. 시조 휘 ...\n",
              "105621    이것은 우리 향산공의 수고로, 인출편이라고 하는 것이다. 공이 순국하신 지 6년이 ...\n",
              "105622    글이란 기가 드러난 것이며, 기가 충만한 뒤에라야 글 역시 격조가 생기므로, 글을 ...\n",
              "105623    오호라, 이 책은 우리 향산공의 유문이다. 공의 큰 절의가 이미 하늘에 있는 해와 ...\n",
              "Name: text_list, Length: 104127, dtype: object"
            ]
          },
          "execution_count": 9,
          "metadata": {},
          "output_type": "execute_result"
        }
      ],
      "source": [
        "data['text_list'] = data.progress_apply(lambda x:preprocess(x['번역문']),axis=1)\n",
        "data['text_list']"
      ]
    },
    {
      "cell_type": "code",
      "execution_count": null,
      "metadata": {
        "id": "pFtCPSyyE5VH"
      },
      "outputs": [],
      "source": [
        "# data_dup['text_list'] = data_dup['text_list'].astype(str)"
      ]
    },
    {
      "cell_type": "code",
      "execution_count": null,
      "metadata": {
        "id": "aDIrZefY-2lz",
        "outputId": "d7b29f4c-96df-409e-b1cb-19941da60208"
      },
      "outputs": [
        {
          "data": {
            "text/plain": [
              "0         예기에 이르기를 “단술이 맛이 좋긴 하지만 제사 때에 현주와 명수 같은 물을 윗자리...\n",
              "1         계원필경집 20권은 신라의 고운 최공이 당나라 회남 막부에 있을 때 공적으로나 사적...\n",
              "2         회남에서 본국에 들어오면서 조서 등을 보내는 사신을 겸한, 전 도통순관 승무랑 시어...\n",
              "3         신 모는 아룁니다.금월 모일에 진주원의 장보를 얻어서 11일에 선하된 내용을 살펴보...\n",
              "4         신 모는 아룁니다.신이 진주원의 장보를 얻어 보건대, 입남만통화사 유광유 등이 돌아...\n",
              "                                ...                        \n",
              "105619    공은 휘는 만도, 자는 관필이며, 성은 이씨로 퇴계 문순공의 후손이다. 대사성 휘준...\n",
              "105620    부군은 휘는 만도, 자는 관필, 호는 향산 혹은 직제이며 성은 이씨이다. 시조 휘 ...\n",
              "105621    이것은 우리 향산공의 수고로, 인출편이라고 하는 것이다. 공이 순국하신 지 6년이 ...\n",
              "105622    글이란 기가 드러난 것이며, 기가 충만한 뒤에라야 글 역시 격조가 생기므로, 글을 ...\n",
              "105623    오호라, 이 책은 우리 향산공의 유문이다. 공의 큰 절의가 이미 하늘에 있는 해와 ...\n",
              "Name: text_list, Length: 104127, dtype: object"
            ]
          },
          "execution_count": 10,
          "metadata": {},
          "output_type": "execute_result"
        }
      ],
      "source": [
        "data['text_list']"
      ]
    },
    {
      "cell_type": "markdown",
      "metadata": {
        "id": "WZJ7l5jXkF9V"
      },
      "source": [
        "##### 문단 -> 문장"
      ]
    },
    {
      "cell_type": "code",
      "execution_count": null,
      "metadata": {
        "id": "E_ihyAPD_obt"
      },
      "outputs": [],
      "source": [
        "# 문단 -> 문장 (오래걸림)\n",
        "# data_dup['sentence'] = data_dup['text_list'].progress_map(lambda x:split_sentences(x, backend='mecab', disable_gc=True))\n",
        "# data_dup['sentence']"
      ]
    },
    {
      "cell_type": "code",
      "execution_count": null,
      "metadata": {
        "id": "RMYmUQRuWj1R",
        "outputId": "451d56f8-7714-43bc-9431-a88957d0078f"
      },
      "outputs": [
        {
          "name": "stderr",
          "output_type": "stream",
          "text": [
            "100%|██████████| 104127/104127 [00:00<00:00, 199354.79it/s]\n",
            "/tmp/ipykernel_649961/3797538806.py:2: SettingWithCopyWarning: \n",
            "A value is trying to be set on a copy of a slice from a DataFrame.\n",
            "Try using .loc[row_indexer,col_indexer] = value instead\n",
            "\n",
            "See the caveats in the documentation: https://pandas.pydata.org/pandas-docs/stable/user_guide/indexing.html#returning-a-view-versus-a-copy\n",
            "  data['sentence'] = data['text_list'].progress_map(lambda x:x.split('.'))\n"
          ]
        },
        {
          "data": {
            "text/plain": [
              "0         [예기에 이르기를 “단술이 맛이 좋긴 하지만 제사 때에 현주와 명수 같은 물을 윗자...\n",
              "1         [계원필경집 20권은 신라의 고운 최공이 당나라 회남 막부에 있을 때 공적으로나 사...\n",
              "2         [회남에서 본국에 들어오면서 조서 등을 보내는 사신을 겸한, 전 도통순관 승무랑 시...\n",
              "3         [신 모는 아룁니다, 금월 모일에 진주원의 장보를 얻어서 11일에 선하된 내용을 살...\n",
              "4         [신 모는 아룁니다, 신이 진주원의 장보를 얻어 보건대, 입남만통화사 유광유 등이 ...\n",
              "                                ...                        \n",
              "105619    [공은 휘는 만도, 자는 관필이며, 성은 이씨로 퇴계 문순공의 후손이다,  대사성 ...\n",
              "105620    [부군은 휘는 만도, 자는 관필, 호는 향산 혹은 직제이며 성은 이씨이다,  시조 ...\n",
              "105621    [이것은 우리 향산공의 수고로, 인출편이라고 하는 것이다,  공이 순국하신 지 6년...\n",
              "105622    [글이란 기가 드러난 것이며, 기가 충만한 뒤에라야 글 역시 격조가 생기므로, 글을...\n",
              "105623    [오호라, 이 책은 우리 향산공의 유문이다,  공의 큰 절의가 이미 하늘에 있는 해...\n",
              "Name: sentence, Length: 104127, dtype: object"
            ]
          },
          "execution_count": 11,
          "metadata": {},
          "output_type": "execute_result"
        }
      ],
      "source": [
        "# 문단 -> 문장 (마침표 기준으로 분할)\n",
        "data['sentence'] = data['text_list'].progress_map(lambda x:x.split('.'))\n",
        "data['sentence']"
      ]
    },
    {
      "cell_type": "code",
      "execution_count": null,
      "metadata": {
        "id": "Zm9BCyfBWj1R"
      },
      "outputs": [],
      "source": [
        "data = data.explode(['sentence']).reset_index(drop=True)"
      ]
    },
    {
      "cell_type": "markdown",
      "metadata": {
        "id": "mC_aTeJX3uJK"
      },
      "source": [
        "#### 형태소 분석\n"
      ]
    },
    {
      "cell_type": "code",
      "execution_count": null,
      "metadata": {
        "id": "CzobMAdFvvMV"
      },
      "outputs": [],
      "source": [
        "## 토크나이징 함수 선언 (품사 포함)\n",
        "def tokenize(sent):\n",
        "    res, score = kiwi.analyze(sent)[0] # 첫번째 결과를 사용\n",
        "    return [word + ('다' if tag.startswith('V') else '')+ '/'+ tag # 동사/형용사에는 '다'를 붙여줌 + / 품사\n",
        "            for word, tag, _, _ in res\n",
        "            if not tag.startswith('E') and not tag.startswith('J') and not tag.startswith('S') and word not in stopwords] # 조사, 어미, 특수기호 및 stopwords에 포함된 단어는 제거"
      ]
    },
    {
      "cell_type": "code",
      "execution_count": null,
      "metadata": {
        "id": "i1jcbDrFWj1S",
        "outputId": "5441c030-ff09-45b5-fc46-b4e223ecddba"
      },
      "outputs": [
        {
          "data": {
            "text/plain": [
              "False"
            ]
          },
          "execution_count": 45,
          "metadata": {},
          "output_type": "execute_result"
        }
      ],
      "source": [
        "kiwi.add_user_word('해동', 'NNG', 100000)"
      ]
    },
    {
      "cell_type": "code",
      "execution_count": null,
      "metadata": {
        "id": "vatef3WsWj1S",
        "outputId": "f0a49bb5-e46c-45b7-ff5f-8cb0f73a74c3"
      },
      "outputs": [
        {
          "data": {
            "text/plain": [
              "[([Token(form='해동', tag='NNP', start=0, len=2),\n",
              "   Token(form='에서', tag='JKB', start=2, len=2),\n",
              "   Token(form='는', tag='JX', start=4, len=1)],\n",
              "  -24.13312530517578)]"
            ]
          },
          "execution_count": 46,
          "metadata": {},
          "output_type": "execute_result"
        }
      ],
      "source": [
        "kiwi.analyze('해동에서는')"
      ]
    },
    {
      "cell_type": "code",
      "execution_count": null,
      "metadata": {
        "id": "LOEaWp9uWj1S",
        "outputId": "d742d682-abfb-4d48-9057-2188f88dc962"
      },
      "outputs": [
        {
          "name": "stdout",
          "output_type": "stream",
          "text": [
            "0\n",
            "200000\n",
            "400000\n",
            "600000\n",
            "UnicodeDecodeError\n",
            "800000\n",
            "1000000\n",
            "1200000\n",
            "1400000\n"
          ]
        }
      ],
      "source": [
        "token_list = []\n",
        "stopwords = ['이다','하다','있다','위하']\n",
        "for i,result in enumerate(kiwi.analyze(data['sentence'].tolist())):\n",
        "      if i % 200000 ==0:\n",
        "            print(i)\n",
        "      try:\n",
        "            res, score = result[0]\n",
        "            token_list.append([word + ('다' if tag.startswith('V') else '')+ '/'+ tag # 동사/형용사에는 '다'를 붙여줌 + / 품사\n",
        "            for word, tag, _, _ in res\n",
        "            if not tag.startswith('E') and not tag.startswith('J') and not tag.startswith('S') and word not in stopwords]) # 조사, 어미, 특수기호 및 stopwords에 포함된 단어는 제거)\n",
        "      except UnicodeDecodeError:\n",
        "            print('UnicodeDecodeError')\n",
        "            token_list.append([])"
      ]
    },
    {
      "cell_type": "code",
      "execution_count": null,
      "metadata": {
        "colab": {
          "base_uri": "https://localhost:8080/"
        },
        "id": "HnAOz3KqwF9s",
        "outputId": "6a1ff1cc-d836-4fa4-ae3f-696d45dfbfc4"
      },
      "outputs": [
        {
          "data": {
            "text/plain": [
              "0          [예기/NNG, 이르다/VV, 달다/VA, 술/NNG, 맛/NNG, 좋다/VA, 하...\n",
              "1          [각종/NNG, 화려/XR, 하/XSA, 무늬/NNG, 옷감/NNG, 아름답다/VA...\n",
              "2                                                    [하다/VV]\n",
              "3          [옛날/NNG, 군자/NNG, 그/MM, 근본/NNG, 시초/NNG, 반드시/MAG...\n",
              "4          [우리/NP, 동방/NNG, 문장/NNG, 나오다/VV, 글/NNG, 짓다/VV, ...\n",
              "                                 ...                        \n",
              "1584494    [만년/NNG, 이르다/VV, 옛/MM, 경전/NNG, 안다/VV, 깊다/VA, 산...\n",
              "1584495    [경술년/NNG, 변고/NNG, 지금/NNG, 여/XSN, 년/NNB, 동안/NNG...\n",
              "1584496    [다만/MAG, 유집/NNP, 어루만지다/VV, 길다/VA, 탄식/NNG, 하/XS...\n",
              "1584497          [족/NNB, 질/XSN, 중/NNB, 균/NNG, 삼가/NNG, 쓰다/VV]\n",
              "1584498                                                   []\n",
              "Name: token, Length: 1584499, dtype: object"
            ]
          },
          "execution_count": 14,
          "metadata": {},
          "output_type": "execute_result"
        }
      ],
      "source": [
        "data['token'] = pd.Series(token_list)\n",
        "data['token']"
      ]
    },
    {
      "cell_type": "code",
      "execution_count": null,
      "metadata": {
        "colab": {
          "base_uri": "https://localhost:8080/",
          "height": 325
        },
        "id": "RrgnZjC4Ny2V",
        "outputId": "bf6f26ec-bb29-428f-d75d-a798a513c27c"
      },
      "outputs": [
        {
          "data": {
            "text/html": [
              "<div>\n",
              "<style scoped>\n",
              "    .dataframe tbody tr th:only-of-type {\n",
              "        vertical-align: middle;\n",
              "    }\n",
              "\n",
              "    .dataframe tbody tr th {\n",
              "        vertical-align: top;\n",
              "    }\n",
              "\n",
              "    .dataframe thead th {\n",
              "        text-align: right;\n",
              "    }\n",
              "</style>\n",
              "<table border=\"1\" class=\"dataframe\">\n",
              "  <thead>\n",
              "    <tr style=\"text-align: right;\">\n",
              "      <th></th>\n",
              "      <th>ID</th>\n",
              "      <th>원문</th>\n",
              "      <th>번역문</th>\n",
              "      <th>text_list</th>\n",
              "      <th>sentence</th>\n",
              "      <th>token</th>\n",
              "    </tr>\n",
              "  </thead>\n",
              "  <tbody>\n",
              "    <tr>\n",
              "      <th>2</th>\n",
              "      <td>ITKC_MO_0001A_0010_010_0010</td>\n",
              "      <td>記有之。曰酒醴之美。而玄酒明水之尙。貴五味之本也。黼黻文繡之美。而疏布之尙。反女功之始也。古...</td>\n",
              "      <td>\\n《예기》에 이르기를 “단술이 맛이 좋긴 하지만 제사 때에 현주와 명수 같은 물을...</td>\n",
              "      <td>예기에 이르기를 “단술이 맛이 좋긴 하지만 제사 때에 현주와 명수 같은 물을 윗자리...</td>\n",
              "      <td>”라고 하였다</td>\n",
              "      <td>[하다/VV]</td>\n",
              "    </tr>\n",
              "    <tr>\n",
              "      <th>28</th>\n",
              "      <td>ITKC_MO_0001A_0010_010_0010</td>\n",
              "      <td>記有之。曰酒醴之美。而玄酒明水之尙。貴五味之本也。黼黻文繡之美。而疏布之尙。反女功之始也。古...</td>\n",
              "      <td>\\n《예기》에 이르기를 “단술이 맛이 좋긴 하지만 제사 때에 현주와 명수 같은 물을...</td>\n",
              "      <td>예기에 이르기를 “단술이 맛이 좋긴 하지만 제사 때에 현주와 명수 같은 물을 윗자리...</td>\n",
              "      <td>”라고 하였다</td>\n",
              "      <td>[하다/VV]</td>\n",
              "    </tr>\n",
              "    <tr>\n",
              "      <th>35</th>\n",
              "      <td>ITKC_MO_0001A_0010_010_0010</td>\n",
              "      <td>記有之。曰酒醴之美。而玄酒明水之尙。貴五味之本也。黼黻文繡之美。而疏布之尙。反女功之始也。古...</td>\n",
              "      <td>\\n《예기》에 이르기를 “단술이 맛이 좋긴 하지만 제사 때에 현주와 명수 같은 물을...</td>\n",
              "      <td>예기에 이르기를 “단술이 맛이 좋긴 하지만 제사 때에 현주와 명수 같은 물을 윗자리...</td>\n",
              "      <td></td>\n",
              "      <td>[]</td>\n",
              "    </tr>\n",
              "    <tr>\n",
              "      <th>70</th>\n",
              "      <td>ITKC_MO_0001A_0010_010_0020</td>\n",
              "      <td>桂苑筆耕集二十卷。新羅孤雲崔公在唐淮南幕府時公私應酬之作。而東還之後。手編表進于朝者也公名致...</td>\n",
              "      <td>\\n《계원필경집》 20권은 신라의 고운(孤雲) 최공(崔公)이 당나라 회남(淮南) 막...</td>\n",
              "      <td>계원필경집 20권은 신라의 고운 최공이 당나라 회남 막부에 있을 때 공적으로나 사적...</td>\n",
              "      <td></td>\n",
              "      <td>[]</td>\n",
              "    </tr>\n",
              "    <tr>\n",
              "      <th>76</th>\n",
              "      <td>ITKC_MO_0001A_0010_010_0030</td>\n",
              "      <td>淮南入本國兼送詔書等使前都統巡官承務郎侍御史內供奉賜紫金魚袋臣崔致遠進所著雜詩賦及表奏集二十...</td>\n",
              "      <td>\\n회남(淮南)에서 본국에 들어오면서 조서(詔書) 등을 보내는 사신을 겸한, 전(前...</td>\n",
              "      <td>회남에서 본국에 들어오면서 조서 등을 보내는 사신을 겸한, 전 도통순관 승무랑 시어...</td>\n",
              "      <td>”라고 하였습니다</td>\n",
              "      <td>[하다/VV]</td>\n",
              "    </tr>\n",
              "    <tr>\n",
              "      <th>...</th>\n",
              "      <td>...</td>\n",
              "      <td>...</td>\n",
              "      <td>...</td>\n",
              "      <td>...</td>\n",
              "      <td>...</td>\n",
              "      <td>...</td>\n",
              "    </tr>\n",
              "    <tr>\n",
              "      <th>1584483</th>\n",
              "      <td>ITKC_MO_1252A_0290_000_0020</td>\n",
              "      <td>文者氣之所形也。氣必充積而後文亦有格力。故觀於文而其人槩可想矣。然氣不可力以致。其得於天者。...</td>\n",
              "      <td>\\n글이란 기(氣)가 드러난 것이며, 기가 충만(充滿)한 뒤에라야 글 역시 격조(格...</td>\n",
              "      <td>글이란 기가 드러난 것이며, 기가 충만한 뒤에라야 글 역시 격조가 생기므로, 글을 ...</td>\n",
              "      <td>”라고 하는 것이다</td>\n",
              "      <td>[하다/VV, 것/NNB, 이다/VCP]</td>\n",
              "    </tr>\n",
              "    <tr>\n",
              "      <th>1584484</th>\n",
              "      <td>ITKC_MO_1252A_0290_000_0020</td>\n",
              "      <td>文者氣之所形也。氣必充積而後文亦有格力。故觀於文而其人槩可想矣。然氣不可力以致。其得於天者。...</td>\n",
              "      <td>\\n글이란 기(氣)가 드러난 것이며, 기가 충만(充滿)한 뒤에라야 글 역시 격조(格...</td>\n",
              "      <td>글이란 기가 드러난 것이며, 기가 충만한 뒤에라야 글 역시 격조가 생기므로, 글을 ...</td>\n",
              "      <td>족손 강호가 적는다</td>\n",
              "      <td>[족/NNB, 손/NNG, 강호/NNP, 적다/VA]</td>\n",
              "    </tr>\n",
              "    <tr>\n",
              "      <th>1584485</th>\n",
              "      <td>ITKC_MO_1252A_0290_000_0020</td>\n",
              "      <td>文者氣之所形也。氣必充積而後文亦有格力。故觀於文而其人槩可想矣。然氣不可力以致。其得於天者。...</td>\n",
              "      <td>\\n글이란 기(氣)가 드러난 것이며, 기가 충만(充滿)한 뒤에라야 글 역시 격조(格...</td>\n",
              "      <td>글이란 기가 드러난 것이며, 기가 충만한 뒤에라야 글 역시 격조가 생기므로, 글을 ...</td>\n",
              "      <td></td>\n",
              "      <td>[]</td>\n",
              "    </tr>\n",
              "    <tr>\n",
              "      <th>1584489</th>\n",
              "      <td>ITKC_MO_1252A_0290_000_0030</td>\n",
              "      <td>嗚呼。此吾響山公遺文也。公大節旣昭然如日星之在天。其不朽何待乎文哉。獨後死者之論。以爲公歿而...</td>\n",
              "      <td>\\n오호라, 이 책은 우리 향산공(響山公)의 유문(遺文)이다. 공의 큰 절의가 이미...</td>\n",
              "      <td>오호라, 이 책은 우리 향산공의 유문이다. 공의 큰 절의가 이미 하늘에 있는 해와 ...</td>\n",
              "      <td>”라고 하였으니, 참으로 그러하다</td>\n",
              "      <td>[하다/VV, 참으로/MAG, 그러/XR, 하/XSA]</td>\n",
              "    </tr>\n",
              "    <tr>\n",
              "      <th>1584498</th>\n",
              "      <td>ITKC_MO_1252A_0290_000_0030</td>\n",
              "      <td>嗚呼。此吾響山公遺文也。公大節旣昭然如日星之在天。其不朽何待乎文哉。獨後死者之論。以爲公歿而...</td>\n",
              "      <td>\\n오호라, 이 책은 우리 향산공(響山公)의 유문(遺文)이다. 공의 큰 절의가 이미...</td>\n",
              "      <td>오호라, 이 책은 우리 향산공의 유문이다. 공의 큰 절의가 이미 하늘에 있는 해와 ...</td>\n",
              "      <td></td>\n",
              "      <td>[]</td>\n",
              "    </tr>\n",
              "  </tbody>\n",
              "</table>\n",
              "<p>167363 rows × 6 columns</p>\n",
              "</div>"
            ],
            "text/plain": [
              "                                  ID  \\\n",
              "2        ITKC_MO_0001A_0010_010_0010   \n",
              "28       ITKC_MO_0001A_0010_010_0010   \n",
              "35       ITKC_MO_0001A_0010_010_0010   \n",
              "70       ITKC_MO_0001A_0010_010_0020   \n",
              "76       ITKC_MO_0001A_0010_010_0030   \n",
              "...                              ...   \n",
              "1584483  ITKC_MO_1252A_0290_000_0020   \n",
              "1584484  ITKC_MO_1252A_0290_000_0020   \n",
              "1584485  ITKC_MO_1252A_0290_000_0020   \n",
              "1584489  ITKC_MO_1252A_0290_000_0030   \n",
              "1584498  ITKC_MO_1252A_0290_000_0030   \n",
              "\n",
              "                                                        원문  \\\n",
              "2        記有之。曰酒醴之美。而玄酒明水之尙。貴五味之本也。黼黻文繡之美。而疏布之尙。反女功之始也。古...   \n",
              "28       記有之。曰酒醴之美。而玄酒明水之尙。貴五味之本也。黼黻文繡之美。而疏布之尙。反女功之始也。古...   \n",
              "35       記有之。曰酒醴之美。而玄酒明水之尙。貴五味之本也。黼黻文繡之美。而疏布之尙。反女功之始也。古...   \n",
              "70       桂苑筆耕集二十卷。新羅孤雲崔公在唐淮南幕府時公私應酬之作。而東還之後。手編表進于朝者也公名致...   \n",
              "76       淮南入本國兼送詔書等使前都統巡官承務郎侍御史內供奉賜紫金魚袋臣崔致遠進所著雜詩賦及表奏集二十...   \n",
              "...                                                    ...   \n",
              "1584483  文者氣之所形也。氣必充積而後文亦有格力。故觀於文而其人槩可想矣。然氣不可力以致。其得於天者。...   \n",
              "1584484  文者氣之所形也。氣必充積而後文亦有格力。故觀於文而其人槩可想矣。然氣不可力以致。其得於天者。...   \n",
              "1584485  文者氣之所形也。氣必充積而後文亦有格力。故觀於文而其人槩可想矣。然氣不可力以致。其得於天者。...   \n",
              "1584489  嗚呼。此吾響山公遺文也。公大節旣昭然如日星之在天。其不朽何待乎文哉。獨後死者之論。以爲公歿而...   \n",
              "1584498  嗚呼。此吾響山公遺文也。公大節旣昭然如日星之在天。其不朽何待乎文哉。獨後死者之論。以爲公歿而...   \n",
              "\n",
              "                                                       번역문  \\\n",
              "2        \\n《예기》에 이르기를 “단술이 맛이 좋긴 하지만 제사 때에 현주와 명수 같은 물을...   \n",
              "28       \\n《예기》에 이르기를 “단술이 맛이 좋긴 하지만 제사 때에 현주와 명수 같은 물을...   \n",
              "35       \\n《예기》에 이르기를 “단술이 맛이 좋긴 하지만 제사 때에 현주와 명수 같은 물을...   \n",
              "70       \\n《계원필경집》 20권은 신라의 고운(孤雲) 최공(崔公)이 당나라 회남(淮南) 막...   \n",
              "76       \\n회남(淮南)에서 본국에 들어오면서 조서(詔書) 등을 보내는 사신을 겸한, 전(前...   \n",
              "...                                                    ...   \n",
              "1584483  \\n글이란 기(氣)가 드러난 것이며, 기가 충만(充滿)한 뒤에라야 글 역시 격조(格...   \n",
              "1584484  \\n글이란 기(氣)가 드러난 것이며, 기가 충만(充滿)한 뒤에라야 글 역시 격조(格...   \n",
              "1584485  \\n글이란 기(氣)가 드러난 것이며, 기가 충만(充滿)한 뒤에라야 글 역시 격조(格...   \n",
              "1584489  \\n오호라, 이 책은 우리 향산공(響山公)의 유문(遺文)이다. 공의 큰 절의가 이미...   \n",
              "1584498  \\n오호라, 이 책은 우리 향산공(響山公)의 유문(遺文)이다. 공의 큰 절의가 이미...   \n",
              "\n",
              "                                                 text_list  \\\n",
              "2        예기에 이르기를 “단술이 맛이 좋긴 하지만 제사 때에 현주와 명수 같은 물을 윗자리...   \n",
              "28       예기에 이르기를 “단술이 맛이 좋긴 하지만 제사 때에 현주와 명수 같은 물을 윗자리...   \n",
              "35       예기에 이르기를 “단술이 맛이 좋긴 하지만 제사 때에 현주와 명수 같은 물을 윗자리...   \n",
              "70       계원필경집 20권은 신라의 고운 최공이 당나라 회남 막부에 있을 때 공적으로나 사적...   \n",
              "76       회남에서 본국에 들어오면서 조서 등을 보내는 사신을 겸한, 전 도통순관 승무랑 시어...   \n",
              "...                                                    ...   \n",
              "1584483  글이란 기가 드러난 것이며, 기가 충만한 뒤에라야 글 역시 격조가 생기므로, 글을 ...   \n",
              "1584484  글이란 기가 드러난 것이며, 기가 충만한 뒤에라야 글 역시 격조가 생기므로, 글을 ...   \n",
              "1584485  글이란 기가 드러난 것이며, 기가 충만한 뒤에라야 글 역시 격조가 생기므로, 글을 ...   \n",
              "1584489  오호라, 이 책은 우리 향산공의 유문이다. 공의 큰 절의가 이미 하늘에 있는 해와 ...   \n",
              "1584498  오호라, 이 책은 우리 향산공의 유문이다. 공의 큰 절의가 이미 하늘에 있는 해와 ...   \n",
              "\n",
              "                   sentence                           token  \n",
              "2                   ”라고 하였다                         [하다/VV]  \n",
              "28                  ”라고 하였다                         [하다/VV]  \n",
              "35                                                       []  \n",
              "70                                                       []  \n",
              "76                ”라고 하였습니다                         [하다/VV]  \n",
              "...                     ...                             ...  \n",
              "1584483          ”라고 하는 것이다          [하다/VV, 것/NNB, 이다/VCP]  \n",
              "1584484          족손 강호가 적는다   [족/NNB, 손/NNG, 강호/NNP, 적다/VA]  \n",
              "1584485                                                  []  \n",
              "1584489  ”라고 하였으니, 참으로 그러하다  [하다/VV, 참으로/MAG, 그러/XR, 하/XSA]  \n",
              "1584498                                                  []  \n",
              "\n",
              "[167363 rows x 6 columns]"
            ]
          },
          "execution_count": 15,
          "metadata": {},
          "output_type": "execute_result"
        }
      ],
      "source": [
        "#토큰 4개 이하인 것 확인\n",
        "data[data['token'].map(lambda x:len(x)<=4)]"
      ]
    },
    {
      "cell_type": "code",
      "execution_count": null,
      "metadata": {
        "id": "DynGxABfWj1T"
      },
      "outputs": [],
      "source": [
        "# 불용어 제거\n",
        "stopwords = ['하다/VV','하/XSV','이다/VCP','하/XSA','하다/VV','있다/VV','않다/VX','없다/VA','하다/VX','되다/VV','있다/VX','아니다/VCN']"
      ]
    },
    {
      "cell_type": "code",
      "execution_count": null,
      "metadata": {
        "id": "SinpBH_1Wj1T",
        "outputId": "02270b92-8c8f-4a16-924a-6c437df3ff32"
      },
      "outputs": [
        {
          "name": "stderr",
          "output_type": "stream",
          "text": [
            "100%|██████████| 1584499/1584499 [00:11<00:00, 132153.20it/s]\n"
          ]
        }
      ],
      "source": [
        "data['token'] = data['token'].progress_map(lambda x:[w for w in x if not w in stopwords])"
      ]
    },
    {
      "cell_type": "code",
      "execution_count": null,
      "metadata": {
        "id": "5U5I8NOYWj1U",
        "outputId": "df9a7e4a-5b47-41f3-ed9d-98a29c199941"
      },
      "outputs": [
        {
          "data": {
            "text/plain": [
              "[('것/NNB', 754672),\n",
              " ('들/XSN', 274292),\n",
              " ('말/NNG', 270483),\n",
              " ('그/MM', 226145),\n",
              " ('수/NNB', 219178),\n",
              " ('사람/NNG', 201718),\n",
              " ('일/NNG', 164703),\n",
              " ('이/MM', 163453),\n",
              " ('되/XSV', 155712),\n",
              " ('못하다/VX', 144413),\n",
              " ('이/NP', 139344),\n",
              " ('때/NNG', 131641),\n",
              " ('한/MM', 128068),\n",
              " ('공/NNG', 127014),\n",
              " ('나/NP', 112356),\n",
              " ('같다/VA', 108238),\n",
              " ('마음/NNG', 106520),\n",
              " ('년/NNB', 104873),\n",
              " ('지다/VX', 104355),\n",
              " ('어찌/MAG', 100327),\n",
              " ('보다/VV', 97486),\n",
              " ('모두/MAG', 94735),\n",
              " ('히/NNG', 92737),\n",
              " ('알다/VV', 89360),\n",
              " ('뜻/NNG', 87490),\n",
              " ('주다/VX', 86557),\n",
              " ('또/MAG', 86167),\n",
              " ('생각/NNG', 80947),\n",
              " ('자/NNB', 80238),\n",
              " ('이르다/VV', 72754)]"
            ]
          },
          "execution_count": 18,
          "metadata": {},
          "output_type": "execute_result"
        }
      ],
      "source": [
        "# 상위 n개 단어 확인\n",
        "cnt = Counter(list(itertools.chain(*data['token'].tolist())))\n",
        "cnt.most_common(30) # 상위 N개"
      ]
    },
    {
      "cell_type": "code",
      "execution_count": null,
      "metadata": {
        "id": "Q3NN4W3j0YQ0"
      },
      "outputs": [],
      "source": [
        "# 토큰 5개 이상만 활용\n",
        "data = data[data['token'].map(lambda x:len(x)>=5)]"
      ]
    },
    {
      "cell_type": "code",
      "execution_count": null,
      "metadata": {
        "id": "XssIO4cB0dAm",
        "outputId": "7197d328-d935-409d-fbf8-ac336903f50a"
      },
      "outputs": [
        {
          "data": {
            "text/html": [
              "<div>\n",
              "<style scoped>\n",
              "    .dataframe tbody tr th:only-of-type {\n",
              "        vertical-align: middle;\n",
              "    }\n",
              "\n",
              "    .dataframe tbody tr th {\n",
              "        vertical-align: top;\n",
              "    }\n",
              "\n",
              "    .dataframe thead th {\n",
              "        text-align: right;\n",
              "    }\n",
              "</style>\n",
              "<table border=\"1\" class=\"dataframe\">\n",
              "  <thead>\n",
              "    <tr style=\"text-align: right;\">\n",
              "      <th></th>\n",
              "      <th>ID</th>\n",
              "      <th>원문</th>\n",
              "      <th>번역문</th>\n",
              "      <th>text_list</th>\n",
              "      <th>sentence</th>\n",
              "      <th>token</th>\n",
              "    </tr>\n",
              "  </thead>\n",
              "  <tbody>\n",
              "    <tr>\n",
              "      <th>0</th>\n",
              "      <td>ITKC_MO_0001A_0010_010_0010</td>\n",
              "      <td>記有之。曰酒醴之美。而玄酒明水之尙。貴五味之本也。黼黻文繡之美。而疏布之尙。反女功之始也。古...</td>\n",
              "      <td>\\n《예기》에 이르기를 “단술이 맛이 좋긴 하지만 제사 때에 현주와 명수 같은 물을...</td>\n",
              "      <td>예기에 이르기를 “단술이 맛이 좋긴 하지만 제사 때에 현주와 명수 같은 물을 윗자리...</td>\n",
              "      <td>예기에 이르기를 “단술이 맛이 좋긴 하지만 제사 때에 현주와 명수 같은 물을 윗자리...</td>\n",
              "      <td>[예기/NNG, 이르다/VV, 달다/VA, 술/NNG, 맛/NNG, 좋다/VA, 제...</td>\n",
              "    </tr>\n",
              "    <tr>\n",
              "      <th>1</th>\n",
              "      <td>ITKC_MO_0001A_0010_010_0010</td>\n",
              "      <td>記有之。曰酒醴之美。而玄酒明水之尙。貴五味之本也。黼黻文繡之美。而疏布之尙。反女功之始也。古...</td>\n",
              "      <td>\\n《예기》에 이르기를 “단술이 맛이 좋긴 하지만 제사 때에 현주와 명수 같은 물을...</td>\n",
              "      <td>예기에 이르기를 “단술이 맛이 좋긴 하지만 제사 때에 현주와 명수 같은 물을 윗자리...</td>\n",
              "      <td>각종 화려한 무늬의 옷감이 아름답기는 하지만 제사 때에 거친 삼베로 동이를 덮는 ...</td>\n",
              "      <td>[각종/NNG, 화려/XR, 무늬/NNG, 옷감/NNG, 아름답다/VA, 제사/NN...</td>\n",
              "    </tr>\n",
              "    <tr>\n",
              "      <th>2</th>\n",
              "      <td>ITKC_MO_0001A_0010_010_0010</td>\n",
              "      <td>記有之。曰酒醴之美。而玄酒明水之尙。貴五味之本也。黼黻文繡之美。而疏布之尙。反女功之始也。古...</td>\n",
              "      <td>\\n《예기》에 이르기를 “단술이 맛이 좋긴 하지만 제사 때에 현주와 명수 같은 물을...</td>\n",
              "      <td>예기에 이르기를 “단술이 맛이 좋긴 하지만 제사 때에 현주와 명수 같은 물을 윗자리...</td>\n",
              "      <td>옛날의 군자가 그 근본과 시초를 반드시 중하게 여기려 한 것이 이와 같았다</td>\n",
              "      <td>[옛날/NNG, 군자/NNG, 그/MM, 근본/NNG, 시초/NNG, 반드시/MAG...</td>\n",
              "    </tr>\n",
              "    <tr>\n",
              "      <th>3</th>\n",
              "      <td>ITKC_MO_0001A_0010_010_0010</td>\n",
              "      <td>記有之。曰酒醴之美。而玄酒明水之尙。貴五味之本也。黼黻文繡之美。而疏布之尙。反女功之始也。古...</td>\n",
              "      <td>\\n《예기》에 이르기를 “단술이 맛이 좋긴 하지만 제사 때에 현주와 명수 같은 물을...</td>\n",
              "      <td>예기에 이르기를 “단술이 맛이 좋긴 하지만 제사 때에 현주와 명수 같은 물을 윗자리...</td>\n",
              "      <td>우리 동방에 문장이 나와서 글을 지어 후세에 전할 수 있게 된 것은 고운 최공으로부...</td>\n",
              "      <td>[우리/NP, 동방/NNG, 문장/NNG, 나오다/VV, 글/NNG, 짓다/VV, ...</td>\n",
              "    </tr>\n",
              "    <tr>\n",
              "      <th>4</th>\n",
              "      <td>ITKC_MO_0001A_0010_010_0010</td>\n",
              "      <td>記有之。曰酒醴之美。而玄酒明水之尙。貴五味之本也。黼黻文繡之美。而疏布之尙。反女功之始也。古...</td>\n",
              "      <td>\\n《예기》에 이르기를 “단술이 맛이 좋긴 하지만 제사 때에 현주와 명수 같은 물을...</td>\n",
              "      <td>예기에 이르기를 “단술이 맛이 좋긴 하지만 제사 때에 현주와 명수 같은 물을 윗자리...</td>\n",
              "      <td>그리고 우리 동방의 선비로서 북쪽으로 중국에 유학하여 문장으로 천하에 명성을 떨친...</td>\n",
              "      <td>[그리고/MAJ, 우리/NP, 동방/NNG, 선비/NNG, 북쪽/NNG, 중국/NN...</td>\n",
              "    </tr>\n",
              "    <tr>\n",
              "      <th>...</th>\n",
              "      <td>...</td>\n",
              "      <td>...</td>\n",
              "      <td>...</td>\n",
              "      <td>...</td>\n",
              "      <td>...</td>\n",
              "      <td>...</td>\n",
              "    </tr>\n",
              "    <tr>\n",
              "      <th>1377359</th>\n",
              "      <td>ITKC_MO_1252A_0290_000_0030</td>\n",
              "      <td>嗚呼。此吾響山公遺文也。公大節旣昭然如日星之在天。其不朽何待乎文哉。獨後死者之論。以爲公歿而...</td>\n",
              "      <td>\\n오호라, 이 책은 우리 향산공(響山公)의 유문(遺文)이다. 공의 큰 절의가 이미...</td>\n",
              "      <td>오호라, 이 책은 우리 향산공의 유문이다. 공의 큰 절의가 이미 하늘에 있는 해와 ...</td>\n",
              "      <td>공은 처음부터 학문을 하는 사람으로 자처하지 않고 천성 그대로 행하였으므로, 사람...</td>\n",
              "      <td>[공/NNG, 처음/NNG, 학문/NNG, 사람/NNG, 자처/NNG, 천성/NNG...</td>\n",
              "    </tr>\n",
              "    <tr>\n",
              "      <th>1377360</th>\n",
              "      <td>ITKC_MO_1252A_0290_000_0030</td>\n",
              "      <td>嗚呼。此吾響山公遺文也。公大節旣昭然如日星之在天。其不朽何待乎文哉。獨後死者之論。以爲公歿而...</td>\n",
              "      <td>\\n오호라, 이 책은 우리 향산공(響山公)의 유문(遺文)이다. 공의 큰 절의가 이미...</td>\n",
              "      <td>오호라, 이 책은 우리 향산공의 유문이다. 공의 큰 절의가 이미 하늘에 있는 해와 ...</td>\n",
              "      <td>만년에 이르러서는 옛 경전을 안고 깊은 산으로 들어가 독실하게 공부하면서 감히 단...</td>\n",
              "      <td>[만년/NNG, 이르다/VV, 옛/MM, 경전/NNG, 안다/VV, 깊다/VA, 산...</td>\n",
              "    </tr>\n",
              "    <tr>\n",
              "      <th>1377361</th>\n",
              "      <td>ITKC_MO_1252A_0290_000_0030</td>\n",
              "      <td>嗚呼。此吾響山公遺文也。公大節旣昭然如日星之在天。其不朽何待乎文哉。獨後死者之論。以爲公歿而...</td>\n",
              "      <td>\\n오호라, 이 책은 우리 향산공(響山公)의 유문(遺文)이다. 공의 큰 절의가 이미...</td>\n",
              "      <td>오호라, 이 책은 우리 향산공의 유문이다. 공의 큰 절의가 이미 하늘에 있는 해와 ...</td>\n",
              "      <td>경술년의 변고로부터 지금까지 20여 년 동안, 인심과 세도가 나날이 더러운 데로 ...</td>\n",
              "      <td>[경술년/NNG, 변고/NNG, 지금/NNG, 여/XSN, 년/NNB, 동안/NNG...</td>\n",
              "    </tr>\n",
              "    <tr>\n",
              "      <th>1377362</th>\n",
              "      <td>ITKC_MO_1252A_0290_000_0030</td>\n",
              "      <td>嗚呼。此吾響山公遺文也。公大節旣昭然如日星之在天。其不朽何待乎文哉。獨後死者之論。以爲公歿而...</td>\n",
              "      <td>\\n오호라, 이 책은 우리 향산공(響山公)의 유문(遺文)이다. 공의 큰 절의가 이미...</td>\n",
              "      <td>오호라, 이 책은 우리 향산공의 유문이다. 공의 큰 절의가 이미 하늘에 있는 해와 ...</td>\n",
              "      <td>다만 유집을 어루만지며 길게 탄식할 뿐이다</td>\n",
              "      <td>[다만/MAG, 유집/NNP, 어루만지다/VV, 길다/VA, 탄식/NNG, 뿐/NNB]</td>\n",
              "    </tr>\n",
              "    <tr>\n",
              "      <th>1377363</th>\n",
              "      <td>ITKC_MO_1252A_0290_000_0030</td>\n",
              "      <td>嗚呼。此吾響山公遺文也。公大節旣昭然如日星之在天。其不朽何待乎文哉。獨後死者之論。以爲公歿而...</td>\n",
              "      <td>\\n오호라, 이 책은 우리 향산공(響山公)의 유문(遺文)이다. 공의 큰 절의가 이미...</td>\n",
              "      <td>오호라, 이 책은 우리 향산공의 유문이다. 공의 큰 절의가 이미 하늘에 있는 해와 ...</td>\n",
              "      <td>족질 중균이 삼가 쓴다</td>\n",
              "      <td>[족/NNB, 질/XSN, 중/NNB, 균/NNG, 삼가/NNG, 쓰다/VV]</td>\n",
              "    </tr>\n",
              "  </tbody>\n",
              "</table>\n",
              "<p>1377364 rows × 6 columns</p>\n",
              "</div>"
            ],
            "text/plain": [
              "                                  ID  \\\n",
              "0        ITKC_MO_0001A_0010_010_0010   \n",
              "1        ITKC_MO_0001A_0010_010_0010   \n",
              "2        ITKC_MO_0001A_0010_010_0010   \n",
              "3        ITKC_MO_0001A_0010_010_0010   \n",
              "4        ITKC_MO_0001A_0010_010_0010   \n",
              "...                              ...   \n",
              "1377359  ITKC_MO_1252A_0290_000_0030   \n",
              "1377360  ITKC_MO_1252A_0290_000_0030   \n",
              "1377361  ITKC_MO_1252A_0290_000_0030   \n",
              "1377362  ITKC_MO_1252A_0290_000_0030   \n",
              "1377363  ITKC_MO_1252A_0290_000_0030   \n",
              "\n",
              "                                                        원문  \\\n",
              "0        記有之。曰酒醴之美。而玄酒明水之尙。貴五味之本也。黼黻文繡之美。而疏布之尙。反女功之始也。古...   \n",
              "1        記有之。曰酒醴之美。而玄酒明水之尙。貴五味之本也。黼黻文繡之美。而疏布之尙。反女功之始也。古...   \n",
              "2        記有之。曰酒醴之美。而玄酒明水之尙。貴五味之本也。黼黻文繡之美。而疏布之尙。反女功之始也。古...   \n",
              "3        記有之。曰酒醴之美。而玄酒明水之尙。貴五味之本也。黼黻文繡之美。而疏布之尙。反女功之始也。古...   \n",
              "4        記有之。曰酒醴之美。而玄酒明水之尙。貴五味之本也。黼黻文繡之美。而疏布之尙。反女功之始也。古...   \n",
              "...                                                    ...   \n",
              "1377359  嗚呼。此吾響山公遺文也。公大節旣昭然如日星之在天。其不朽何待乎文哉。獨後死者之論。以爲公歿而...   \n",
              "1377360  嗚呼。此吾響山公遺文也。公大節旣昭然如日星之在天。其不朽何待乎文哉。獨後死者之論。以爲公歿而...   \n",
              "1377361  嗚呼。此吾響山公遺文也。公大節旣昭然如日星之在天。其不朽何待乎文哉。獨後死者之論。以爲公歿而...   \n",
              "1377362  嗚呼。此吾響山公遺文也。公大節旣昭然如日星之在天。其不朽何待乎文哉。獨後死者之論。以爲公歿而...   \n",
              "1377363  嗚呼。此吾響山公遺文也。公大節旣昭然如日星之在天。其不朽何待乎文哉。獨後死者之論。以爲公歿而...   \n",
              "\n",
              "                                                       번역문  \\\n",
              "0        \\n《예기》에 이르기를 “단술이 맛이 좋긴 하지만 제사 때에 현주와 명수 같은 물을...   \n",
              "1        \\n《예기》에 이르기를 “단술이 맛이 좋긴 하지만 제사 때에 현주와 명수 같은 물을...   \n",
              "2        \\n《예기》에 이르기를 “단술이 맛이 좋긴 하지만 제사 때에 현주와 명수 같은 물을...   \n",
              "3        \\n《예기》에 이르기를 “단술이 맛이 좋긴 하지만 제사 때에 현주와 명수 같은 물을...   \n",
              "4        \\n《예기》에 이르기를 “단술이 맛이 좋긴 하지만 제사 때에 현주와 명수 같은 물을...   \n",
              "...                                                    ...   \n",
              "1377359  \\n오호라, 이 책은 우리 향산공(響山公)의 유문(遺文)이다. 공의 큰 절의가 이미...   \n",
              "1377360  \\n오호라, 이 책은 우리 향산공(響山公)의 유문(遺文)이다. 공의 큰 절의가 이미...   \n",
              "1377361  \\n오호라, 이 책은 우리 향산공(響山公)의 유문(遺文)이다. 공의 큰 절의가 이미...   \n",
              "1377362  \\n오호라, 이 책은 우리 향산공(響山公)의 유문(遺文)이다. 공의 큰 절의가 이미...   \n",
              "1377363  \\n오호라, 이 책은 우리 향산공(響山公)의 유문(遺文)이다. 공의 큰 절의가 이미...   \n",
              "\n",
              "                                                 text_list  \\\n",
              "0        예기에 이르기를 “단술이 맛이 좋긴 하지만 제사 때에 현주와 명수 같은 물을 윗자리...   \n",
              "1        예기에 이르기를 “단술이 맛이 좋긴 하지만 제사 때에 현주와 명수 같은 물을 윗자리...   \n",
              "2        예기에 이르기를 “단술이 맛이 좋긴 하지만 제사 때에 현주와 명수 같은 물을 윗자리...   \n",
              "3        예기에 이르기를 “단술이 맛이 좋긴 하지만 제사 때에 현주와 명수 같은 물을 윗자리...   \n",
              "4        예기에 이르기를 “단술이 맛이 좋긴 하지만 제사 때에 현주와 명수 같은 물을 윗자리...   \n",
              "...                                                    ...   \n",
              "1377359  오호라, 이 책은 우리 향산공의 유문이다. 공의 큰 절의가 이미 하늘에 있는 해와 ...   \n",
              "1377360  오호라, 이 책은 우리 향산공의 유문이다. 공의 큰 절의가 이미 하늘에 있는 해와 ...   \n",
              "1377361  오호라, 이 책은 우리 향산공의 유문이다. 공의 큰 절의가 이미 하늘에 있는 해와 ...   \n",
              "1377362  오호라, 이 책은 우리 향산공의 유문이다. 공의 큰 절의가 이미 하늘에 있는 해와 ...   \n",
              "1377363  오호라, 이 책은 우리 향산공의 유문이다. 공의 큰 절의가 이미 하늘에 있는 해와 ...   \n",
              "\n",
              "                                                  sentence  \\\n",
              "0        예기에 이르기를 “단술이 맛이 좋긴 하지만 제사 때에 현주와 명수 같은 물을 윗자리...   \n",
              "1         각종 화려한 무늬의 옷감이 아름답기는 하지만 제사 때에 거친 삼베로 동이를 덮는 ...   \n",
              "2                옛날의 군자가 그 근본과 시초를 반드시 중하게 여기려 한 것이 이와 같았다   \n",
              "3        우리 동방에 문장이 나와서 글을 지어 후세에 전할 수 있게 된 것은 고운 최공으로부...   \n",
              "4         그리고 우리 동방의 선비로서 북쪽으로 중국에 유학하여 문장으로 천하에 명성을 떨친...   \n",
              "...                                                    ...   \n",
              "1377359   공은 처음부터 학문을 하는 사람으로 자처하지 않고 천성 그대로 행하였으므로, 사람...   \n",
              "1377360   만년에 이르러서는 옛 경전을 안고 깊은 산으로 들어가 독실하게 공부하면서 감히 단...   \n",
              "1377361   경술년의 변고로부터 지금까지 20여 년 동안, 인심과 세도가 나날이 더러운 데로 ...   \n",
              "1377362                            다만 유집을 어루만지며 길게 탄식할 뿐이다   \n",
              "1377363                                       족질 중균이 삼가 쓴다   \n",
              "\n",
              "                                                     token  \n",
              "0        [예기/NNG, 이르다/VV, 달다/VA, 술/NNG, 맛/NNG, 좋다/VA, 제...  \n",
              "1        [각종/NNG, 화려/XR, 무늬/NNG, 옷감/NNG, 아름답다/VA, 제사/NN...  \n",
              "2        [옛날/NNG, 군자/NNG, 그/MM, 근본/NNG, 시초/NNG, 반드시/MAG...  \n",
              "3        [우리/NP, 동방/NNG, 문장/NNG, 나오다/VV, 글/NNG, 짓다/VV, ...  \n",
              "4        [그리고/MAJ, 우리/NP, 동방/NNG, 선비/NNG, 북쪽/NNG, 중국/NN...  \n",
              "...                                                    ...  \n",
              "1377359  [공/NNG, 처음/NNG, 학문/NNG, 사람/NNG, 자처/NNG, 천성/NNG...  \n",
              "1377360  [만년/NNG, 이르다/VV, 옛/MM, 경전/NNG, 안다/VV, 깊다/VA, 산...  \n",
              "1377361  [경술년/NNG, 변고/NNG, 지금/NNG, 여/XSN, 년/NNB, 동안/NNG...  \n",
              "1377362   [다만/MAG, 유집/NNP, 어루만지다/VV, 길다/VA, 탄식/NNG, 뿐/NNB]  \n",
              "1377363        [족/NNB, 질/XSN, 중/NNB, 균/NNG, 삼가/NNG, 쓰다/VV]  \n",
              "\n",
              "[1377364 rows x 6 columns]"
            ]
          },
          "execution_count": 21,
          "metadata": {},
          "output_type": "execute_result"
        }
      ],
      "source": [
        "data = data.reset_index(drop=True)\n",
        "data"
      ]
    },
    {
      "cell_type": "code",
      "source": [
        "data.to_pickle('한국문집총간_번역문_token.pickle')')"
      ],
      "metadata": {
        "id": "9bA2_W2OiOPL"
      },
      "execution_count": null,
      "outputs": []
    },
    {
      "cell_type": "markdown",
      "source": [
        "###원문 전처리"
      ],
      "metadata": {
        "id": "3I4Va-6cu1Pp"
      }
    },
    {
      "cell_type": "code",
      "source": [
        "#https://drive.google.com/file/d/1dryd1D5YTBkIPP06RriE125j1AlFQg_Z/view?usp=sharing\n",
        "!curl -c ./cookie -s -L \"https://drive.google.com/uc?export=download&id=1dryd1D5YTBkIPP06RriE125j1AlFQg_Z\" > /dev/null\n",
        "!curl -Lb ./cookie \"https://drive.google.com/uc?export=download&confirm=`awk '/download/ {print $NF}' ./cookie`&id=1dryd1D5YTBkIPP06RriE125j1AlFQg_Z\" -o df_test.pkl"
      ],
      "metadata": {
        "id": "n6_GYCOqbIQu"
      },
      "execution_count": null,
      "outputs": []
    },
    {
      "cell_type": "code",
      "source": [
        "with open('df_test.pkl', \"rb\") as fh:\n",
        "  df_test = pickle.load(fh)"
      ],
      "metadata": {
        "id": "wK6aNSFNbQXF"
      },
      "execution_count": null,
      "outputs": []
    },
    {
      "cell_type": "code",
      "source": [
        "df_test "
      ],
      "metadata": {
        "id": "7XDwMqwAwobQ"
      },
      "execution_count": null,
      "outputs": []
    },
    {
      "cell_type": "code",
      "source": [
        "tqdm.pandas()"
      ],
      "metadata": {
        "id": "AA1GhRBcxeO0"
      },
      "execution_count": null,
      "outputs": []
    },
    {
      "cell_type": "code",
      "source": [
        "# 문단 -> 문장 (오래걸림)\n",
        "df_test['sentence'] = df_test['원문'].progress_map(lambda x:[x.split('。')])\n",
        "df_test['sentence']"
      ],
      "metadata": {
        "colab": {
          "base_uri": "https://localhost:8080/"
        },
        "id": "SU5qYdLFv_E4",
        "outputId": "6b75a658-505c-4aa0-f146-d46a5e6a77ad"
      },
      "execution_count": null,
      "outputs": [
        {
          "output_type": "stream",
          "name": "stderr",
          "text": [
            "100%|██████████| 104122/104122 [00:01<00:00, 92594.22it/s]\n",
            "/usr/local/lib/python3.7/dist-packages/ipykernel_launcher.py:2: SettingWithCopyWarning: \n",
            "A value is trying to be set on a copy of a slice from a DataFrame.\n",
            "Try using .loc[row_indexer,col_indexer] = value instead\n",
            "\n",
            "See the caveats in the documentation: https://pandas.pydata.org/pandas-docs/stable/user_guide/indexing.html#returning-a-view-versus-a-copy\n",
            "  \n"
          ]
        },
        {
          "output_type": "execute_result",
          "data": {
            "text/plain": [
              "0         [[記有之, 曰酒醴之美, 而玄酒明水之尙, 貴五味之本也, 黼黻文繡之美, 而疏布之尙, ...\n",
              "1         [[桂苑筆耕集二十卷, 新羅孤雲崔公在唐淮南幕府時公私應酬之作, 而東還之後, 手編表進于朝...\n",
              "2         [[淮南入本國兼送詔書等使前都統巡官承務郎侍御史內供奉賜紫金魚袋臣崔致遠進所著雜詩賦及表奏集...\n",
              "3         [[臣某言, 今月某日, 得進奏院狀報, 奉十一日宣下改廣明元年爲中和元年者, 展義龜城, ...\n",
              "4         [[臣某言, 臣得進奏院狀報, 入南蠻通和使劉光裕等廻, 雲南通和兼進獻國信金銀器物疋段香藥...\n",
              "                                ...                        \n",
              "105619    [[公諱晩燾字觀必姓李, 退溪文純公后, 大司成彙濬娶弼善姜橒女无育, 繼娶僉樞宋在憲女, ...\n",
              "105620    [[府君諱晩燾字觀必, 號響山, 又曰直齋, 姓李氏, 始祖諱碩, 麗末以眞寶縣吏中司馬, ...\n",
              "105621    [[此吾響山公手藳之名訒出編者也, 殉國之粤六年丙辰, 吾黨之士, 就其中節略爲十九卷原集,...\n",
              "105622    [[文者氣之所形也, 氣必充積而後文亦有格力, 故觀於文而其人槩可想矣, 然氣不可力以致, ...\n",
              "105623    [[嗚呼, 此吾響山公遺文也, 公大節旣昭然如日星之在天, 其不朽何待乎文哉, 獨後死者之論...\n",
              "Name: sentence, Length: 104122, dtype: object"
            ]
          },
          "metadata": {},
          "execution_count": 21
        }
      ]
    },
    {
      "cell_type": "code",
      "source": [
        "# flatten list\n",
        "df_test['sentence'] = df_test['sentence'].progress_map(lambda x:(list(itertools.chain(*x))))\n",
        "df_test['sentence']"
      ],
      "metadata": {
        "colab": {
          "base_uri": "https://localhost:8080/"
        },
        "id": "__fDw8o0x05Y",
        "outputId": "4b31adc0-c756-43bf-e78a-d000f7c436d3"
      },
      "execution_count": null,
      "outputs": [
        {
          "output_type": "stream",
          "name": "stderr",
          "text": [
            "100%|██████████| 104122/104122 [00:00<00:00, 143978.59it/s]\n",
            "/usr/local/lib/python3.7/dist-packages/ipykernel_launcher.py:2: SettingWithCopyWarning: \n",
            "A value is trying to be set on a copy of a slice from a DataFrame.\n",
            "Try using .loc[row_indexer,col_indexer] = value instead\n",
            "\n",
            "See the caveats in the documentation: https://pandas.pydata.org/pandas-docs/stable/user_guide/indexing.html#returning-a-view-versus-a-copy\n",
            "  \n"
          ]
        },
        {
          "output_type": "execute_result",
          "data": {
            "text/plain": [
              "0         [記有之, 曰酒醴之美, 而玄酒明水之尙, 貴五味之本也, 黼黻文繡之美, 而疏布之尙, 反...\n",
              "1         [桂苑筆耕集二十卷, 新羅孤雲崔公在唐淮南幕府時公私應酬之作, 而東還之後, 手編表進于朝者...\n",
              "2         [淮南入本國兼送詔書等使前都統巡官承務郎侍御史內供奉賜紫金魚袋臣崔致遠進所著雜詩賦及表奏集二...\n",
              "3         [臣某言, 今月某日, 得進奏院狀報, 奉十一日宣下改廣明元年爲中和元年者, 展義龜城, 易...\n",
              "4         [臣某言, 臣得進奏院狀報, 入南蠻通和使劉光裕等廻, 雲南通和兼進獻國信金銀器物疋段香藥馬...\n",
              "                                ...                        \n",
              "105619    [公諱晩燾字觀必姓李, 退溪文純公后, 大司成彙濬娶弼善姜橒女无育, 繼娶僉樞宋在憲女, 憲...\n",
              "105620    [府君諱晩燾字觀必, 號響山, 又曰直齋, 姓李氏, 始祖諱碩, 麗末以眞寶縣吏中司馬, 生...\n",
              "105621    [此吾響山公手藳之名訒出編者也, 殉國之粤六年丙辰, 吾黨之士, 就其中節略爲十九卷原集, ...\n",
              "105622    [文者氣之所形也, 氣必充積而後文亦有格力, 故觀於文而其人槩可想矣, 然氣不可力以致, 其...\n",
              "105623    [嗚呼, 此吾響山公遺文也, 公大節旣昭然如日星之在天, 其不朽何待乎文哉, 獨後死者之論,...\n",
              "Name: sentence, Length: 104122, dtype: object"
            ]
          },
          "metadata": {},
          "execution_count": 22
        }
      ]
    },
    {
      "cell_type": "code",
      "source": [
        "df_test"
      ],
      "metadata": {
        "colab": {
          "base_uri": "https://localhost:8080/",
          "height": 597
        },
        "id": "MChUbHflxjW1",
        "outputId": "5516870a-1b58-4be2-b755-4b3bd02f601a"
      },
      "execution_count": null,
      "outputs": [
        {
          "output_type": "execute_result",
          "data": {
            "text/html": [
              "<div>\n",
              "<style scoped>\n",
              "    .dataframe tbody tr th:only-of-type {\n",
              "        vertical-align: middle;\n",
              "    }\n",
              "\n",
              "    .dataframe tbody tr th {\n",
              "        vertical-align: top;\n",
              "    }\n",
              "\n",
              "    .dataframe thead th {\n",
              "        text-align: right;\n",
              "    }\n",
              "</style>\n",
              "<table border=\"1\" class=\"dataframe\">\n",
              "  <thead>\n",
              "    <tr style=\"text-align: right;\">\n",
              "      <th></th>\n",
              "      <th>ID</th>\n",
              "      <th>원문</th>\n",
              "      <th>번역문</th>\n",
              "      <th>sentence</th>\n",
              "    </tr>\n",
              "  </thead>\n",
              "  <tbody>\n",
              "    <tr>\n",
              "      <th>0</th>\n",
              "      <td>ITKC_MO_0001A_0010_010_0010</td>\n",
              "      <td>記有之。曰酒醴之美。而玄酒明水之尙。貴五味之本也。黼黻文繡之美。而疏布之尙。反女功之始也。古...</td>\n",
              "      <td>\\n《예기》에 이르기를 “단술이 맛이 좋긴 하지만 제사 때에 현주와 명수 같은 물을...</td>\n",
              "      <td>[記有之, 曰酒醴之美, 而玄酒明水之尙, 貴五味之本也, 黼黻文繡之美, 而疏布之尙, 反...</td>\n",
              "    </tr>\n",
              "    <tr>\n",
              "      <th>1</th>\n",
              "      <td>ITKC_MO_0001A_0010_010_0020</td>\n",
              "      <td>桂苑筆耕集二十卷。新羅孤雲崔公在唐淮南幕府時公私應酬之作。而東還之後。手編表進于朝者也公名致...</td>\n",
              "      <td>\\n《계원필경집》 20권은 신라의 고운(孤雲) 최공(崔公)이 당나라 회남(淮南) 막...</td>\n",
              "      <td>[桂苑筆耕集二十卷, 新羅孤雲崔公在唐淮南幕府時公私應酬之作, 而東還之後, 手編表進于朝者...</td>\n",
              "    </tr>\n",
              "    <tr>\n",
              "      <th>2</th>\n",
              "      <td>ITKC_MO_0001A_0010_010_0030</td>\n",
              "      <td>淮南入本國兼送詔書等使前都統巡官承務郎侍御史內供奉賜紫金魚袋臣崔致遠進所著雜詩賦及表奏集二十...</td>\n",
              "      <td>\\n회남(淮南)에서 본국에 들어오면서 조서(詔書) 등을 보내는 사신을 겸한, 전(前...</td>\n",
              "      <td>[淮南入本國兼送詔書等使前都統巡官承務郎侍御史內供奉賜紫金魚袋臣崔致遠進所著雜詩賦及表奏集二...</td>\n",
              "    </tr>\n",
              "    <tr>\n",
              "      <th>3</th>\n",
              "      <td>ITKC_MO_0001A_0020_010_0010</td>\n",
              "      <td>臣某言。今月某日。得進奏院狀報。奉十一日宣下改廣明元年爲中和元年者。展義龜城。易名鳳紀。美號...</td>\n",
              "      <td>\\n신(臣) 모(某)는 아룁니다.금월(今月) 모일(某日)에 진주원(進奏院)의 장보(...</td>\n",
              "      <td>[臣某言, 今月某日, 得進奏院狀報, 奉十一日宣下改廣明元年爲中和元年者, 展義龜城, 易...</td>\n",
              "    </tr>\n",
              "    <tr>\n",
              "      <th>4</th>\n",
              "      <td>ITKC_MO_0001A_0020_010_0020</td>\n",
              "      <td>臣某言。臣得進奏院狀報。入南蠻通和使劉光裕等廻。雲南通和兼進獻國信金銀器物疋段香藥馬等者。天...</td>\n",
              "      <td>\\n신 모는 아룁니다.신이 진주원의 장보를 얻어 보건대, 입남만통화사(入南蠻通和使)...</td>\n",
              "      <td>[臣某言, 臣得進奏院狀報, 入南蠻通和使劉光裕等廻, 雲南通和兼進獻國信金銀器物疋段香藥馬...</td>\n",
              "    </tr>\n",
              "    <tr>\n",
              "      <th>...</th>\n",
              "      <td>...</td>\n",
              "      <td>...</td>\n",
              "      <td>...</td>\n",
              "      <td>...</td>\n",
              "    </tr>\n",
              "    <tr>\n",
              "      <th>105619</th>\n",
              "      <td>ITKC_MO_1252A_0270_000_0040</td>\n",
              "      <td>公諱晩燾字觀必姓李。退溪文純公后。大司成彙濬娶弼善姜橒女无育。繼娶僉樞宋在憲女。憲宗壬寅生公...</td>\n",
              "      <td>\\n공은 휘는 만도(晩燾), 자는 관필(觀必)이며, 성은 이씨(李氏)로 퇴계(退溪)...</td>\n",
              "      <td>[公諱晩燾字觀必姓李, 退溪文純公后, 大司成彙濬娶弼善姜橒女无育, 繼娶僉樞宋在憲女, 憲...</td>\n",
              "    </tr>\n",
              "    <tr>\n",
              "      <th>105620</th>\n",
              "      <td>ITKC_MO_1252A_0280_000_0010</td>\n",
              "      <td>府君諱晩燾字觀必。號響山。又曰直齋。姓李氏。始祖諱碩。麗末以眞寶縣吏中司馬。生諱子脩。登第討...</td>\n",
              "      <td>\\n부군은 휘는 만도(晩燾), 자는 관필(觀必), 호는 향산(響山) 혹은 직제(直齋...</td>\n",
              "      <td>[府君諱晩燾字觀必, 號響山, 又曰直齋, 姓李氏, 始祖諱碩, 麗末以眞寶縣吏中司馬, 生...</td>\n",
              "    </tr>\n",
              "    <tr>\n",
              "      <th>105621</th>\n",
              "      <td>ITKC_MO_1252A_0290_000_0010</td>\n",
              "      <td>此吾響山公手藳之名訒出編者也。殉國之粤六年丙辰。吾黨之士。就其中節略爲十九卷原集。又以門生子...</td>\n",
              "      <td>\\n이것은 우리 향산공(響山公)의 수고(手藁)로, 《인출편(訒出編)》이라고 하는 것...</td>\n",
              "      <td>[此吾響山公手藳之名訒出編者也, 殉國之粤六年丙辰, 吾黨之士, 就其中節略爲十九卷原集, ...</td>\n",
              "    </tr>\n",
              "    <tr>\n",
              "      <th>105622</th>\n",
              "      <td>ITKC_MO_1252A_0290_000_0020</td>\n",
              "      <td>文者氣之所形也。氣必充積而後文亦有格力。故觀於文而其人槩可想矣。然氣不可力以致。其得於天者。...</td>\n",
              "      <td>\\n글이란 기(氣)가 드러난 것이며, 기가 충만(充滿)한 뒤에라야 글 역시 격조(格...</td>\n",
              "      <td>[文者氣之所形也, 氣必充積而後文亦有格力, 故觀於文而其人槩可想矣, 然氣不可力以致, 其...</td>\n",
              "    </tr>\n",
              "    <tr>\n",
              "      <th>105623</th>\n",
              "      <td>ITKC_MO_1252A_0290_000_0030</td>\n",
              "      <td>嗚呼。此吾響山公遺文也。公大節旣昭然如日星之在天。其不朽何待乎文哉。獨後死者之論。以爲公歿而...</td>\n",
              "      <td>\\n오호라, 이 책은 우리 향산공(響山公)의 유문(遺文)이다. 공의 큰 절의가 이미...</td>\n",
              "      <td>[嗚呼, 此吾響山公遺文也, 公大節旣昭然如日星之在天, 其不朽何待乎文哉, 獨後死者之論,...</td>\n",
              "    </tr>\n",
              "  </tbody>\n",
              "</table>\n",
              "<p>104122 rows × 4 columns</p>\n",
              "</div>"
            ],
            "text/plain": [
              "                                 ID  ...                                           sentence\n",
              "0       ITKC_MO_0001A_0010_010_0010  ...  [記有之, 曰酒醴之美, 而玄酒明水之尙, 貴五味之本也, 黼黻文繡之美, 而疏布之尙, 反...\n",
              "1       ITKC_MO_0001A_0010_010_0020  ...  [桂苑筆耕集二十卷, 新羅孤雲崔公在唐淮南幕府時公私應酬之作, 而東還之後, 手編表進于朝者...\n",
              "2       ITKC_MO_0001A_0010_010_0030  ...  [淮南入本國兼送詔書等使前都統巡官承務郎侍御史內供奉賜紫金魚袋臣崔致遠進所著雜詩賦及表奏集二...\n",
              "3       ITKC_MO_0001A_0020_010_0010  ...  [臣某言, 今月某日, 得進奏院狀報, 奉十一日宣下改廣明元年爲中和元年者, 展義龜城, 易...\n",
              "4       ITKC_MO_0001A_0020_010_0020  ...  [臣某言, 臣得進奏院狀報, 入南蠻通和使劉光裕等廻, 雲南通和兼進獻國信金銀器物疋段香藥馬...\n",
              "...                             ...  ...                                                ...\n",
              "105619  ITKC_MO_1252A_0270_000_0040  ...  [公諱晩燾字觀必姓李, 退溪文純公后, 大司成彙濬娶弼善姜橒女无育, 繼娶僉樞宋在憲女, 憲...\n",
              "105620  ITKC_MO_1252A_0280_000_0010  ...  [府君諱晩燾字觀必, 號響山, 又曰直齋, 姓李氏, 始祖諱碩, 麗末以眞寶縣吏中司馬, 生...\n",
              "105621  ITKC_MO_1252A_0290_000_0010  ...  [此吾響山公手藳之名訒出編者也, 殉國之粤六年丙辰, 吾黨之士, 就其中節略爲十九卷原集, ...\n",
              "105622  ITKC_MO_1252A_0290_000_0020  ...  [文者氣之所形也, 氣必充積而後文亦有格力, 故觀於文而其人槩可想矣, 然氣不可力以致, 其...\n",
              "105623  ITKC_MO_1252A_0290_000_0030  ...  [嗚呼, 此吾響山公遺文也, 公大節旣昭然如日星之在天, 其不朽何待乎文哉, 獨後死者之論,...\n",
              "\n",
              "[104122 rows x 4 columns]"
            ]
          },
          "metadata": {},
          "execution_count": 23
        }
      ]
    },
    {
      "cell_type": "code",
      "source": [
        "df_sent = df_test.explode('sentence')\n",
        "df_sent"
      ],
      "metadata": {
        "colab": {
          "base_uri": "https://localhost:8080/",
          "height": 597
        },
        "id": "sTTQNlHBlElG",
        "outputId": "66db1457-6c3e-4e40-eb46-04665fd3cb25"
      },
      "execution_count": null,
      "outputs": [
        {
          "output_type": "execute_result",
          "data": {
            "text/html": [
              "<div>\n",
              "<style scoped>\n",
              "    .dataframe tbody tr th:only-of-type {\n",
              "        vertical-align: middle;\n",
              "    }\n",
              "\n",
              "    .dataframe tbody tr th {\n",
              "        vertical-align: top;\n",
              "    }\n",
              "\n",
              "    .dataframe thead th {\n",
              "        text-align: right;\n",
              "    }\n",
              "</style>\n",
              "<table border=\"1\" class=\"dataframe\">\n",
              "  <thead>\n",
              "    <tr style=\"text-align: right;\">\n",
              "      <th></th>\n",
              "      <th>ID</th>\n",
              "      <th>원문</th>\n",
              "      <th>번역문</th>\n",
              "      <th>sentence</th>\n",
              "    </tr>\n",
              "  </thead>\n",
              "  <tbody>\n",
              "    <tr>\n",
              "      <th>0</th>\n",
              "      <td>ITKC_MO_0001A_0010_010_0010</td>\n",
              "      <td>記有之。曰酒醴之美。而玄酒明水之尙。貴五味之本也。黼黻文繡之美。而疏布之尙。反女功之始也。古...</td>\n",
              "      <td>\\n《예기》에 이르기를 “단술이 맛이 좋긴 하지만 제사 때에 현주와 명수 같은 물을...</td>\n",
              "      <td>記有之</td>\n",
              "    </tr>\n",
              "    <tr>\n",
              "      <th>0</th>\n",
              "      <td>ITKC_MO_0001A_0010_010_0010</td>\n",
              "      <td>記有之。曰酒醴之美。而玄酒明水之尙。貴五味之本也。黼黻文繡之美。而疏布之尙。反女功之始也。古...</td>\n",
              "      <td>\\n《예기》에 이르기를 “단술이 맛이 좋긴 하지만 제사 때에 현주와 명수 같은 물을...</td>\n",
              "      <td>曰酒醴之美</td>\n",
              "    </tr>\n",
              "    <tr>\n",
              "      <th>0</th>\n",
              "      <td>ITKC_MO_0001A_0010_010_0010</td>\n",
              "      <td>記有之。曰酒醴之美。而玄酒明水之尙。貴五味之本也。黼黻文繡之美。而疏布之尙。反女功之始也。古...</td>\n",
              "      <td>\\n《예기》에 이르기를 “단술이 맛이 좋긴 하지만 제사 때에 현주와 명수 같은 물을...</td>\n",
              "      <td>而玄酒明水之尙</td>\n",
              "    </tr>\n",
              "    <tr>\n",
              "      <th>0</th>\n",
              "      <td>ITKC_MO_0001A_0010_010_0010</td>\n",
              "      <td>記有之。曰酒醴之美。而玄酒明水之尙。貴五味之本也。黼黻文繡之美。而疏布之尙。反女功之始也。古...</td>\n",
              "      <td>\\n《예기》에 이르기를 “단술이 맛이 좋긴 하지만 제사 때에 현주와 명수 같은 물을...</td>\n",
              "      <td>貴五味之本也</td>\n",
              "    </tr>\n",
              "    <tr>\n",
              "      <th>0</th>\n",
              "      <td>ITKC_MO_0001A_0010_010_0010</td>\n",
              "      <td>記有之。曰酒醴之美。而玄酒明水之尙。貴五味之本也。黼黻文繡之美。而疏布之尙。反女功之始也。古...</td>\n",
              "      <td>\\n《예기》에 이르기를 “단술이 맛이 좋긴 하지만 제사 때에 현주와 명수 같은 물을...</td>\n",
              "      <td>黼黻文繡之美</td>\n",
              "    </tr>\n",
              "    <tr>\n",
              "      <th>...</th>\n",
              "      <td>...</td>\n",
              "      <td>...</td>\n",
              "      <td>...</td>\n",
              "      <td>...</td>\n",
              "    </tr>\n",
              "    <tr>\n",
              "      <th>105623</th>\n",
              "      <td>ITKC_MO_1252A_0290_000_0030</td>\n",
              "      <td>嗚呼。此吾響山公遺文也。公大節旣昭然如日星之在天。其不朽何待乎文哉。獨後死者之論。以爲公歿而...</td>\n",
              "      <td>\\n오호라, 이 책은 우리 향산공(響山公)의 유문(遺文)이다. 공의 큰 절의가 이미...</td>\n",
              "      <td>不知問學之爲何名而義理之爲何物</td>\n",
              "    </tr>\n",
              "    <tr>\n",
              "      <th>105623</th>\n",
              "      <td>ITKC_MO_1252A_0290_000_0030</td>\n",
              "      <td>嗚呼。此吾響山公遺文也。公大節旣昭然如日星之在天。其不朽何待乎文哉。獨後死者之論。以爲公歿而...</td>\n",
              "      <td>\\n오호라, 이 책은 우리 향산공(響山公)의 유문(遺文)이다. 공의 큰 절의가 이미...</td>\n",
              "      <td>如先生者更於何叫起來也</td>\n",
              "    </tr>\n",
              "    <tr>\n",
              "      <th>105623</th>\n",
              "      <td>ITKC_MO_1252A_0290_000_0030</td>\n",
              "      <td>嗚呼。此吾響山公遺文也。公大節旣昭然如日星之在天。其不朽何待乎文哉。獨後死者之論。以爲公歿而...</td>\n",
              "      <td>\\n오호라, 이 책은 우리 향산공(響山公)의 유문(遺文)이다. 공의 큰 절의가 이미...</td>\n",
              "      <td>只得拊遺卷爲之太息而已</td>\n",
              "    </tr>\n",
              "    <tr>\n",
              "      <th>105623</th>\n",
              "      <td>ITKC_MO_1252A_0290_000_0030</td>\n",
              "      <td>嗚呼。此吾響山公遺文也。公大節旣昭然如日星之在天。其不朽何待乎文哉。獨後死者之論。以爲公歿而...</td>\n",
              "      <td>\\n오호라, 이 책은 우리 향산공(響山公)의 유문(遺文)이다. 공의 큰 절의가 이미...</td>\n",
              "      <td>族姪中均謹跋</td>\n",
              "    </tr>\n",
              "    <tr>\n",
              "      <th>105623</th>\n",
              "      <td>ITKC_MO_1252A_0290_000_0030</td>\n",
              "      <td>嗚呼。此吾響山公遺文也。公大節旣昭然如日星之在天。其不朽何待乎文哉。獨後死者之論。以爲公歿而...</td>\n",
              "      <td>\\n오호라, 이 책은 우리 향산공(響山公)의 유문(遺文)이다. 공의 큰 절의가 이미...</td>\n",
              "      <td></td>\n",
              "    </tr>\n",
              "  </tbody>\n",
              "</table>\n",
              "<p>3907515 rows × 4 columns</p>\n",
              "</div>"
            ],
            "text/plain": [
              "                                 ID  ...         sentence\n",
              "0       ITKC_MO_0001A_0010_010_0010  ...              記有之\n",
              "0       ITKC_MO_0001A_0010_010_0010  ...            曰酒醴之美\n",
              "0       ITKC_MO_0001A_0010_010_0010  ...          而玄酒明水之尙\n",
              "0       ITKC_MO_0001A_0010_010_0010  ...           貴五味之本也\n",
              "0       ITKC_MO_0001A_0010_010_0010  ...           黼黻文繡之美\n",
              "...                             ...  ...              ...\n",
              "105623  ITKC_MO_1252A_0290_000_0030  ...  不知問學之爲何名而義理之爲何物\n",
              "105623  ITKC_MO_1252A_0290_000_0030  ...      如先生者更於何叫起來也\n",
              "105623  ITKC_MO_1252A_0290_000_0030  ...      只得拊遺卷爲之太息而已\n",
              "105623  ITKC_MO_1252A_0290_000_0030  ...           族姪中均謹跋\n",
              "105623  ITKC_MO_1252A_0290_000_0030  ...                 \n",
              "\n",
              "[3907515 rows x 4 columns]"
            ]
          },
          "metadata": {},
          "execution_count": 24
        }
      ]
    },
    {
      "cell_type": "code",
      "source": [
        "df_sent.to_pickle('한국문집총간_원문_문장분리.pickle')"
      ],
      "metadata": {
        "id": "ORq4n87eeKbk"
      },
      "execution_count": null,
      "outputs": []
    },
    {
      "cell_type": "code",
      "source": [
        "df_sent['token'] = df_sent['sentence'].progress_map(lambda x:','.join(x).split(','))"
      ],
      "metadata": {
        "colab": {
          "base_uri": "https://localhost:8080/"
        },
        "id": "Tikf9-GvebAU",
        "outputId": "a53b30ce-1d20-4d70-c42c-97ac1c599fdf"
      },
      "execution_count": null,
      "outputs": [
        {
          "output_type": "stream",
          "name": "stderr",
          "text": [
            "100%|██████████| 3907515/3907515 [00:22<00:00, 170683.60it/s]\n"
          ]
        }
      ]
    },
    {
      "cell_type": "code",
      "source": [
        "df_sent"
      ],
      "metadata": {
        "colab": {
          "base_uri": "https://localhost:8080/",
          "height": 597
        },
        "id": "y-FPhjRpe8ed",
        "outputId": "79948e29-40fb-49c0-e5a2-487dee14a011"
      },
      "execution_count": null,
      "outputs": [
        {
          "output_type": "execute_result",
          "data": {
            "text/html": [
              "<div>\n",
              "<style scoped>\n",
              "    .dataframe tbody tr th:only-of-type {\n",
              "        vertical-align: middle;\n",
              "    }\n",
              "\n",
              "    .dataframe tbody tr th {\n",
              "        vertical-align: top;\n",
              "    }\n",
              "\n",
              "    .dataframe thead th {\n",
              "        text-align: right;\n",
              "    }\n",
              "</style>\n",
              "<table border=\"1\" class=\"dataframe\">\n",
              "  <thead>\n",
              "    <tr style=\"text-align: right;\">\n",
              "      <th></th>\n",
              "      <th>ID</th>\n",
              "      <th>원문</th>\n",
              "      <th>번역문</th>\n",
              "      <th>sentence</th>\n",
              "      <th>token</th>\n",
              "    </tr>\n",
              "  </thead>\n",
              "  <tbody>\n",
              "    <tr>\n",
              "      <th>0</th>\n",
              "      <td>ITKC_MO_0001A_0010_010_0010</td>\n",
              "      <td>記有之。曰酒醴之美。而玄酒明水之尙。貴五味之本也。黼黻文繡之美。而疏布之尙。反女功之始也。古...</td>\n",
              "      <td>\\n《예기》에 이르기를 “단술이 맛이 좋긴 하지만 제사 때에 현주와 명수 같은 물을...</td>\n",
              "      <td>記有之</td>\n",
              "      <td>[記, 有, 之]</td>\n",
              "    </tr>\n",
              "    <tr>\n",
              "      <th>0</th>\n",
              "      <td>ITKC_MO_0001A_0010_010_0010</td>\n",
              "      <td>記有之。曰酒醴之美。而玄酒明水之尙。貴五味之本也。黼黻文繡之美。而疏布之尙。反女功之始也。古...</td>\n",
              "      <td>\\n《예기》에 이르기를 “단술이 맛이 좋긴 하지만 제사 때에 현주와 명수 같은 물을...</td>\n",
              "      <td>曰酒醴之美</td>\n",
              "      <td>[曰, 酒, 醴, 之, 美]</td>\n",
              "    </tr>\n",
              "    <tr>\n",
              "      <th>0</th>\n",
              "      <td>ITKC_MO_0001A_0010_010_0010</td>\n",
              "      <td>記有之。曰酒醴之美。而玄酒明水之尙。貴五味之本也。黼黻文繡之美。而疏布之尙。反女功之始也。古...</td>\n",
              "      <td>\\n《예기》에 이르기를 “단술이 맛이 좋긴 하지만 제사 때에 현주와 명수 같은 물을...</td>\n",
              "      <td>而玄酒明水之尙</td>\n",
              "      <td>[而, 玄, 酒, 明, 水, 之, 尙]</td>\n",
              "    </tr>\n",
              "    <tr>\n",
              "      <th>0</th>\n",
              "      <td>ITKC_MO_0001A_0010_010_0010</td>\n",
              "      <td>記有之。曰酒醴之美。而玄酒明水之尙。貴五味之本也。黼黻文繡之美。而疏布之尙。反女功之始也。古...</td>\n",
              "      <td>\\n《예기》에 이르기를 “단술이 맛이 좋긴 하지만 제사 때에 현주와 명수 같은 물을...</td>\n",
              "      <td>貴五味之本也</td>\n",
              "      <td>[貴, 五, 味, 之, 本, 也]</td>\n",
              "    </tr>\n",
              "    <tr>\n",
              "      <th>0</th>\n",
              "      <td>ITKC_MO_0001A_0010_010_0010</td>\n",
              "      <td>記有之。曰酒醴之美。而玄酒明水之尙。貴五味之本也。黼黻文繡之美。而疏布之尙。反女功之始也。古...</td>\n",
              "      <td>\\n《예기》에 이르기를 “단술이 맛이 좋긴 하지만 제사 때에 현주와 명수 같은 물을...</td>\n",
              "      <td>黼黻文繡之美</td>\n",
              "      <td>[黼, 黻, 文, 繡, 之, 美]</td>\n",
              "    </tr>\n",
              "    <tr>\n",
              "      <th>...</th>\n",
              "      <td>...</td>\n",
              "      <td>...</td>\n",
              "      <td>...</td>\n",
              "      <td>...</td>\n",
              "      <td>...</td>\n",
              "    </tr>\n",
              "    <tr>\n",
              "      <th>105623</th>\n",
              "      <td>ITKC_MO_1252A_0290_000_0030</td>\n",
              "      <td>嗚呼。此吾響山公遺文也。公大節旣昭然如日星之在天。其不朽何待乎文哉。獨後死者之論。以爲公歿而...</td>\n",
              "      <td>\\n오호라, 이 책은 우리 향산공(響山公)의 유문(遺文)이다. 공의 큰 절의가 이미...</td>\n",
              "      <td>不知問學之爲何名而義理之爲何物</td>\n",
              "      <td>[不, 知, 問, 學, 之, 爲, 何, 名, 而, 義, 理, 之, 爲, 何, 物]</td>\n",
              "    </tr>\n",
              "    <tr>\n",
              "      <th>105623</th>\n",
              "      <td>ITKC_MO_1252A_0290_000_0030</td>\n",
              "      <td>嗚呼。此吾響山公遺文也。公大節旣昭然如日星之在天。其不朽何待乎文哉。獨後死者之論。以爲公歿而...</td>\n",
              "      <td>\\n오호라, 이 책은 우리 향산공(響山公)의 유문(遺文)이다. 공의 큰 절의가 이미...</td>\n",
              "      <td>如先生者更於何叫起來也</td>\n",
              "      <td>[如, 先, 生, 者, 更, 於, 何, 叫, 起, 來, 也]</td>\n",
              "    </tr>\n",
              "    <tr>\n",
              "      <th>105623</th>\n",
              "      <td>ITKC_MO_1252A_0290_000_0030</td>\n",
              "      <td>嗚呼。此吾響山公遺文也。公大節旣昭然如日星之在天。其不朽何待乎文哉。獨後死者之論。以爲公歿而...</td>\n",
              "      <td>\\n오호라, 이 책은 우리 향산공(響山公)의 유문(遺文)이다. 공의 큰 절의가 이미...</td>\n",
              "      <td>只得拊遺卷爲之太息而已</td>\n",
              "      <td>[只, 得, 拊, 遺, 卷, 爲, 之, 太, 息, 而, 已]</td>\n",
              "    </tr>\n",
              "    <tr>\n",
              "      <th>105623</th>\n",
              "      <td>ITKC_MO_1252A_0290_000_0030</td>\n",
              "      <td>嗚呼。此吾響山公遺文也。公大節旣昭然如日星之在天。其不朽何待乎文哉。獨後死者之論。以爲公歿而...</td>\n",
              "      <td>\\n오호라, 이 책은 우리 향산공(響山公)의 유문(遺文)이다. 공의 큰 절의가 이미...</td>\n",
              "      <td>族姪中均謹跋</td>\n",
              "      <td>[族, 姪, 中, 均, 謹, 跋]</td>\n",
              "    </tr>\n",
              "    <tr>\n",
              "      <th>105623</th>\n",
              "      <td>ITKC_MO_1252A_0290_000_0030</td>\n",
              "      <td>嗚呼。此吾響山公遺文也。公大節旣昭然如日星之在天。其不朽何待乎文哉。獨後死者之論。以爲公歿而...</td>\n",
              "      <td>\\n오호라, 이 책은 우리 향산공(響山公)의 유문(遺文)이다. 공의 큰 절의가 이미...</td>\n",
              "      <td></td>\n",
              "      <td>[]</td>\n",
              "    </tr>\n",
              "  </tbody>\n",
              "</table>\n",
              "<p>3907515 rows × 5 columns</p>\n",
              "</div>"
            ],
            "text/plain": [
              "                                 ID  ...                                          token\n",
              "0       ITKC_MO_0001A_0010_010_0010  ...                                      [記, 有, 之]\n",
              "0       ITKC_MO_0001A_0010_010_0010  ...                                [曰, 酒, 醴, 之, 美]\n",
              "0       ITKC_MO_0001A_0010_010_0010  ...                          [而, 玄, 酒, 明, 水, 之, 尙]\n",
              "0       ITKC_MO_0001A_0010_010_0010  ...                             [貴, 五, 味, 之, 本, 也]\n",
              "0       ITKC_MO_0001A_0010_010_0010  ...                             [黼, 黻, 文, 繡, 之, 美]\n",
              "...                             ...  ...                                            ...\n",
              "105623  ITKC_MO_1252A_0290_000_0030  ...  [不, 知, 問, 學, 之, 爲, 何, 名, 而, 義, 理, 之, 爲, 何, 物]\n",
              "105623  ITKC_MO_1252A_0290_000_0030  ...              [如, 先, 生, 者, 更, 於, 何, 叫, 起, 來, 也]\n",
              "105623  ITKC_MO_1252A_0290_000_0030  ...              [只, 得, 拊, 遺, 卷, 爲, 之, 太, 息, 而, 已]\n",
              "105623  ITKC_MO_1252A_0290_000_0030  ...                             [族, 姪, 中, 均, 謹, 跋]\n",
              "105623  ITKC_MO_1252A_0290_000_0030  ...                                             []\n",
              "\n",
              "[3907515 rows x 5 columns]"
            ]
          },
          "metadata": {},
          "execution_count": 42
        }
      ]
    },
    {
      "cell_type": "code",
      "source": [
        "#1개 이하의 글자 제거\n",
        "df_sent_1 = df_sent[df_sent['token'].map(lambda x:len(x)>=2)]\n",
        "df_sent_1"
      ],
      "metadata": {
        "colab": {
          "base_uri": "https://localhost:8080/",
          "height": 597
        },
        "id": "TA9bEgl8nCCs",
        "outputId": "ba0cad22-805f-4661-de29-381e8ae543dd"
      },
      "execution_count": null,
      "outputs": [
        {
          "output_type": "execute_result",
          "data": {
            "text/html": [
              "<div>\n",
              "<style scoped>\n",
              "    .dataframe tbody tr th:only-of-type {\n",
              "        vertical-align: middle;\n",
              "    }\n",
              "\n",
              "    .dataframe tbody tr th {\n",
              "        vertical-align: top;\n",
              "    }\n",
              "\n",
              "    .dataframe thead th {\n",
              "        text-align: right;\n",
              "    }\n",
              "</style>\n",
              "<table border=\"1\" class=\"dataframe\">\n",
              "  <thead>\n",
              "    <tr style=\"text-align: right;\">\n",
              "      <th></th>\n",
              "      <th>ID</th>\n",
              "      <th>원문</th>\n",
              "      <th>번역문</th>\n",
              "      <th>sentence</th>\n",
              "      <th>token</th>\n",
              "    </tr>\n",
              "  </thead>\n",
              "  <tbody>\n",
              "    <tr>\n",
              "      <th>0</th>\n",
              "      <td>ITKC_MO_0001A_0010_010_0010</td>\n",
              "      <td>記有之。曰酒醴之美。而玄酒明水之尙。貴五味之本也。黼黻文繡之美。而疏布之尙。反女功之始也。古...</td>\n",
              "      <td>\\n《예기》에 이르기를 “단술이 맛이 좋긴 하지만 제사 때에 현주와 명수 같은 물을...</td>\n",
              "      <td>記有之</td>\n",
              "      <td>[記, 有, 之]</td>\n",
              "    </tr>\n",
              "    <tr>\n",
              "      <th>0</th>\n",
              "      <td>ITKC_MO_0001A_0010_010_0010</td>\n",
              "      <td>記有之。曰酒醴之美。而玄酒明水之尙。貴五味之本也。黼黻文繡之美。而疏布之尙。反女功之始也。古...</td>\n",
              "      <td>\\n《예기》에 이르기를 “단술이 맛이 좋긴 하지만 제사 때에 현주와 명수 같은 물을...</td>\n",
              "      <td>曰酒醴之美</td>\n",
              "      <td>[曰, 酒, 醴, 之, 美]</td>\n",
              "    </tr>\n",
              "    <tr>\n",
              "      <th>0</th>\n",
              "      <td>ITKC_MO_0001A_0010_010_0010</td>\n",
              "      <td>記有之。曰酒醴之美。而玄酒明水之尙。貴五味之本也。黼黻文繡之美。而疏布之尙。反女功之始也。古...</td>\n",
              "      <td>\\n《예기》에 이르기를 “단술이 맛이 좋긴 하지만 제사 때에 현주와 명수 같은 물을...</td>\n",
              "      <td>而玄酒明水之尙</td>\n",
              "      <td>[而, 玄, 酒, 明, 水, 之, 尙]</td>\n",
              "    </tr>\n",
              "    <tr>\n",
              "      <th>0</th>\n",
              "      <td>ITKC_MO_0001A_0010_010_0010</td>\n",
              "      <td>記有之。曰酒醴之美。而玄酒明水之尙。貴五味之本也。黼黻文繡之美。而疏布之尙。反女功之始也。古...</td>\n",
              "      <td>\\n《예기》에 이르기를 “단술이 맛이 좋긴 하지만 제사 때에 현주와 명수 같은 물을...</td>\n",
              "      <td>貴五味之本也</td>\n",
              "      <td>[貴, 五, 味, 之, 本, 也]</td>\n",
              "    </tr>\n",
              "    <tr>\n",
              "      <th>0</th>\n",
              "      <td>ITKC_MO_0001A_0010_010_0010</td>\n",
              "      <td>記有之。曰酒醴之美。而玄酒明水之尙。貴五味之本也。黼黻文繡之美。而疏布之尙。反女功之始也。古...</td>\n",
              "      <td>\\n《예기》에 이르기를 “단술이 맛이 좋긴 하지만 제사 때에 현주와 명수 같은 물을...</td>\n",
              "      <td>黼黻文繡之美</td>\n",
              "      <td>[黼, 黻, 文, 繡, 之, 美]</td>\n",
              "    </tr>\n",
              "    <tr>\n",
              "      <th>...</th>\n",
              "      <td>...</td>\n",
              "      <td>...</td>\n",
              "      <td>...</td>\n",
              "      <td>...</td>\n",
              "      <td>...</td>\n",
              "    </tr>\n",
              "    <tr>\n",
              "      <th>105623</th>\n",
              "      <td>ITKC_MO_1252A_0290_000_0030</td>\n",
              "      <td>嗚呼。此吾響山公遺文也。公大節旣昭然如日星之在天。其不朽何待乎文哉。獨後死者之論。以爲公歿而...</td>\n",
              "      <td>\\n오호라, 이 책은 우리 향산공(響山公)의 유문(遺文)이다. 공의 큰 절의가 이미...</td>\n",
              "      <td>人心世道日趍於汙</td>\n",
              "      <td>[人, 心, 世, 道, 日, 趍, 於, 汙]</td>\n",
              "    </tr>\n",
              "    <tr>\n",
              "      <th>105623</th>\n",
              "      <td>ITKC_MO_1252A_0290_000_0030</td>\n",
              "      <td>嗚呼。此吾響山公遺文也。公大節旣昭然如日星之在天。其不朽何待乎文哉。獨後死者之論。以爲公歿而...</td>\n",
              "      <td>\\n오호라, 이 책은 우리 향산공(響山公)의 유문(遺文)이다. 공의 큰 절의가 이미...</td>\n",
              "      <td>不知問學之爲何名而義理之爲何物</td>\n",
              "      <td>[不, 知, 問, 學, 之, 爲, 何, 名, 而, 義, 理, 之, 爲, 何, 物]</td>\n",
              "    </tr>\n",
              "    <tr>\n",
              "      <th>105623</th>\n",
              "      <td>ITKC_MO_1252A_0290_000_0030</td>\n",
              "      <td>嗚呼。此吾響山公遺文也。公大節旣昭然如日星之在天。其不朽何待乎文哉。獨後死者之論。以爲公歿而...</td>\n",
              "      <td>\\n오호라, 이 책은 우리 향산공(響山公)의 유문(遺文)이다. 공의 큰 절의가 이미...</td>\n",
              "      <td>如先生者更於何叫起來也</td>\n",
              "      <td>[如, 先, 生, 者, 更, 於, 何, 叫, 起, 來, 也]</td>\n",
              "    </tr>\n",
              "    <tr>\n",
              "      <th>105623</th>\n",
              "      <td>ITKC_MO_1252A_0290_000_0030</td>\n",
              "      <td>嗚呼。此吾響山公遺文也。公大節旣昭然如日星之在天。其不朽何待乎文哉。獨後死者之論。以爲公歿而...</td>\n",
              "      <td>\\n오호라, 이 책은 우리 향산공(響山公)의 유문(遺文)이다. 공의 큰 절의가 이미...</td>\n",
              "      <td>只得拊遺卷爲之太息而已</td>\n",
              "      <td>[只, 得, 拊, 遺, 卷, 爲, 之, 太, 息, 而, 已]</td>\n",
              "    </tr>\n",
              "    <tr>\n",
              "      <th>105623</th>\n",
              "      <td>ITKC_MO_1252A_0290_000_0030</td>\n",
              "      <td>嗚呼。此吾響山公遺文也。公大節旣昭然如日星之在天。其不朽何待乎文哉。獨後死者之論。以爲公歿而...</td>\n",
              "      <td>\\n오호라, 이 책은 우리 향산공(響山公)의 유문(遺文)이다. 공의 큰 절의가 이미...</td>\n",
              "      <td>族姪中均謹跋</td>\n",
              "      <td>[族, 姪, 中, 均, 謹, 跋]</td>\n",
              "    </tr>\n",
              "  </tbody>\n",
              "</table>\n",
              "<p>3796192 rows × 5 columns</p>\n",
              "</div>"
            ],
            "text/plain": [
              "                                 ID  ...                                          token\n",
              "0       ITKC_MO_0001A_0010_010_0010  ...                                      [記, 有, 之]\n",
              "0       ITKC_MO_0001A_0010_010_0010  ...                                [曰, 酒, 醴, 之, 美]\n",
              "0       ITKC_MO_0001A_0010_010_0010  ...                          [而, 玄, 酒, 明, 水, 之, 尙]\n",
              "0       ITKC_MO_0001A_0010_010_0010  ...                             [貴, 五, 味, 之, 本, 也]\n",
              "0       ITKC_MO_0001A_0010_010_0010  ...                             [黼, 黻, 文, 繡, 之, 美]\n",
              "...                             ...  ...                                            ...\n",
              "105623  ITKC_MO_1252A_0290_000_0030  ...                       [人, 心, 世, 道, 日, 趍, 於, 汙]\n",
              "105623  ITKC_MO_1252A_0290_000_0030  ...  [不, 知, 問, 學, 之, 爲, 何, 名, 而, 義, 理, 之, 爲, 何, 物]\n",
              "105623  ITKC_MO_1252A_0290_000_0030  ...              [如, 先, 生, 者, 更, 於, 何, 叫, 起, 來, 也]\n",
              "105623  ITKC_MO_1252A_0290_000_0030  ...              [只, 得, 拊, 遺, 卷, 爲, 之, 太, 息, 而, 已]\n",
              "105623  ITKC_MO_1252A_0290_000_0030  ...                             [族, 姪, 中, 均, 謹, 跋]\n",
              "\n",
              "[3796192 rows x 5 columns]"
            ]
          },
          "metadata": {},
          "execution_count": 27
        }
      ]
    },
    {
      "cell_type": "code",
      "source": [
        "df_sent_1.to_pickle('한국문집총간_원문_token.pickle')"
      ],
      "metadata": {
        "id": "pcy5XoA9fU2b"
      },
      "execution_count": null,
      "outputs": []
    }
  ],
  "metadata": {
    "colab": {
      "name": "한국고전종합DB_Preprocessing",
      "provenance": [],
      "toc_visible": true,
      "include_colab_link": true
    },
    "kernelspec": {
      "display_name": "Python 3",
      "name": "python3"
    },
    "language_info": {
      "codemirror_mode": {
        "name": "ipython",
        "version": 3
      },
      "file_extension": ".py",
      "mimetype": "text/x-python",
      "name": "python",
      "nbconvert_exporter": "python",
      "pygments_lexer": "ipython3",
      "version": "3.8.12"
    }
  },
  "nbformat": 4,
  "nbformat_minor": 0
}