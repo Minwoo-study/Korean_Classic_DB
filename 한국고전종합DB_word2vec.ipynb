{
  "cells": [
    {
      "cell_type": "markdown",
      "metadata": {
        "id": "view-in-github",
        "colab_type": "text"
      },
      "source": [
        "<a href=\"https://colab.research.google.com/github/Minwoo-study/Korean_Classic_DB/blob/main/%ED%95%9C%EA%B5%AD%EA%B3%A0%EC%A0%84%EC%A2%85%ED%95%A9DB_word2vec.ipynb\" target=\"_parent\"><img src=\"https://colab.research.google.com/assets/colab-badge.svg\" alt=\"Open In Colab\"/></a>"
      ]
    },
    {
      "cell_type": "markdown",
      "metadata": {
        "id": "ISCzLjj_Wj00"
      },
      "source": [
        "# 한국고전종합DB 원문 번역문 word2vec"
      ]
    },
    {
      "cell_type": "code",
      "execution_count": null,
      "metadata": {
        "id": "th0CxHhxgrVK"
      },
      "outputs": [],
      "source": [
        "import pandas as pd\n",
        "# import pickle5 as pickle\n",
        "import pickle\n",
        "import re\n",
        "import regex\n",
        "from tqdm import tqdm\n",
        "tqdm.pandas()\n",
        "\n",
        "from kiwipiepy import Kiwi, Option\n",
        "kiwi = Kiwi()\n",
        "kiwi.prepare()\n",
        "\n",
        "from kss import split_sentences\n",
        "import itertools\n",
        "from collections import defaultdict\n",
        "from collections import Counter\n",
        "\n",
        "import matplotlib.pyplot as plt\n",
        "import matplotlib as mpl\n",
        "# 그래프에서 마이너스 폰트 깨지는 문제에 대한 대처\n",
        "mpl.rcParams['axes.unicode_minus'] = False\n",
        "plt.rc('font', family='NanumBarunGothic')\n",
        "font_path = '/usr/share/fonts/truetype/nanum/NanumBarunGothic.ttf'\n",
        "import matplotlib.colors as clr\n",
        "\n",
        "from gensim.models import Word2Vec\n",
        "from sklearn.manifold import TSNE\n",
        "from sklearn.feature_extraction.text import CountVectorizer\n",
        "from sklearn.feature_extraction.text import TfidfVectorizer\n",
        "from sklearn.metrics.pairwise import cosine_similarity"
      ]
    },
    {
      "cell_type": "markdown",
      "metadata": {
        "id": "RzsEjYOilfZU"
      },
      "source": [
        "### 번역문 전처리"
      ]
    },
    {
      "cell_type": "code",
      "execution_count": null,
      "metadata": {
        "id": "oASMN5tqlWmm"
      },
      "outputs": [],
      "source": [
        "# 전처리 함수화\n",
        "# def preprocess(title,text):\n",
        "#     text = re.sub(f'\\n{title}\\n\\n<sep>','',text)\n",
        "#     text = re.sub(f'^\\n{title}\\n\\n','',text)\n",
        "#     text = re.sub('<sep>\\n\\n$','',text)\n",
        "#     text = re.sub('\\n',' ',text)\n",
        "#     text = re.sub('\\=+ \\d{1,} \\=+(\\<sep\\>)*','',text)\n",
        "    \n",
        "#     #한자제거 추가\n",
        "#     text = re.sub(r'\\([\\W]*\\)', '', text)\n",
        "#     text = re.sub('[一-龥]', '', text)\n",
        "#     text = re.sub(\"[()]\",\"\", text)\n",
        "    \n",
        "#     text = regex.sub('\\=+ \\p{Hangul}+ \\=+(\\<sep\\>)*','',text)\n",
        "#     text = regex.sub('\\=+ \\p{Han}+ \\=+(\\<sep\\>)*','',text)\n",
        "#     text = text.strip()\n",
        "#     text = re.sub('<sep>\\n*$','',text)\n",
        "#     text_list = text.split('<sep>')\n",
        "#     text_list = [x.strip() for x in text_list if not re.match('\\=+.+\\=+',x)]\n",
        "#     # text_list = [x for x in text_list if not re.match('\\=+.+\\=+',x)]\n",
        "#     return text_list"
      ]
    },
    {
      "cell_type": "code",
      "execution_count": null,
      "metadata": {
        "id": "i4JwAj2eWj1O"
      },
      "outputs": [],
      "source": [
        "def preprocess(text):\n",
        "    text = re.sub('\\n',' ',text).strip()\n",
        "    text = re.sub(\"[()《》〔〕]\",\"\", text)\n",
        "    text = re.sub('[一-龥]', '', text)\n",
        "    text = regex.sub('\\(\\p{Han}+\\)','',text)\n",
        "    return text"
      ]
    },
    {
      "cell_type": "code",
      "execution_count": null,
      "metadata": {
        "id": "e2OuQBclWj1P",
        "outputId": "0c9b6535-26e9-405a-fa49-f57a65d30417"
      },
      "outputs": [
        {
          "data": {
            "text/plain": [
              "'예기에 이르기를 “단술이 맛이 좋긴 하지만 제사 때에 현주와 명수 같은 물을 윗자리에 놓는 것은 물이 모든 맛의 근본임을 중시하려고 해서이다. 각종 화려한 무늬의 옷감이 아름답기는 하지만 제사 때에 거친 삼베로 동이를 덮는 것은 부녀자들이 하는 길쌈질의 시초를 돌아보고 귀하게 여기려 해서이다.     ”라고 하였다. 옛날의 군자가 그 근본과 시초를 반드시 중하게 여기려 한 것이 이와 같았다.우리 동방에 문장이 나와서 글을 지어 후세에 전할 수 있게 된 것은 고운 최공으로부터 비롯되었다. 그리고 우리 동방의 선비로서 북쪽으로 중국에 유학하여 문장으로 천하에 명성을 떨친 것도 최공으로부터 시작되었다. 최공의 글 가운데 후세에 전하는 것으로는 오직 계원필경과 중산복궤집 2부가 있을 뿐이다. 그러고 보면 이 2부의 서책이 또한 우리 동방 문장의 근본이요 시초라고 할 것이다.글을 숭상하는 우리 동방의 풍조가 아조에 이르러서는 더욱 빛나고 무르익어 집집마다 연허와 조유가 배출되면서 시와 문으로 문집을 이룬 것이 집을 가득 채울 정도로 엄청나게 많았다. 하지만 최공의 글을 아는 사람은 드물기만 하였다.내가 일찍이 근대 사람이 편찬한 동국서목을 보니 중산복궤집이 실려 있기에 널리 구해 보았지만 끝내 얻지 못하였다. 다만 계원필경 20권은 우리 집안에서 대대로 소장해 왔으므로 내가 어려서부터 진귀한 글로 알고서 음미해 왔다. 그러나 간혹 사람들과 이야기를 나누다 보면, 비록 박아하고 글을 잘하며 옛것을 좋아하는 자라고 할지라도 모두 그 글을 본 적이 없다고 말하고 있으니, 그러고 보면 이 글이 거의 없어질 지경에 이르렀다고 해야 할 것이다. 만약 이 글이 동방에 전하지 않게 된다면, 이는 현주를 태실에 진설하지 않는 것과 같고, 거친 삼베로 제사용 술동이를 덮지 않는 것과 같게 될 것이니, 어떻게 백성에게 근본을 잊지 말라고 가르칠 수가 있겠는가.세상에서는 간혹 공의 글이 모두 변려 사륙문으로서 옛 작자의 글과는 완전히 다르다고 비평하기도 한다. 그러나 공이 중국에 들어가서 활동한 것이 당나라 의종과 희종 연간이었는데, 당시에 중국의 글이 변려문을 전문으로 일삼았던 것을 감안할 때 공이 그 풍조에 따랐던 것은 원래 어쩔 수 없는 점이 있었다고 해야 할 것이다.그렇긴 하지만 공이 지은 글을 보면 왕왕 화려하면서도 들뜨지 않은 것이 많음을 알 수 있다. 가령 황소에게 보낸 격문 1편만을 보더라도 기운이 굳세고 뜻이 곧으니 결코 교묘하게 아로새기려 한 것이 아니요, 그가 지은 시 역시 평이하고 우아하니 만당의 사람들이 미칠 수 있는 바가 더욱 아니라고 할 것이다. 이는 대개 명수와 거친 삼베 같은 바탕 위에 단술의 맛과 화려한 옷감의 아름다움을 겸한 것이라고 할 것이니, 이 어찌 더욱 보배로 여겨야 할 일이 아니겠는가.공이 중국에서 과거에 급제하고 군부에 들어갔으니 이것만으로도 벌써 당시에 명성을 떨쳤다고 할 것인데, 공은 하루아침에 그만두고 떠나오면서 마치 헌 신발을 벗어버리듯 하였다. 그 뒤 동방에 돌아와서는 한원에 오르고 병부 시랑을 거쳐 아찬에 이르렀는데, 아찬은 신라의 대관이었다. 게다가 현달할 길이 바야흐로 끝나지 않았는데도, 공은 또 스스로 산림의 적막한 곳으로 나아가 배회하며 그 몸을 마치면서도 후회하지 않았다. 이는 대개 그 시대가 모두 뜻있는 일을 할 만한 상황이 아니라고 판단하였기 때문이다.사군자가 몸을 세우고 도를 행함에 있어서는 출처를 어떻게 하느냐가 가장 중요하다고 할 것이다. 그런데 출처에 있어서 그 때를 잃지 않는 것은 현자가 아니고서는 불가능한 일이다. 현자가 지은 글이라면 당연히 세상에 전하지 않는 일이 없게 해야 할 것인데, 더군다나 그 글이 저토록 걸출하고 또 동국 문장의 근본과 시초가 되는 데야 더 말해 무엇 하겠는가.호남 관찰사 서공 준평 서유구은 바로 내가 박아하고 글을 잘하며 옛것을 좋아하는 자라고 칭한 그 사람이다. 내가 이 글을 소장하고 있다는 말을 듣고는 얼른 가져다가 교열한 뒤에 자기 봉록을 털어 활자로 인쇄해서 수십 백 본을 만들어 널리 전파하려 하면서 “이 글이 동국에서 끊어지게 해서는 안 된다.”라고 하였다.아, 근본과 시초를 잊지 않는 것이야말로 백성에게 후덕함을 가르치는 것이요, 현인을 표장하는 것이야말로 백성에게 착한 일을 권면하는 것이다. 서공의 마음 씀이 이와 같으니, 그가 호남에서 행하는 정사가 어떠할지를 또한 알 수가 있다.이 일이 완료된 뒤에 서공이 나에게 부탁하기를 “그대가 바로 이 글을 전하였으니, 지금 한마디 말을 아껴서는 안 된다.”라고 하기에, 내가 사양하였으나 허락을 얻지 못하였다. 최공의 행적의 본말과 이 글의 고증 자료 등에 대해서는 서공의 서문에 자세히 나와 있으니 내가 더 이상 덧붙일 말이 없다. 갑오년1834, 순조34 9월에 대광보국숭록대부 의정부 좌의정 풍산 홍석주는 서문을 쓰다.'"
            ]
          },
          "execution_count": 8,
          "metadata": {},
          "output_type": "execute_result"
        }
      ],
      "source": [
        "preprocess(data['번역문'][0])"
      ]
    },
    {
      "cell_type": "code",
      "execution_count": null,
      "metadata": {
        "id": "OvyMI5gSSiGI"
      },
      "outputs": [],
      "source": [
        "data=data.reset_index(drop=True)"
      ]
    },
    {
      "cell_type": "code",
      "execution_count": null,
      "metadata": {
        "colab": {
          "base_uri": "https://localhost:8080/"
        },
        "id": "XLna9R_TSK7N",
        "outputId": "9f2e9624-dd9a-4715-910e-6375b1c59a98"
      },
      "outputs": [
        {
          "name": "stderr",
          "output_type": "stream",
          "text": [
            "100%|██████████| 104127/104127 [00:05<00:00, 17671.18it/s]\n",
            "/tmp/ipykernel_649961/1663847976.py:1: SettingWithCopyWarning: \n",
            "A value is trying to be set on a copy of a slice from a DataFrame.\n",
            "Try using .loc[row_indexer,col_indexer] = value instead\n",
            "\n",
            "See the caveats in the documentation: https://pandas.pydata.org/pandas-docs/stable/user_guide/indexing.html#returning-a-view-versus-a-copy\n",
            "  data['text_list'] = data.progress_apply(lambda x:preprocess(x['번역문']),axis=1)\n"
          ]
        },
        {
          "data": {
            "text/plain": [
              "0         예기에 이르기를 “단술이 맛이 좋긴 하지만 제사 때에 현주와 명수 같은 물을 윗자리...\n",
              "1         계원필경집 20권은 신라의 고운 최공이 당나라 회남 막부에 있을 때 공적으로나 사적...\n",
              "2         회남에서 본국에 들어오면서 조서 등을 보내는 사신을 겸한, 전 도통순관 승무랑 시어...\n",
              "3         신 모는 아룁니다.금월 모일에 진주원의 장보를 얻어서 11일에 선하된 내용을 살펴보...\n",
              "4         신 모는 아룁니다.신이 진주원의 장보를 얻어 보건대, 입남만통화사 유광유 등이 돌아...\n",
              "                                ...                        \n",
              "105619    공은 휘는 만도, 자는 관필이며, 성은 이씨로 퇴계 문순공의 후손이다. 대사성 휘준...\n",
              "105620    부군은 휘는 만도, 자는 관필, 호는 향산 혹은 직제이며 성은 이씨이다. 시조 휘 ...\n",
              "105621    이것은 우리 향산공의 수고로, 인출편이라고 하는 것이다. 공이 순국하신 지 6년이 ...\n",
              "105622    글이란 기가 드러난 것이며, 기가 충만한 뒤에라야 글 역시 격조가 생기므로, 글을 ...\n",
              "105623    오호라, 이 책은 우리 향산공의 유문이다. 공의 큰 절의가 이미 하늘에 있는 해와 ...\n",
              "Name: text_list, Length: 104127, dtype: object"
            ]
          },
          "execution_count": 9,
          "metadata": {},
          "output_type": "execute_result"
        }
      ],
      "source": [
        "data['text_list'] = data.progress_apply(lambda x:preprocess(x['번역문']),axis=1)\n",
        "data['text_list']"
      ]
    },
    {
      "cell_type": "code",
      "execution_count": null,
      "metadata": {
        "id": "pFtCPSyyE5VH"
      },
      "outputs": [],
      "source": [
        "# data_dup['text_list'] = data_dup['text_list'].astype(str)"
      ]
    },
    {
      "cell_type": "code",
      "execution_count": null,
      "metadata": {
        "id": "aDIrZefY-2lz",
        "outputId": "d7b29f4c-96df-409e-b1cb-19941da60208"
      },
      "outputs": [
        {
          "data": {
            "text/plain": [
              "0         예기에 이르기를 “단술이 맛이 좋긴 하지만 제사 때에 현주와 명수 같은 물을 윗자리...\n",
              "1         계원필경집 20권은 신라의 고운 최공이 당나라 회남 막부에 있을 때 공적으로나 사적...\n",
              "2         회남에서 본국에 들어오면서 조서 등을 보내는 사신을 겸한, 전 도통순관 승무랑 시어...\n",
              "3         신 모는 아룁니다.금월 모일에 진주원의 장보를 얻어서 11일에 선하된 내용을 살펴보...\n",
              "4         신 모는 아룁니다.신이 진주원의 장보를 얻어 보건대, 입남만통화사 유광유 등이 돌아...\n",
              "                                ...                        \n",
              "105619    공은 휘는 만도, 자는 관필이며, 성은 이씨로 퇴계 문순공의 후손이다. 대사성 휘준...\n",
              "105620    부군은 휘는 만도, 자는 관필, 호는 향산 혹은 직제이며 성은 이씨이다. 시조 휘 ...\n",
              "105621    이것은 우리 향산공의 수고로, 인출편이라고 하는 것이다. 공이 순국하신 지 6년이 ...\n",
              "105622    글이란 기가 드러난 것이며, 기가 충만한 뒤에라야 글 역시 격조가 생기므로, 글을 ...\n",
              "105623    오호라, 이 책은 우리 향산공의 유문이다. 공의 큰 절의가 이미 하늘에 있는 해와 ...\n",
              "Name: text_list, Length: 104127, dtype: object"
            ]
          },
          "execution_count": 10,
          "metadata": {},
          "output_type": "execute_result"
        }
      ],
      "source": [
        "data['text_list']"
      ]
    },
    {
      "cell_type": "markdown",
      "metadata": {
        "id": "WZJ7l5jXkF9V"
      },
      "source": [
        "##### 문단 -> 문장"
      ]
    },
    {
      "cell_type": "code",
      "execution_count": null,
      "metadata": {
        "id": "E_ihyAPD_obt"
      },
      "outputs": [],
      "source": [
        "# 문단 -> 문장 (오래걸림)\n",
        "# data_dup['sentence'] = data_dup['text_list'].progress_map(lambda x:split_sentences(x, backend='mecab', disable_gc=True))\n",
        "# data_dup['sentence']"
      ]
    },
    {
      "cell_type": "code",
      "execution_count": null,
      "metadata": {
        "id": "RMYmUQRuWj1R",
        "outputId": "451d56f8-7714-43bc-9431-a88957d0078f"
      },
      "outputs": [
        {
          "name": "stderr",
          "output_type": "stream",
          "text": [
            "100%|██████████| 104127/104127 [00:00<00:00, 199354.79it/s]\n",
            "/tmp/ipykernel_649961/3797538806.py:2: SettingWithCopyWarning: \n",
            "A value is trying to be set on a copy of a slice from a DataFrame.\n",
            "Try using .loc[row_indexer,col_indexer] = value instead\n",
            "\n",
            "See the caveats in the documentation: https://pandas.pydata.org/pandas-docs/stable/user_guide/indexing.html#returning-a-view-versus-a-copy\n",
            "  data['sentence'] = data['text_list'].progress_map(lambda x:x.split('.'))\n"
          ]
        },
        {
          "data": {
            "text/plain": [
              "0         [예기에 이르기를 “단술이 맛이 좋긴 하지만 제사 때에 현주와 명수 같은 물을 윗자...\n",
              "1         [계원필경집 20권은 신라의 고운 최공이 당나라 회남 막부에 있을 때 공적으로나 사...\n",
              "2         [회남에서 본국에 들어오면서 조서 등을 보내는 사신을 겸한, 전 도통순관 승무랑 시...\n",
              "3         [신 모는 아룁니다, 금월 모일에 진주원의 장보를 얻어서 11일에 선하된 내용을 살...\n",
              "4         [신 모는 아룁니다, 신이 진주원의 장보를 얻어 보건대, 입남만통화사 유광유 등이 ...\n",
              "                                ...                        \n",
              "105619    [공은 휘는 만도, 자는 관필이며, 성은 이씨로 퇴계 문순공의 후손이다,  대사성 ...\n",
              "105620    [부군은 휘는 만도, 자는 관필, 호는 향산 혹은 직제이며 성은 이씨이다,  시조 ...\n",
              "105621    [이것은 우리 향산공의 수고로, 인출편이라고 하는 것이다,  공이 순국하신 지 6년...\n",
              "105622    [글이란 기가 드러난 것이며, 기가 충만한 뒤에라야 글 역시 격조가 생기므로, 글을...\n",
              "105623    [오호라, 이 책은 우리 향산공의 유문이다,  공의 큰 절의가 이미 하늘에 있는 해...\n",
              "Name: sentence, Length: 104127, dtype: object"
            ]
          },
          "execution_count": 11,
          "metadata": {},
          "output_type": "execute_result"
        }
      ],
      "source": [
        "# 문단 -> 문장 (마침표 기준으로 분할)\n",
        "data['sentence'] = data['text_list'].progress_map(lambda x:x.split('.'))\n",
        "data['sentence']"
      ]
    },
    {
      "cell_type": "code",
      "execution_count": null,
      "metadata": {
        "id": "Zm9BCyfBWj1R"
      },
      "outputs": [],
      "source": [
        "data = data.explode(['sentence']).reset_index(drop=True)"
      ]
    },
    {
      "cell_type": "markdown",
      "metadata": {
        "id": "mC_aTeJX3uJK"
      },
      "source": [
        "#### 형태소 분석\n"
      ]
    },
    {
      "cell_type": "code",
      "execution_count": null,
      "metadata": {
        "id": "CzobMAdFvvMV"
      },
      "outputs": [],
      "source": [
        "## 토크나이징 함수 선언 (품사 포함)\n",
        "def tokenize(sent):\n",
        "    res, score = kiwi.analyze(sent)[0] # 첫번째 결과를 사용\n",
        "    return [word + ('다' if tag.startswith('V') else '')+ '/'+ tag # 동사/형용사에는 '다'를 붙여줌 + / 품사\n",
        "            for word, tag, _, _ in res\n",
        "            if not tag.startswith('E') and not tag.startswith('J') and not tag.startswith('S') and word not in stopwords] # 조사, 어미, 특수기호 및 stopwords에 포함된 단어는 제거"
      ]
    },
    {
      "cell_type": "code",
      "execution_count": null,
      "metadata": {
        "id": "i1jcbDrFWj1S",
        "outputId": "5441c030-ff09-45b5-fc46-b4e223ecddba"
      },
      "outputs": [
        {
          "data": {
            "text/plain": [
              "False"
            ]
          },
          "execution_count": 45,
          "metadata": {},
          "output_type": "execute_result"
        }
      ],
      "source": [
        "kiwi.add_user_word('해동', 'NNG', 100000)"
      ]
    },
    {
      "cell_type": "code",
      "execution_count": null,
      "metadata": {
        "id": "vatef3WsWj1S",
        "outputId": "f0a49bb5-e46c-45b7-ff5f-8cb0f73a74c3"
      },
      "outputs": [
        {
          "data": {
            "text/plain": [
              "[([Token(form='해동', tag='NNP', start=0, len=2),\n",
              "   Token(form='에서', tag='JKB', start=2, len=2),\n",
              "   Token(form='는', tag='JX', start=4, len=1)],\n",
              "  -24.13312530517578)]"
            ]
          },
          "execution_count": 46,
          "metadata": {},
          "output_type": "execute_result"
        }
      ],
      "source": [
        "kiwi.analyze('해동에서는')"
      ]
    },
    {
      "cell_type": "code",
      "execution_count": null,
      "metadata": {
        "id": "LOEaWp9uWj1S",
        "outputId": "d742d682-abfb-4d48-9057-2188f88dc962"
      },
      "outputs": [
        {
          "name": "stdout",
          "output_type": "stream",
          "text": [
            "0\n",
            "200000\n",
            "400000\n",
            "600000\n",
            "UnicodeDecodeError\n",
            "800000\n",
            "1000000\n",
            "1200000\n",
            "1400000\n"
          ]
        }
      ],
      "source": [
        "token_list = []\n",
        "stopwords = ['이다','하다','있다','위하']\n",
        "for i,result in enumerate(kiwi.analyze(data['sentence'].tolist())):\n",
        "      if i % 200000 ==0:\n",
        "            print(i)\n",
        "      try:\n",
        "            res, score = result[0]\n",
        "            token_list.append([word + ('다' if tag.startswith('V') else '')+ '/'+ tag # 동사/형용사에는 '다'를 붙여줌 + / 품사\n",
        "            for word, tag, _, _ in res\n",
        "            if not tag.startswith('E') and not tag.startswith('J') and not tag.startswith('S') and word not in stopwords]) # 조사, 어미, 특수기호 및 stopwords에 포함된 단어는 제거)\n",
        "      except UnicodeDecodeError:\n",
        "            print('UnicodeDecodeError')\n",
        "            token_list.append([])"
      ]
    },
    {
      "cell_type": "code",
      "execution_count": null,
      "metadata": {
        "colab": {
          "base_uri": "https://localhost:8080/"
        },
        "id": "HnAOz3KqwF9s",
        "outputId": "6a1ff1cc-d836-4fa4-ae3f-696d45dfbfc4"
      },
      "outputs": [
        {
          "data": {
            "text/plain": [
              "0          [예기/NNG, 이르다/VV, 달다/VA, 술/NNG, 맛/NNG, 좋다/VA, 하...\n",
              "1          [각종/NNG, 화려/XR, 하/XSA, 무늬/NNG, 옷감/NNG, 아름답다/VA...\n",
              "2                                                    [하다/VV]\n",
              "3          [옛날/NNG, 군자/NNG, 그/MM, 근본/NNG, 시초/NNG, 반드시/MAG...\n",
              "4          [우리/NP, 동방/NNG, 문장/NNG, 나오다/VV, 글/NNG, 짓다/VV, ...\n",
              "                                 ...                        \n",
              "1584494    [만년/NNG, 이르다/VV, 옛/MM, 경전/NNG, 안다/VV, 깊다/VA, 산...\n",
              "1584495    [경술년/NNG, 변고/NNG, 지금/NNG, 여/XSN, 년/NNB, 동안/NNG...\n",
              "1584496    [다만/MAG, 유집/NNP, 어루만지다/VV, 길다/VA, 탄식/NNG, 하/XS...\n",
              "1584497          [족/NNB, 질/XSN, 중/NNB, 균/NNG, 삼가/NNG, 쓰다/VV]\n",
              "1584498                                                   []\n",
              "Name: token, Length: 1584499, dtype: object"
            ]
          },
          "execution_count": 14,
          "metadata": {},
          "output_type": "execute_result"
        }
      ],
      "source": [
        "data['token'] = pd.Series(token_list)\n",
        "data['token']"
      ]
    },
    {
      "cell_type": "code",
      "execution_count": null,
      "metadata": {
        "colab": {
          "base_uri": "https://localhost:8080/",
          "height": 325
        },
        "id": "RrgnZjC4Ny2V",
        "outputId": "bf6f26ec-bb29-428f-d75d-a798a513c27c"
      },
      "outputs": [
        {
          "data": {
            "text/html": [
              "<div>\n",
              "<style scoped>\n",
              "    .dataframe tbody tr th:only-of-type {\n",
              "        vertical-align: middle;\n",
              "    }\n",
              "\n",
              "    .dataframe tbody tr th {\n",
              "        vertical-align: top;\n",
              "    }\n",
              "\n",
              "    .dataframe thead th {\n",
              "        text-align: right;\n",
              "    }\n",
              "</style>\n",
              "<table border=\"1\" class=\"dataframe\">\n",
              "  <thead>\n",
              "    <tr style=\"text-align: right;\">\n",
              "      <th></th>\n",
              "      <th>ID</th>\n",
              "      <th>원문</th>\n",
              "      <th>번역문</th>\n",
              "      <th>text_list</th>\n",
              "      <th>sentence</th>\n",
              "      <th>token</th>\n",
              "    </tr>\n",
              "  </thead>\n",
              "  <tbody>\n",
              "    <tr>\n",
              "      <th>2</th>\n",
              "      <td>ITKC_MO_0001A_0010_010_0010</td>\n",
              "      <td>記有之。曰酒醴之美。而玄酒明水之尙。貴五味之本也。黼黻文繡之美。而疏布之尙。反女功之始也。古...</td>\n",
              "      <td>\\n《예기》에 이르기를 “단술이 맛이 좋긴 하지만 제사 때에 현주와 명수 같은 물을...</td>\n",
              "      <td>예기에 이르기를 “단술이 맛이 좋긴 하지만 제사 때에 현주와 명수 같은 물을 윗자리...</td>\n",
              "      <td>”라고 하였다</td>\n",
              "      <td>[하다/VV]</td>\n",
              "    </tr>\n",
              "    <tr>\n",
              "      <th>28</th>\n",
              "      <td>ITKC_MO_0001A_0010_010_0010</td>\n",
              "      <td>記有之。曰酒醴之美。而玄酒明水之尙。貴五味之本也。黼黻文繡之美。而疏布之尙。反女功之始也。古...</td>\n",
              "      <td>\\n《예기》에 이르기를 “단술이 맛이 좋긴 하지만 제사 때에 현주와 명수 같은 물을...</td>\n",
              "      <td>예기에 이르기를 “단술이 맛이 좋긴 하지만 제사 때에 현주와 명수 같은 물을 윗자리...</td>\n",
              "      <td>”라고 하였다</td>\n",
              "      <td>[하다/VV]</td>\n",
              "    </tr>\n",
              "    <tr>\n",
              "      <th>35</th>\n",
              "      <td>ITKC_MO_0001A_0010_010_0010</td>\n",
              "      <td>記有之。曰酒醴之美。而玄酒明水之尙。貴五味之本也。黼黻文繡之美。而疏布之尙。反女功之始也。古...</td>\n",
              "      <td>\\n《예기》에 이르기를 “단술이 맛이 좋긴 하지만 제사 때에 현주와 명수 같은 물을...</td>\n",
              "      <td>예기에 이르기를 “단술이 맛이 좋긴 하지만 제사 때에 현주와 명수 같은 물을 윗자리...</td>\n",
              "      <td></td>\n",
              "      <td>[]</td>\n",
              "    </tr>\n",
              "    <tr>\n",
              "      <th>70</th>\n",
              "      <td>ITKC_MO_0001A_0010_010_0020</td>\n",
              "      <td>桂苑筆耕集二十卷。新羅孤雲崔公在唐淮南幕府時公私應酬之作。而東還之後。手編表進于朝者也公名致...</td>\n",
              "      <td>\\n《계원필경집》 20권은 신라의 고운(孤雲) 최공(崔公)이 당나라 회남(淮南) 막...</td>\n",
              "      <td>계원필경집 20권은 신라의 고운 최공이 당나라 회남 막부에 있을 때 공적으로나 사적...</td>\n",
              "      <td></td>\n",
              "      <td>[]</td>\n",
              "    </tr>\n",
              "    <tr>\n",
              "      <th>76</th>\n",
              "      <td>ITKC_MO_0001A_0010_010_0030</td>\n",
              "      <td>淮南入本國兼送詔書等使前都統巡官承務郎侍御史內供奉賜紫金魚袋臣崔致遠進所著雜詩賦及表奏集二十...</td>\n",
              "      <td>\\n회남(淮南)에서 본국에 들어오면서 조서(詔書) 등을 보내는 사신을 겸한, 전(前...</td>\n",
              "      <td>회남에서 본국에 들어오면서 조서 등을 보내는 사신을 겸한, 전 도통순관 승무랑 시어...</td>\n",
              "      <td>”라고 하였습니다</td>\n",
              "      <td>[하다/VV]</td>\n",
              "    </tr>\n",
              "    <tr>\n",
              "      <th>...</th>\n",
              "      <td>...</td>\n",
              "      <td>...</td>\n",
              "      <td>...</td>\n",
              "      <td>...</td>\n",
              "      <td>...</td>\n",
              "      <td>...</td>\n",
              "    </tr>\n",
              "    <tr>\n",
              "      <th>1584483</th>\n",
              "      <td>ITKC_MO_1252A_0290_000_0020</td>\n",
              "      <td>文者氣之所形也。氣必充積而後文亦有格力。故觀於文而其人槩可想矣。然氣不可力以致。其得於天者。...</td>\n",
              "      <td>\\n글이란 기(氣)가 드러난 것이며, 기가 충만(充滿)한 뒤에라야 글 역시 격조(格...</td>\n",
              "      <td>글이란 기가 드러난 것이며, 기가 충만한 뒤에라야 글 역시 격조가 생기므로, 글을 ...</td>\n",
              "      <td>”라고 하는 것이다</td>\n",
              "      <td>[하다/VV, 것/NNB, 이다/VCP]</td>\n",
              "    </tr>\n",
              "    <tr>\n",
              "      <th>1584484</th>\n",
              "      <td>ITKC_MO_1252A_0290_000_0020</td>\n",
              "      <td>文者氣之所形也。氣必充積而後文亦有格力。故觀於文而其人槩可想矣。然氣不可力以致。其得於天者。...</td>\n",
              "      <td>\\n글이란 기(氣)가 드러난 것이며, 기가 충만(充滿)한 뒤에라야 글 역시 격조(格...</td>\n",
              "      <td>글이란 기가 드러난 것이며, 기가 충만한 뒤에라야 글 역시 격조가 생기므로, 글을 ...</td>\n",
              "      <td>족손 강호가 적는다</td>\n",
              "      <td>[족/NNB, 손/NNG, 강호/NNP, 적다/VA]</td>\n",
              "    </tr>\n",
              "    <tr>\n",
              "      <th>1584485</th>\n",
              "      <td>ITKC_MO_1252A_0290_000_0020</td>\n",
              "      <td>文者氣之所形也。氣必充積而後文亦有格力。故觀於文而其人槩可想矣。然氣不可力以致。其得於天者。...</td>\n",
              "      <td>\\n글이란 기(氣)가 드러난 것이며, 기가 충만(充滿)한 뒤에라야 글 역시 격조(格...</td>\n",
              "      <td>글이란 기가 드러난 것이며, 기가 충만한 뒤에라야 글 역시 격조가 생기므로, 글을 ...</td>\n",
              "      <td></td>\n",
              "      <td>[]</td>\n",
              "    </tr>\n",
              "    <tr>\n",
              "      <th>1584489</th>\n",
              "      <td>ITKC_MO_1252A_0290_000_0030</td>\n",
              "      <td>嗚呼。此吾響山公遺文也。公大節旣昭然如日星之在天。其不朽何待乎文哉。獨後死者之論。以爲公歿而...</td>\n",
              "      <td>\\n오호라, 이 책은 우리 향산공(響山公)의 유문(遺文)이다. 공의 큰 절의가 이미...</td>\n",
              "      <td>오호라, 이 책은 우리 향산공의 유문이다. 공의 큰 절의가 이미 하늘에 있는 해와 ...</td>\n",
              "      <td>”라고 하였으니, 참으로 그러하다</td>\n",
              "      <td>[하다/VV, 참으로/MAG, 그러/XR, 하/XSA]</td>\n",
              "    </tr>\n",
              "    <tr>\n",
              "      <th>1584498</th>\n",
              "      <td>ITKC_MO_1252A_0290_000_0030</td>\n",
              "      <td>嗚呼。此吾響山公遺文也。公大節旣昭然如日星之在天。其不朽何待乎文哉。獨後死者之論。以爲公歿而...</td>\n",
              "      <td>\\n오호라, 이 책은 우리 향산공(響山公)의 유문(遺文)이다. 공의 큰 절의가 이미...</td>\n",
              "      <td>오호라, 이 책은 우리 향산공의 유문이다. 공의 큰 절의가 이미 하늘에 있는 해와 ...</td>\n",
              "      <td></td>\n",
              "      <td>[]</td>\n",
              "    </tr>\n",
              "  </tbody>\n",
              "</table>\n",
              "<p>167363 rows × 6 columns</p>\n",
              "</div>"
            ],
            "text/plain": [
              "                                  ID  \\\n",
              "2        ITKC_MO_0001A_0010_010_0010   \n",
              "28       ITKC_MO_0001A_0010_010_0010   \n",
              "35       ITKC_MO_0001A_0010_010_0010   \n",
              "70       ITKC_MO_0001A_0010_010_0020   \n",
              "76       ITKC_MO_0001A_0010_010_0030   \n",
              "...                              ...   \n",
              "1584483  ITKC_MO_1252A_0290_000_0020   \n",
              "1584484  ITKC_MO_1252A_0290_000_0020   \n",
              "1584485  ITKC_MO_1252A_0290_000_0020   \n",
              "1584489  ITKC_MO_1252A_0290_000_0030   \n",
              "1584498  ITKC_MO_1252A_0290_000_0030   \n",
              "\n",
              "                                                        원문  \\\n",
              "2        記有之。曰酒醴之美。而玄酒明水之尙。貴五味之本也。黼黻文繡之美。而疏布之尙。反女功之始也。古...   \n",
              "28       記有之。曰酒醴之美。而玄酒明水之尙。貴五味之本也。黼黻文繡之美。而疏布之尙。反女功之始也。古...   \n",
              "35       記有之。曰酒醴之美。而玄酒明水之尙。貴五味之本也。黼黻文繡之美。而疏布之尙。反女功之始也。古...   \n",
              "70       桂苑筆耕集二十卷。新羅孤雲崔公在唐淮南幕府時公私應酬之作。而東還之後。手編表進于朝者也公名致...   \n",
              "76       淮南入本國兼送詔書等使前都統巡官承務郎侍御史內供奉賜紫金魚袋臣崔致遠進所著雜詩賦及表奏集二十...   \n",
              "...                                                    ...   \n",
              "1584483  文者氣之所形也。氣必充積而後文亦有格力。故觀於文而其人槩可想矣。然氣不可力以致。其得於天者。...   \n",
              "1584484  文者氣之所形也。氣必充積而後文亦有格力。故觀於文而其人槩可想矣。然氣不可力以致。其得於天者。...   \n",
              "1584485  文者氣之所形也。氣必充積而後文亦有格力。故觀於文而其人槩可想矣。然氣不可力以致。其得於天者。...   \n",
              "1584489  嗚呼。此吾響山公遺文也。公大節旣昭然如日星之在天。其不朽何待乎文哉。獨後死者之論。以爲公歿而...   \n",
              "1584498  嗚呼。此吾響山公遺文也。公大節旣昭然如日星之在天。其不朽何待乎文哉。獨後死者之論。以爲公歿而...   \n",
              "\n",
              "                                                       번역문  \\\n",
              "2        \\n《예기》에 이르기를 “단술이 맛이 좋긴 하지만 제사 때에 현주와 명수 같은 물을...   \n",
              "28       \\n《예기》에 이르기를 “단술이 맛이 좋긴 하지만 제사 때에 현주와 명수 같은 물을...   \n",
              "35       \\n《예기》에 이르기를 “단술이 맛이 좋긴 하지만 제사 때에 현주와 명수 같은 물을...   \n",
              "70       \\n《계원필경집》 20권은 신라의 고운(孤雲) 최공(崔公)이 당나라 회남(淮南) 막...   \n",
              "76       \\n회남(淮南)에서 본국에 들어오면서 조서(詔書) 등을 보내는 사신을 겸한, 전(前...   \n",
              "...                                                    ...   \n",
              "1584483  \\n글이란 기(氣)가 드러난 것이며, 기가 충만(充滿)한 뒤에라야 글 역시 격조(格...   \n",
              "1584484  \\n글이란 기(氣)가 드러난 것이며, 기가 충만(充滿)한 뒤에라야 글 역시 격조(格...   \n",
              "1584485  \\n글이란 기(氣)가 드러난 것이며, 기가 충만(充滿)한 뒤에라야 글 역시 격조(格...   \n",
              "1584489  \\n오호라, 이 책은 우리 향산공(響山公)의 유문(遺文)이다. 공의 큰 절의가 이미...   \n",
              "1584498  \\n오호라, 이 책은 우리 향산공(響山公)의 유문(遺文)이다. 공의 큰 절의가 이미...   \n",
              "\n",
              "                                                 text_list  \\\n",
              "2        예기에 이르기를 “단술이 맛이 좋긴 하지만 제사 때에 현주와 명수 같은 물을 윗자리...   \n",
              "28       예기에 이르기를 “단술이 맛이 좋긴 하지만 제사 때에 현주와 명수 같은 물을 윗자리...   \n",
              "35       예기에 이르기를 “단술이 맛이 좋긴 하지만 제사 때에 현주와 명수 같은 물을 윗자리...   \n",
              "70       계원필경집 20권은 신라의 고운 최공이 당나라 회남 막부에 있을 때 공적으로나 사적...   \n",
              "76       회남에서 본국에 들어오면서 조서 등을 보내는 사신을 겸한, 전 도통순관 승무랑 시어...   \n",
              "...                                                    ...   \n",
              "1584483  글이란 기가 드러난 것이며, 기가 충만한 뒤에라야 글 역시 격조가 생기므로, 글을 ...   \n",
              "1584484  글이란 기가 드러난 것이며, 기가 충만한 뒤에라야 글 역시 격조가 생기므로, 글을 ...   \n",
              "1584485  글이란 기가 드러난 것이며, 기가 충만한 뒤에라야 글 역시 격조가 생기므로, 글을 ...   \n",
              "1584489  오호라, 이 책은 우리 향산공의 유문이다. 공의 큰 절의가 이미 하늘에 있는 해와 ...   \n",
              "1584498  오호라, 이 책은 우리 향산공의 유문이다. 공의 큰 절의가 이미 하늘에 있는 해와 ...   \n",
              "\n",
              "                   sentence                           token  \n",
              "2                   ”라고 하였다                         [하다/VV]  \n",
              "28                  ”라고 하였다                         [하다/VV]  \n",
              "35                                                       []  \n",
              "70                                                       []  \n",
              "76                ”라고 하였습니다                         [하다/VV]  \n",
              "...                     ...                             ...  \n",
              "1584483          ”라고 하는 것이다          [하다/VV, 것/NNB, 이다/VCP]  \n",
              "1584484          족손 강호가 적는다   [족/NNB, 손/NNG, 강호/NNP, 적다/VA]  \n",
              "1584485                                                  []  \n",
              "1584489  ”라고 하였으니, 참으로 그러하다  [하다/VV, 참으로/MAG, 그러/XR, 하/XSA]  \n",
              "1584498                                                  []  \n",
              "\n",
              "[167363 rows x 6 columns]"
            ]
          },
          "execution_count": 15,
          "metadata": {},
          "output_type": "execute_result"
        }
      ],
      "source": [
        "#토큰 4개 이하인 것 확인\n",
        "data[data['token'].map(lambda x:len(x)<=4)]"
      ]
    },
    {
      "cell_type": "code",
      "execution_count": null,
      "metadata": {
        "id": "DynGxABfWj1T"
      },
      "outputs": [],
      "source": [
        "# 불용어 제거\n",
        "stopwords = ['하다/VV','하/XSV','이다/VCP','하/XSA','하다/VV','있다/VV','않다/VX','없다/VA','하다/VX','되다/VV','있다/VX','아니다/VCN']"
      ]
    },
    {
      "cell_type": "code",
      "execution_count": null,
      "metadata": {
        "id": "SinpBH_1Wj1T",
        "outputId": "02270b92-8c8f-4a16-924a-6c437df3ff32"
      },
      "outputs": [
        {
          "name": "stderr",
          "output_type": "stream",
          "text": [
            "100%|██████████| 1584499/1584499 [00:11<00:00, 132153.20it/s]\n"
          ]
        }
      ],
      "source": [
        "data['token'] = data['token'].progress_map(lambda x:[w for w in x if not w in stopwords])"
      ]
    },
    {
      "cell_type": "code",
      "execution_count": null,
      "metadata": {
        "id": "5U5I8NOYWj1U",
        "outputId": "df9a7e4a-5b47-41f3-ed9d-98a29c199941"
      },
      "outputs": [
        {
          "data": {
            "text/plain": [
              "[('것/NNB', 754672),\n",
              " ('들/XSN', 274292),\n",
              " ('말/NNG', 270483),\n",
              " ('그/MM', 226145),\n",
              " ('수/NNB', 219178),\n",
              " ('사람/NNG', 201718),\n",
              " ('일/NNG', 164703),\n",
              " ('이/MM', 163453),\n",
              " ('되/XSV', 155712),\n",
              " ('못하다/VX', 144413),\n",
              " ('이/NP', 139344),\n",
              " ('때/NNG', 131641),\n",
              " ('한/MM', 128068),\n",
              " ('공/NNG', 127014),\n",
              " ('나/NP', 112356),\n",
              " ('같다/VA', 108238),\n",
              " ('마음/NNG', 106520),\n",
              " ('년/NNB', 104873),\n",
              " ('지다/VX', 104355),\n",
              " ('어찌/MAG', 100327),\n",
              " ('보다/VV', 97486),\n",
              " ('모두/MAG', 94735),\n",
              " ('히/NNG', 92737),\n",
              " ('알다/VV', 89360),\n",
              " ('뜻/NNG', 87490),\n",
              " ('주다/VX', 86557),\n",
              " ('또/MAG', 86167),\n",
              " ('생각/NNG', 80947),\n",
              " ('자/NNB', 80238),\n",
              " ('이르다/VV', 72754)]"
            ]
          },
          "execution_count": 18,
          "metadata": {},
          "output_type": "execute_result"
        }
      ],
      "source": [
        "# 상위 n개 단어 확인\n",
        "cnt = Counter(list(itertools.chain(*data['token'].tolist())))\n",
        "cnt.most_common(30) # 상위 N개"
      ]
    },
    {
      "cell_type": "code",
      "execution_count": null,
      "metadata": {
        "id": "Q3NN4W3j0YQ0"
      },
      "outputs": [],
      "source": [
        "# 토큰 5개 이상만 활용\n",
        "data = data[data['token'].map(lambda x:len(x)>=5)]"
      ]
    },
    {
      "cell_type": "code",
      "execution_count": null,
      "metadata": {
        "id": "XssIO4cB0dAm",
        "outputId": "7197d328-d935-409d-fbf8-ac336903f50a"
      },
      "outputs": [
        {
          "data": {
            "text/html": [
              "<div>\n",
              "<style scoped>\n",
              "    .dataframe tbody tr th:only-of-type {\n",
              "        vertical-align: middle;\n",
              "    }\n",
              "\n",
              "    .dataframe tbody tr th {\n",
              "        vertical-align: top;\n",
              "    }\n",
              "\n",
              "    .dataframe thead th {\n",
              "        text-align: right;\n",
              "    }\n",
              "</style>\n",
              "<table border=\"1\" class=\"dataframe\">\n",
              "  <thead>\n",
              "    <tr style=\"text-align: right;\">\n",
              "      <th></th>\n",
              "      <th>ID</th>\n",
              "      <th>원문</th>\n",
              "      <th>번역문</th>\n",
              "      <th>text_list</th>\n",
              "      <th>sentence</th>\n",
              "      <th>token</th>\n",
              "    </tr>\n",
              "  </thead>\n",
              "  <tbody>\n",
              "    <tr>\n",
              "      <th>0</th>\n",
              "      <td>ITKC_MO_0001A_0010_010_0010</td>\n",
              "      <td>記有之。曰酒醴之美。而玄酒明水之尙。貴五味之本也。黼黻文繡之美。而疏布之尙。反女功之始也。古...</td>\n",
              "      <td>\\n《예기》에 이르기를 “단술이 맛이 좋긴 하지만 제사 때에 현주와 명수 같은 물을...</td>\n",
              "      <td>예기에 이르기를 “단술이 맛이 좋긴 하지만 제사 때에 현주와 명수 같은 물을 윗자리...</td>\n",
              "      <td>예기에 이르기를 “단술이 맛이 좋긴 하지만 제사 때에 현주와 명수 같은 물을 윗자리...</td>\n",
              "      <td>[예기/NNG, 이르다/VV, 달다/VA, 술/NNG, 맛/NNG, 좋다/VA, 제...</td>\n",
              "    </tr>\n",
              "    <tr>\n",
              "      <th>1</th>\n",
              "      <td>ITKC_MO_0001A_0010_010_0010</td>\n",
              "      <td>記有之。曰酒醴之美。而玄酒明水之尙。貴五味之本也。黼黻文繡之美。而疏布之尙。反女功之始也。古...</td>\n",
              "      <td>\\n《예기》에 이르기를 “단술이 맛이 좋긴 하지만 제사 때에 현주와 명수 같은 물을...</td>\n",
              "      <td>예기에 이르기를 “단술이 맛이 좋긴 하지만 제사 때에 현주와 명수 같은 물을 윗자리...</td>\n",
              "      <td>각종 화려한 무늬의 옷감이 아름답기는 하지만 제사 때에 거친 삼베로 동이를 덮는 ...</td>\n",
              "      <td>[각종/NNG, 화려/XR, 무늬/NNG, 옷감/NNG, 아름답다/VA, 제사/NN...</td>\n",
              "    </tr>\n",
              "    <tr>\n",
              "      <th>2</th>\n",
              "      <td>ITKC_MO_0001A_0010_010_0010</td>\n",
              "      <td>記有之。曰酒醴之美。而玄酒明水之尙。貴五味之本也。黼黻文繡之美。而疏布之尙。反女功之始也。古...</td>\n",
              "      <td>\\n《예기》에 이르기를 “단술이 맛이 좋긴 하지만 제사 때에 현주와 명수 같은 물을...</td>\n",
              "      <td>예기에 이르기를 “단술이 맛이 좋긴 하지만 제사 때에 현주와 명수 같은 물을 윗자리...</td>\n",
              "      <td>옛날의 군자가 그 근본과 시초를 반드시 중하게 여기려 한 것이 이와 같았다</td>\n",
              "      <td>[옛날/NNG, 군자/NNG, 그/MM, 근본/NNG, 시초/NNG, 반드시/MAG...</td>\n",
              "    </tr>\n",
              "    <tr>\n",
              "      <th>3</th>\n",
              "      <td>ITKC_MO_0001A_0010_010_0010</td>\n",
              "      <td>記有之。曰酒醴之美。而玄酒明水之尙。貴五味之本也。黼黻文繡之美。而疏布之尙。反女功之始也。古...</td>\n",
              "      <td>\\n《예기》에 이르기를 “단술이 맛이 좋긴 하지만 제사 때에 현주와 명수 같은 물을...</td>\n",
              "      <td>예기에 이르기를 “단술이 맛이 좋긴 하지만 제사 때에 현주와 명수 같은 물을 윗자리...</td>\n",
              "      <td>우리 동방에 문장이 나와서 글을 지어 후세에 전할 수 있게 된 것은 고운 최공으로부...</td>\n",
              "      <td>[우리/NP, 동방/NNG, 문장/NNG, 나오다/VV, 글/NNG, 짓다/VV, ...</td>\n",
              "    </tr>\n",
              "    <tr>\n",
              "      <th>4</th>\n",
              "      <td>ITKC_MO_0001A_0010_010_0010</td>\n",
              "      <td>記有之。曰酒醴之美。而玄酒明水之尙。貴五味之本也。黼黻文繡之美。而疏布之尙。反女功之始也。古...</td>\n",
              "      <td>\\n《예기》에 이르기를 “단술이 맛이 좋긴 하지만 제사 때에 현주와 명수 같은 물을...</td>\n",
              "      <td>예기에 이르기를 “단술이 맛이 좋긴 하지만 제사 때에 현주와 명수 같은 물을 윗자리...</td>\n",
              "      <td>그리고 우리 동방의 선비로서 북쪽으로 중국에 유학하여 문장으로 천하에 명성을 떨친...</td>\n",
              "      <td>[그리고/MAJ, 우리/NP, 동방/NNG, 선비/NNG, 북쪽/NNG, 중국/NN...</td>\n",
              "    </tr>\n",
              "    <tr>\n",
              "      <th>...</th>\n",
              "      <td>...</td>\n",
              "      <td>...</td>\n",
              "      <td>...</td>\n",
              "      <td>...</td>\n",
              "      <td>...</td>\n",
              "      <td>...</td>\n",
              "    </tr>\n",
              "    <tr>\n",
              "      <th>1377359</th>\n",
              "      <td>ITKC_MO_1252A_0290_000_0030</td>\n",
              "      <td>嗚呼。此吾響山公遺文也。公大節旣昭然如日星之在天。其不朽何待乎文哉。獨後死者之論。以爲公歿而...</td>\n",
              "      <td>\\n오호라, 이 책은 우리 향산공(響山公)의 유문(遺文)이다. 공의 큰 절의가 이미...</td>\n",
              "      <td>오호라, 이 책은 우리 향산공의 유문이다. 공의 큰 절의가 이미 하늘에 있는 해와 ...</td>\n",
              "      <td>공은 처음부터 학문을 하는 사람으로 자처하지 않고 천성 그대로 행하였으므로, 사람...</td>\n",
              "      <td>[공/NNG, 처음/NNG, 학문/NNG, 사람/NNG, 자처/NNG, 천성/NNG...</td>\n",
              "    </tr>\n",
              "    <tr>\n",
              "      <th>1377360</th>\n",
              "      <td>ITKC_MO_1252A_0290_000_0030</td>\n",
              "      <td>嗚呼。此吾響山公遺文也。公大節旣昭然如日星之在天。其不朽何待乎文哉。獨後死者之論。以爲公歿而...</td>\n",
              "      <td>\\n오호라, 이 책은 우리 향산공(響山公)의 유문(遺文)이다. 공의 큰 절의가 이미...</td>\n",
              "      <td>오호라, 이 책은 우리 향산공의 유문이다. 공의 큰 절의가 이미 하늘에 있는 해와 ...</td>\n",
              "      <td>만년에 이르러서는 옛 경전을 안고 깊은 산으로 들어가 독실하게 공부하면서 감히 단...</td>\n",
              "      <td>[만년/NNG, 이르다/VV, 옛/MM, 경전/NNG, 안다/VV, 깊다/VA, 산...</td>\n",
              "    </tr>\n",
              "    <tr>\n",
              "      <th>1377361</th>\n",
              "      <td>ITKC_MO_1252A_0290_000_0030</td>\n",
              "      <td>嗚呼。此吾響山公遺文也。公大節旣昭然如日星之在天。其不朽何待乎文哉。獨後死者之論。以爲公歿而...</td>\n",
              "      <td>\\n오호라, 이 책은 우리 향산공(響山公)의 유문(遺文)이다. 공의 큰 절의가 이미...</td>\n",
              "      <td>오호라, 이 책은 우리 향산공의 유문이다. 공의 큰 절의가 이미 하늘에 있는 해와 ...</td>\n",
              "      <td>경술년의 변고로부터 지금까지 20여 년 동안, 인심과 세도가 나날이 더러운 데로 ...</td>\n",
              "      <td>[경술년/NNG, 변고/NNG, 지금/NNG, 여/XSN, 년/NNB, 동안/NNG...</td>\n",
              "    </tr>\n",
              "    <tr>\n",
              "      <th>1377362</th>\n",
              "      <td>ITKC_MO_1252A_0290_000_0030</td>\n",
              "      <td>嗚呼。此吾響山公遺文也。公大節旣昭然如日星之在天。其不朽何待乎文哉。獨後死者之論。以爲公歿而...</td>\n",
              "      <td>\\n오호라, 이 책은 우리 향산공(響山公)의 유문(遺文)이다. 공의 큰 절의가 이미...</td>\n",
              "      <td>오호라, 이 책은 우리 향산공의 유문이다. 공의 큰 절의가 이미 하늘에 있는 해와 ...</td>\n",
              "      <td>다만 유집을 어루만지며 길게 탄식할 뿐이다</td>\n",
              "      <td>[다만/MAG, 유집/NNP, 어루만지다/VV, 길다/VA, 탄식/NNG, 뿐/NNB]</td>\n",
              "    </tr>\n",
              "    <tr>\n",
              "      <th>1377363</th>\n",
              "      <td>ITKC_MO_1252A_0290_000_0030</td>\n",
              "      <td>嗚呼。此吾響山公遺文也。公大節旣昭然如日星之在天。其不朽何待乎文哉。獨後死者之論。以爲公歿而...</td>\n",
              "      <td>\\n오호라, 이 책은 우리 향산공(響山公)의 유문(遺文)이다. 공의 큰 절의가 이미...</td>\n",
              "      <td>오호라, 이 책은 우리 향산공의 유문이다. 공의 큰 절의가 이미 하늘에 있는 해와 ...</td>\n",
              "      <td>족질 중균이 삼가 쓴다</td>\n",
              "      <td>[족/NNB, 질/XSN, 중/NNB, 균/NNG, 삼가/NNG, 쓰다/VV]</td>\n",
              "    </tr>\n",
              "  </tbody>\n",
              "</table>\n",
              "<p>1377364 rows × 6 columns</p>\n",
              "</div>"
            ],
            "text/plain": [
              "                                  ID  \\\n",
              "0        ITKC_MO_0001A_0010_010_0010   \n",
              "1        ITKC_MO_0001A_0010_010_0010   \n",
              "2        ITKC_MO_0001A_0010_010_0010   \n",
              "3        ITKC_MO_0001A_0010_010_0010   \n",
              "4        ITKC_MO_0001A_0010_010_0010   \n",
              "...                              ...   \n",
              "1377359  ITKC_MO_1252A_0290_000_0030   \n",
              "1377360  ITKC_MO_1252A_0290_000_0030   \n",
              "1377361  ITKC_MO_1252A_0290_000_0030   \n",
              "1377362  ITKC_MO_1252A_0290_000_0030   \n",
              "1377363  ITKC_MO_1252A_0290_000_0030   \n",
              "\n",
              "                                                        원문  \\\n",
              "0        記有之。曰酒醴之美。而玄酒明水之尙。貴五味之本也。黼黻文繡之美。而疏布之尙。反女功之始也。古...   \n",
              "1        記有之。曰酒醴之美。而玄酒明水之尙。貴五味之本也。黼黻文繡之美。而疏布之尙。反女功之始也。古...   \n",
              "2        記有之。曰酒醴之美。而玄酒明水之尙。貴五味之本也。黼黻文繡之美。而疏布之尙。反女功之始也。古...   \n",
              "3        記有之。曰酒醴之美。而玄酒明水之尙。貴五味之本也。黼黻文繡之美。而疏布之尙。反女功之始也。古...   \n",
              "4        記有之。曰酒醴之美。而玄酒明水之尙。貴五味之本也。黼黻文繡之美。而疏布之尙。反女功之始也。古...   \n",
              "...                                                    ...   \n",
              "1377359  嗚呼。此吾響山公遺文也。公大節旣昭然如日星之在天。其不朽何待乎文哉。獨後死者之論。以爲公歿而...   \n",
              "1377360  嗚呼。此吾響山公遺文也。公大節旣昭然如日星之在天。其不朽何待乎文哉。獨後死者之論。以爲公歿而...   \n",
              "1377361  嗚呼。此吾響山公遺文也。公大節旣昭然如日星之在天。其不朽何待乎文哉。獨後死者之論。以爲公歿而...   \n",
              "1377362  嗚呼。此吾響山公遺文也。公大節旣昭然如日星之在天。其不朽何待乎文哉。獨後死者之論。以爲公歿而...   \n",
              "1377363  嗚呼。此吾響山公遺文也。公大節旣昭然如日星之在天。其不朽何待乎文哉。獨後死者之論。以爲公歿而...   \n",
              "\n",
              "                                                       번역문  \\\n",
              "0        \\n《예기》에 이르기를 “단술이 맛이 좋긴 하지만 제사 때에 현주와 명수 같은 물을...   \n",
              "1        \\n《예기》에 이르기를 “단술이 맛이 좋긴 하지만 제사 때에 현주와 명수 같은 물을...   \n",
              "2        \\n《예기》에 이르기를 “단술이 맛이 좋긴 하지만 제사 때에 현주와 명수 같은 물을...   \n",
              "3        \\n《예기》에 이르기를 “단술이 맛이 좋긴 하지만 제사 때에 현주와 명수 같은 물을...   \n",
              "4        \\n《예기》에 이르기를 “단술이 맛이 좋긴 하지만 제사 때에 현주와 명수 같은 물을...   \n",
              "...                                                    ...   \n",
              "1377359  \\n오호라, 이 책은 우리 향산공(響山公)의 유문(遺文)이다. 공의 큰 절의가 이미...   \n",
              "1377360  \\n오호라, 이 책은 우리 향산공(響山公)의 유문(遺文)이다. 공의 큰 절의가 이미...   \n",
              "1377361  \\n오호라, 이 책은 우리 향산공(響山公)의 유문(遺文)이다. 공의 큰 절의가 이미...   \n",
              "1377362  \\n오호라, 이 책은 우리 향산공(響山公)의 유문(遺文)이다. 공의 큰 절의가 이미...   \n",
              "1377363  \\n오호라, 이 책은 우리 향산공(響山公)의 유문(遺文)이다. 공의 큰 절의가 이미...   \n",
              "\n",
              "                                                 text_list  \\\n",
              "0        예기에 이르기를 “단술이 맛이 좋긴 하지만 제사 때에 현주와 명수 같은 물을 윗자리...   \n",
              "1        예기에 이르기를 “단술이 맛이 좋긴 하지만 제사 때에 현주와 명수 같은 물을 윗자리...   \n",
              "2        예기에 이르기를 “단술이 맛이 좋긴 하지만 제사 때에 현주와 명수 같은 물을 윗자리...   \n",
              "3        예기에 이르기를 “단술이 맛이 좋긴 하지만 제사 때에 현주와 명수 같은 물을 윗자리...   \n",
              "4        예기에 이르기를 “단술이 맛이 좋긴 하지만 제사 때에 현주와 명수 같은 물을 윗자리...   \n",
              "...                                                    ...   \n",
              "1377359  오호라, 이 책은 우리 향산공의 유문이다. 공의 큰 절의가 이미 하늘에 있는 해와 ...   \n",
              "1377360  오호라, 이 책은 우리 향산공의 유문이다. 공의 큰 절의가 이미 하늘에 있는 해와 ...   \n",
              "1377361  오호라, 이 책은 우리 향산공의 유문이다. 공의 큰 절의가 이미 하늘에 있는 해와 ...   \n",
              "1377362  오호라, 이 책은 우리 향산공의 유문이다. 공의 큰 절의가 이미 하늘에 있는 해와 ...   \n",
              "1377363  오호라, 이 책은 우리 향산공의 유문이다. 공의 큰 절의가 이미 하늘에 있는 해와 ...   \n",
              "\n",
              "                                                  sentence  \\\n",
              "0        예기에 이르기를 “단술이 맛이 좋긴 하지만 제사 때에 현주와 명수 같은 물을 윗자리...   \n",
              "1         각종 화려한 무늬의 옷감이 아름답기는 하지만 제사 때에 거친 삼베로 동이를 덮는 ...   \n",
              "2                옛날의 군자가 그 근본과 시초를 반드시 중하게 여기려 한 것이 이와 같았다   \n",
              "3        우리 동방에 문장이 나와서 글을 지어 후세에 전할 수 있게 된 것은 고운 최공으로부...   \n",
              "4         그리고 우리 동방의 선비로서 북쪽으로 중국에 유학하여 문장으로 천하에 명성을 떨친...   \n",
              "...                                                    ...   \n",
              "1377359   공은 처음부터 학문을 하는 사람으로 자처하지 않고 천성 그대로 행하였으므로, 사람...   \n",
              "1377360   만년에 이르러서는 옛 경전을 안고 깊은 산으로 들어가 독실하게 공부하면서 감히 단...   \n",
              "1377361   경술년의 변고로부터 지금까지 20여 년 동안, 인심과 세도가 나날이 더러운 데로 ...   \n",
              "1377362                            다만 유집을 어루만지며 길게 탄식할 뿐이다   \n",
              "1377363                                       족질 중균이 삼가 쓴다   \n",
              "\n",
              "                                                     token  \n",
              "0        [예기/NNG, 이르다/VV, 달다/VA, 술/NNG, 맛/NNG, 좋다/VA, 제...  \n",
              "1        [각종/NNG, 화려/XR, 무늬/NNG, 옷감/NNG, 아름답다/VA, 제사/NN...  \n",
              "2        [옛날/NNG, 군자/NNG, 그/MM, 근본/NNG, 시초/NNG, 반드시/MAG...  \n",
              "3        [우리/NP, 동방/NNG, 문장/NNG, 나오다/VV, 글/NNG, 짓다/VV, ...  \n",
              "4        [그리고/MAJ, 우리/NP, 동방/NNG, 선비/NNG, 북쪽/NNG, 중국/NN...  \n",
              "...                                                    ...  \n",
              "1377359  [공/NNG, 처음/NNG, 학문/NNG, 사람/NNG, 자처/NNG, 천성/NNG...  \n",
              "1377360  [만년/NNG, 이르다/VV, 옛/MM, 경전/NNG, 안다/VV, 깊다/VA, 산...  \n",
              "1377361  [경술년/NNG, 변고/NNG, 지금/NNG, 여/XSN, 년/NNB, 동안/NNG...  \n",
              "1377362   [다만/MAG, 유집/NNP, 어루만지다/VV, 길다/VA, 탄식/NNG, 뿐/NNB]  \n",
              "1377363        [족/NNB, 질/XSN, 중/NNB, 균/NNG, 삼가/NNG, 쓰다/VV]  \n",
              "\n",
              "[1377364 rows x 6 columns]"
            ]
          },
          "execution_count": 21,
          "metadata": {},
          "output_type": "execute_result"
        }
      ],
      "source": [
        "data = data.reset_index(drop=True)\n",
        "data"
      ]
    },
    {
      "cell_type": "markdown",
      "metadata": {
        "id": "l45yz1frrKqi"
      },
      "source": [
        "### 번역문 word2vec"
      ]
    },
    {
      "cell_type": "code",
      "execution_count": null,
      "metadata": {
        "id": "G_D3hIROWj1V"
      },
      "outputs": [],
      "source": [
        "# vector : 차원, window : 앞뒤 단어 보는 크기, min_count : 분석에 포함할 최소 단어 빈도수, sg : 0이면 cbow, 1이면 skip-gram\n",
        "v300_w5_min300_sg = Word2Vec(sentences=data['token'].to_list(), vector_size=300, window=5, min_count=300,sg=1,seed=2021)\n",
        "v300_w5_min300_sg.save('ko_v300_w5_min300_sg.model') # 모델 저장. 모델 로드할때는 model= Word2Vec.load('v200_w3_min300_sg.model')"
      ]
    },
    {
      "cell_type": "code",
      "execution_count": null,
      "metadata": {
        "id": "5q6wGS5LWj1V"
      },
      "outputs": [],
      "source": [
        "target_list = ['우리/NP','나라/NNG','우리나라/NNG','동방/NNG','동국/NNG','삼한/NNP','조선/NNP']"
      ]
    },
    {
      "cell_type": "code",
      "execution_count": null,
      "metadata": {
        "id": "fLqysRraWj1V",
        "outputId": "0b2f8ed0-31bc-4159-fb0d-8ec585808e7d"
      },
      "outputs": [
        {
          "data": {
            "text/html": [
              "<div>\n",
              "<style scoped>\n",
              "    .dataframe tbody tr th:only-of-type {\n",
              "        vertical-align: middle;\n",
              "    }\n",
              "\n",
              "    .dataframe tbody tr th {\n",
              "        vertical-align: top;\n",
              "    }\n",
              "\n",
              "    .dataframe thead th {\n",
              "        text-align: right;\n",
              "    }\n",
              "</style>\n",
              "<table border=\"1\" class=\"dataframe\">\n",
              "  <thead>\n",
              "    <tr style=\"text-align: right;\">\n",
              "      <th></th>\n",
              "      <th>우리/NP</th>\n",
              "      <th>similarity</th>\n",
              "      <th>나라/NNG</th>\n",
              "      <th>similarity</th>\n",
              "      <th>우리나라/NNG</th>\n",
              "      <th>similarity</th>\n",
              "      <th>동방/NNG</th>\n",
              "      <th>similarity</th>\n",
              "      <th>동국/NNG</th>\n",
              "      <th>similarity</th>\n",
              "      <th>삼한/NNP</th>\n",
              "      <th>similarity</th>\n",
              "      <th>조선/NNP</th>\n",
              "      <th>similarity</th>\n",
              "    </tr>\n",
              "  </thead>\n",
              "  <tbody>\n",
              "    <tr>\n",
              "      <th>0</th>\n",
              "      <td>저희/NP</td>\n",
              "      <td>0.555400</td>\n",
              "      <td>국가/NNG</td>\n",
              "      <td>0.575042</td>\n",
              "      <td>중국/NNP</td>\n",
              "      <td>0.611080</td>\n",
              "      <td>동국/NNG</td>\n",
              "      <td>0.619286</td>\n",
              "      <td>동방/NNG</td>\n",
              "      <td>0.619286</td>\n",
              "      <td>신라/NNP</td>\n",
              "      <td>0.552532</td>\n",
              "      <td>고려/NNP</td>\n",
              "      <td>0.552135</td>\n",
              "    </tr>\n",
              "    <tr>\n",
              "      <th>1</th>\n",
              "      <td>우리나라/NNG</td>\n",
              "      <td>0.525453</td>\n",
              "      <td>나라/NNP</td>\n",
              "      <td>0.515161</td>\n",
              "      <td>명나라/NNP</td>\n",
              "      <td>0.554832</td>\n",
              "      <td>우리나라/NNG</td>\n",
              "      <td>0.548760</td>\n",
              "      <td>중국/NNP</td>\n",
              "      <td>0.489839</td>\n",
              "      <td>고려/NNP</td>\n",
              "      <td>0.523660</td>\n",
              "      <td>국왕/NNG</td>\n",
              "      <td>0.542743</td>\n",
              "    </tr>\n",
              "    <tr>\n",
              "      <th>2</th>\n",
              "      <td>동방/NNG</td>\n",
              "      <td>0.502616</td>\n",
              "      <td>중국/NNP</td>\n",
              "      <td>0.476298</td>\n",
              "      <td>동방/NNG</td>\n",
              "      <td>0.548760</td>\n",
              "      <td>삼한/NNP</td>\n",
              "      <td>0.513429</td>\n",
              "      <td>해외/NNG</td>\n",
              "      <td>0.467793</td>\n",
              "      <td>동방/NNG</td>\n",
              "      <td>0.513429</td>\n",
              "      <td>일본/NNP</td>\n",
              "      <td>0.535210</td>\n",
              "    </tr>\n",
              "    <tr>\n",
              "      <th>3</th>\n",
              "      <td>너희/NP</td>\n",
              "      <td>0.423837</td>\n",
              "      <td>진나라/NNP</td>\n",
              "      <td>0.473287</td>\n",
              "      <td>조선/NNP</td>\n",
              "      <td>0.529667</td>\n",
              "      <td>조선/NNP</td>\n",
              "      <td>0.504681</td>\n",
              "      <td>우리나라/NNG</td>\n",
              "      <td>0.457415</td>\n",
              "      <td>개국/NNG</td>\n",
              "      <td>0.507930</td>\n",
              "      <td>우리나라/NNG</td>\n",
              "      <td>0.529667</td>\n",
              "    </tr>\n",
              "    <tr>\n",
              "      <th>4</th>\n",
              "      <td>중국/NNP</td>\n",
              "      <td>0.406554</td>\n",
              "      <td>동방/NNG</td>\n",
              "      <td>0.468282</td>\n",
              "      <td>우리/NP</td>\n",
              "      <td>0.525453</td>\n",
              "      <td>우리/NP</td>\n",
              "      <td>0.502616</td>\n",
              "      <td>삼한/NNP</td>\n",
              "      <td>0.454433</td>\n",
              "      <td>삼국/NNG</td>\n",
              "      <td>0.481479</td>\n",
              "      <td>중국/NNP</td>\n",
              "      <td>0.518314</td>\n",
              "    </tr>\n",
              "    <tr>\n",
              "      <th>5</th>\n",
              "      <td>조선/NNP</td>\n",
              "      <td>0.401422</td>\n",
              "      <td>말기/NNG</td>\n",
              "      <td>0.458797</td>\n",
              "      <td>소방/NNG</td>\n",
              "      <td>0.479751</td>\n",
              "      <td>중국/NNP</td>\n",
              "      <td>0.473456</td>\n",
              "      <td>조선/NNP</td>\n",
              "      <td>0.408096</td>\n",
              "      <td>조선/NNP</td>\n",
              "      <td>0.476945</td>\n",
              "      <td>대마도/NNP</td>\n",
              "      <td>0.515061</td>\n",
              "    </tr>\n",
              "    <tr>\n",
              "      <th>6</th>\n",
              "      <td>동국/NNG</td>\n",
              "      <td>0.388934</td>\n",
              "      <td>조선/NNP</td>\n",
              "      <td>0.456464</td>\n",
              "      <td>청나라/NNP</td>\n",
              "      <td>0.468132</td>\n",
              "      <td>나라/NNG</td>\n",
              "      <td>0.468282</td>\n",
              "      <td>일대/NNG</td>\n",
              "      <td>0.408055</td>\n",
              "      <td>태사/NNP</td>\n",
              "      <td>0.471619</td>\n",
              "      <td>명나라/NNP</td>\n",
              "      <td>0.508749</td>\n",
              "    </tr>\n",
              "    <tr>\n",
              "      <th>7</th>\n",
              "      <td>명나라/NNP</td>\n",
              "      <td>0.383103</td>\n",
              "      <td>우리나라/NNG</td>\n",
              "      <td>0.455680</td>\n",
              "      <td>일본/NNP</td>\n",
              "      <td>0.462605</td>\n",
              "      <td>문명/NNG</td>\n",
              "      <td>0.452482</td>\n",
              "      <td>지역/NNG</td>\n",
              "      <td>0.390062</td>\n",
              "      <td>고구려/NNP</td>\n",
              "      <td>0.456506</td>\n",
              "      <td>신라/NNP</td>\n",
              "      <td>0.507704</td>\n",
              "    </tr>\n",
              "    <tr>\n",
              "      <th>8</th>\n",
              "      <td>대국/NNG</td>\n",
              "      <td>0.374935</td>\n",
              "      <td>명나라/NNP</td>\n",
              "      <td>0.448192</td>\n",
              "      <td>동국/NNG</td>\n",
              "      <td>0.457415</td>\n",
              "      <td>도학/NNG</td>\n",
              "      <td>0.428002</td>\n",
              "      <td>우리/NP</td>\n",
              "      <td>0.388934</td>\n",
              "      <td>백제/NNP</td>\n",
              "      <td>0.456299</td>\n",
              "      <td>개국/NNG</td>\n",
              "      <td>0.507621</td>\n",
              "    </tr>\n",
              "    <tr>\n",
              "      <th>9</th>\n",
              "      <td>나/NP</td>\n",
              "      <td>0.350960</td>\n",
              "      <td>대국/NNG</td>\n",
              "      <td>0.440917</td>\n",
              "      <td>나라/NNG</td>\n",
              "      <td>0.455680</td>\n",
              "      <td>해외/NNG</td>\n",
              "      <td>0.426062</td>\n",
              "      <td>고장/NNG</td>\n",
              "      <td>0.386048</td>\n",
              "      <td>동국/NNG</td>\n",
              "      <td>0.454433</td>\n",
              "      <td>동방/NNG</td>\n",
              "      <td>0.504681</td>\n",
              "    </tr>\n",
              "    <tr>\n",
              "      <th>10</th>\n",
              "      <td>저/NP</td>\n",
              "      <td>0.350872</td>\n",
              "      <td>왕실/NNG</td>\n",
              "      <td>0.440832</td>\n",
              "      <td>송나라/NNP</td>\n",
              "      <td>0.444112</td>\n",
              "      <td>문헌/NNG</td>\n",
              "      <td>0.410646</td>\n",
              "      <td>명나라/NNP</td>\n",
              "      <td>0.385367</td>\n",
              "      <td>중원/NNP</td>\n",
              "      <td>0.453733</td>\n",
              "      <td>본국/NNG</td>\n",
              "      <td>0.500510</td>\n",
              "    </tr>\n",
              "    <tr>\n",
              "      <th>11</th>\n",
              "      <td>소방/NNG</td>\n",
              "      <td>0.347092</td>\n",
              "      <td>당나라/NNP</td>\n",
              "      <td>0.431151</td>\n",
              "      <td>국조/NNG</td>\n",
              "      <td>0.443266</td>\n",
              "      <td>기자/NNG</td>\n",
              "      <td>0.407503</td>\n",
              "      <td>문헌/NNG</td>\n",
              "      <td>0.385355</td>\n",
              "      <td>태조/NNP</td>\n",
              "      <td>0.440423</td>\n",
              "      <td>고구려/NNP</td>\n",
              "      <td>0.477713</td>\n",
              "    </tr>\n",
              "    <tr>\n",
              "      <th>12</th>\n",
              "      <td>열성/NNG</td>\n",
              "      <td>0.346994</td>\n",
              "      <td>주나라/NNP</td>\n",
              "      <td>0.424137</td>\n",
              "      <td>역대/NNG</td>\n",
              "      <td>0.442530</td>\n",
              "      <td>국조/NNG</td>\n",
              "      <td>0.401895</td>\n",
              "      <td>남방/NNG</td>\n",
              "      <td>0.382137</td>\n",
              "      <td>통일/NNG</td>\n",
              "      <td>0.440410</td>\n",
              "      <td>삼한/NNP</td>\n",
              "      <td>0.476945</td>\n",
              "    </tr>\n",
              "    <tr>\n",
              "      <th>13</th>\n",
              "      <td>귀국/NNG</td>\n",
              "      <td>0.337411</td>\n",
              "      <td>위나라/NNP</td>\n",
              "      <td>0.413776</td>\n",
              "      <td>외국/NNG</td>\n",
              "      <td>0.441455</td>\n",
              "      <td>위대/XR</td>\n",
              "      <td>0.400342</td>\n",
              "      <td>국조/NNG</td>\n",
              "      <td>0.379499</td>\n",
              "      <td>계림/NNP</td>\n",
              "      <td>0.438562</td>\n",
              "      <td>거란/NNP</td>\n",
              "      <td>0.475482</td>\n",
              "    </tr>\n",
              "    <tr>\n",
              "      <th>14</th>\n",
              "      <td>황조/NNP</td>\n",
              "      <td>0.337277</td>\n",
              "      <td>송나라/NNP</td>\n",
              "      <td>0.405219</td>\n",
              "      <td>황조/NNP</td>\n",
              "      <td>0.433839</td>\n",
              "      <td>문물/NNG</td>\n",
              "      <td>0.395542</td>\n",
              "      <td>동남/NNG</td>\n",
              "      <td>0.378895</td>\n",
              "      <td>시조/NNG</td>\n",
              "      <td>0.431881</td>\n",
              "      <td>대명/NNG</td>\n",
              "      <td>0.473705</td>\n",
              "    </tr>\n",
              "    <tr>\n",
              "      <th>15</th>\n",
              "      <td>선대/NNG</td>\n",
              "      <td>0.335515</td>\n",
              "      <td>멸망/NNG</td>\n",
              "      <td>0.398875</td>\n",
              "      <td>본국/NNG</td>\n",
              "      <td>0.430380</td>\n",
              "      <td>개국/NNG</td>\n",
              "      <td>0.394874</td>\n",
              "      <td>왕조/NNG</td>\n",
              "      <td>0.376786</td>\n",
              "      <td>통합/NNG</td>\n",
              "      <td>0.430624</td>\n",
              "      <td>황조/NNP</td>\n",
              "      <td>0.469983</td>\n",
              "    </tr>\n",
              "    <tr>\n",
              "      <th>16</th>\n",
              "      <td>아/IC</td>\n",
              "      <td>0.332818</td>\n",
              "      <td>초/NNP</td>\n",
              "      <td>0.395144</td>\n",
              "      <td>오랑캐/NNG</td>\n",
              "      <td>0.428338</td>\n",
              "      <td>고려/NNP</td>\n",
              "      <td>0.389884</td>\n",
              "      <td>삼국/NNG</td>\n",
              "      <td>0.365311</td>\n",
              "      <td>혁혁/XR</td>\n",
              "      <td>0.424267</td>\n",
              "      <td>청나라/NNP</td>\n",
              "      <td>0.468455</td>\n",
              "    </tr>\n",
              "    <tr>\n",
              "      <th>17</th>\n",
              "      <td>운세/NNG</td>\n",
              "      <td>0.332171</td>\n",
              "      <td>상나라/NNP</td>\n",
              "      <td>0.392647</td>\n",
              "      <td>금나라/NNP</td>\n",
              "      <td>0.420631</td>\n",
              "      <td>창도/NNG</td>\n",
              "      <td>0.388611</td>\n",
              "      <td>영남/NNP</td>\n",
              "      <td>0.364587</td>\n",
              "      <td>공훈/NNG</td>\n",
              "      <td>0.419647</td>\n",
              "      <td>태조/NNP</td>\n",
              "      <td>0.464553</td>\n",
              "    </tr>\n",
              "    <tr>\n",
              "      <th>18</th>\n",
              "      <td>나라/NNG</td>\n",
              "      <td>0.330083</td>\n",
              "      <td>강토/NNG</td>\n",
              "      <td>0.390227</td>\n",
              "      <td>대국/NNG</td>\n",
              "      <td>0.418434</td>\n",
              "      <td>문교/NNG</td>\n",
              "      <td>0.385094</td>\n",
              "      <td>나라/NNG</td>\n",
              "      <td>0.360813</td>\n",
              "      <td>후예/NNG</td>\n",
              "      <td>0.405166</td>\n",
              "      <td>조/NNB</td>\n",
              "      <td>0.460821</td>\n",
              "    </tr>\n",
              "    <tr>\n",
              "      <th>19</th>\n",
              "      <td>보우/NNG</td>\n",
              "      <td>0.328733</td>\n",
              "      <td>시대/NNG</td>\n",
              "      <td>0.388921</td>\n",
              "      <td>근세/NNG</td>\n",
              "      <td>0.407586</td>\n",
              "      <td>영남/NNP</td>\n",
              "      <td>0.381955</td>\n",
              "      <td>지방/NNG</td>\n",
              "      <td>0.354603</td>\n",
              "      <td>고려조/NNG</td>\n",
              "      <td>0.398541</td>\n",
              "      <td>귀국/NNG</td>\n",
              "      <td>0.458369</td>\n",
              "    </tr>\n",
              "  </tbody>\n",
              "</table>\n",
              "</div>"
            ],
            "text/plain": [
              "       우리/NP  similarity    나라/NNG  similarity 우리나라/NNG  similarity    동방/NNG  \\\n",
              "0      저희/NP    0.555400    국가/NNG    0.575042   중국/NNP    0.611080    동국/NNG   \n",
              "1   우리나라/NNG    0.525453    나라/NNP    0.515161  명나라/NNP    0.554832  우리나라/NNG   \n",
              "2     동방/NNG    0.502616    중국/NNP    0.476298   동방/NNG    0.548760    삼한/NNP   \n",
              "3      너희/NP    0.423837   진나라/NNP    0.473287   조선/NNP    0.529667    조선/NNP   \n",
              "4     중국/NNP    0.406554    동방/NNG    0.468282    우리/NP    0.525453     우리/NP   \n",
              "5     조선/NNP    0.401422    말기/NNG    0.458797   소방/NNG    0.479751    중국/NNP   \n",
              "6     동국/NNG    0.388934    조선/NNP    0.456464  청나라/NNP    0.468132    나라/NNG   \n",
              "7    명나라/NNP    0.383103  우리나라/NNG    0.455680   일본/NNP    0.462605    문명/NNG   \n",
              "8     대국/NNG    0.374935   명나라/NNP    0.448192   동국/NNG    0.457415    도학/NNG   \n",
              "9       나/NP    0.350960    대국/NNG    0.440917   나라/NNG    0.455680    해외/NNG   \n",
              "10      저/NP    0.350872    왕실/NNG    0.440832  송나라/NNP    0.444112    문헌/NNG   \n",
              "11    소방/NNG    0.347092   당나라/NNP    0.431151   국조/NNG    0.443266    기자/NNG   \n",
              "12    열성/NNG    0.346994   주나라/NNP    0.424137   역대/NNG    0.442530    국조/NNG   \n",
              "13    귀국/NNG    0.337411   위나라/NNP    0.413776   외국/NNG    0.441455     위대/XR   \n",
              "14    황조/NNP    0.337277   송나라/NNP    0.405219   황조/NNP    0.433839    문물/NNG   \n",
              "15    선대/NNG    0.335515    멸망/NNG    0.398875   본국/NNG    0.430380    개국/NNG   \n",
              "16      아/IC    0.332818     초/NNP    0.395144  오랑캐/NNG    0.428338    고려/NNP   \n",
              "17    운세/NNG    0.332171   상나라/NNP    0.392647  금나라/NNP    0.420631    창도/NNG   \n",
              "18    나라/NNG    0.330083    강토/NNG    0.390227   대국/NNG    0.418434    문교/NNG   \n",
              "19    보우/NNG    0.328733    시대/NNG    0.388921   근세/NNG    0.407586    영남/NNP   \n",
              "\n",
              "    similarity    동국/NNG  similarity   삼한/NNP  similarity    조선/NNP  \\\n",
              "0     0.619286    동방/NNG    0.619286   신라/NNP    0.552532    고려/NNP   \n",
              "1     0.548760    중국/NNP    0.489839   고려/NNP    0.523660    국왕/NNG   \n",
              "2     0.513429    해외/NNG    0.467793   동방/NNG    0.513429    일본/NNP   \n",
              "3     0.504681  우리나라/NNG    0.457415   개국/NNG    0.507930  우리나라/NNG   \n",
              "4     0.502616    삼한/NNP    0.454433   삼국/NNG    0.481479    중국/NNP   \n",
              "5     0.473456    조선/NNP    0.408096   조선/NNP    0.476945   대마도/NNP   \n",
              "6     0.468282    일대/NNG    0.408055   태사/NNP    0.471619   명나라/NNP   \n",
              "7     0.452482    지역/NNG    0.390062  고구려/NNP    0.456506    신라/NNP   \n",
              "8     0.428002     우리/NP    0.388934   백제/NNP    0.456299    개국/NNG   \n",
              "9     0.426062    고장/NNG    0.386048   동국/NNG    0.454433    동방/NNG   \n",
              "10    0.410646   명나라/NNP    0.385367   중원/NNP    0.453733    본국/NNG   \n",
              "11    0.407503    문헌/NNG    0.385355   태조/NNP    0.440423   고구려/NNP   \n",
              "12    0.401895    남방/NNG    0.382137   통일/NNG    0.440410    삼한/NNP   \n",
              "13    0.400342    국조/NNG    0.379499   계림/NNP    0.438562    거란/NNP   \n",
              "14    0.395542    동남/NNG    0.378895   시조/NNG    0.431881    대명/NNG   \n",
              "15    0.394874    왕조/NNG    0.376786   통합/NNG    0.430624    황조/NNP   \n",
              "16    0.389884    삼국/NNG    0.365311    혁혁/XR    0.424267   청나라/NNP   \n",
              "17    0.388611    영남/NNP    0.364587   공훈/NNG    0.419647    태조/NNP   \n",
              "18    0.385094    나라/NNG    0.360813   후예/NNG    0.405166     조/NNB   \n",
              "19    0.381955    지방/NNG    0.354603  고려조/NNG    0.398541    귀국/NNG   \n",
              "\n",
              "    similarity  \n",
              "0     0.552135  \n",
              "1     0.542743  \n",
              "2     0.535210  \n",
              "3     0.529667  \n",
              "4     0.518314  \n",
              "5     0.515061  \n",
              "6     0.508749  \n",
              "7     0.507704  \n",
              "8     0.507621  \n",
              "9     0.504681  \n",
              "10    0.500510  \n",
              "11    0.477713  \n",
              "12    0.476945  \n",
              "13    0.475482  \n",
              "14    0.473705  \n",
              "15    0.469983  \n",
              "16    0.468455  \n",
              "17    0.464553  \n",
              "18    0.460821  \n",
              "19    0.458369  "
            ]
          },
          "execution_count": 55,
          "metadata": {},
          "output_type": "execute_result"
        }
      ],
      "source": [
        "res = pd.DataFrame()\n",
        "for target in target_list:\n",
        "    res = pd.concat([res,pd.DataFrame(v300_w5_min300_sg.wv.most_similar(target, topn=20),columns=[target,'similarity'])],axis=1)  # get other similar words\n",
        "res"
      ]
    },
    {
      "cell_type": "code",
      "execution_count": null,
      "metadata": {
        "id": "Zjl5M-TiWj1V"
      },
      "outputs": [],
      "source": [
        "res.to_excel('한국고전종합DB_번역문_word2vec.xlsx')"
      ]
    },
    {
      "cell_type": "code",
      "execution_count": null,
      "metadata": {
        "id": "JMdav9uCWj1W",
        "outputId": "5b753d2e-04fb-4428-ed08-ada6cd0aa2b7"
      },
      "outputs": [
        {
          "data": {
            "text/plain": [
              "[('저희/NP', 0.5554001927375793),\n",
              " ('우리나라/NNG', 0.525452733039856),\n",
              " ('동방/NNG', 0.5026158094406128),\n",
              " ('너희/NP', 0.42383748292922974),\n",
              " ('중국/NNP', 0.40655407309532166),\n",
              " ('조선/NNP', 0.4014221429824829),\n",
              " ('동국/NNG', 0.388933926820755),\n",
              " ('명나라/NNP', 0.38310277462005615),\n",
              " ('대국/NNG', 0.3749346435070038),\n",
              " ('나/NP', 0.3509595990180969),\n",
              " ('저/NP', 0.350872278213501),\n",
              " ('소방/NNG', 0.34709224104881287),\n",
              " ('열성/NNG', 0.34699350595474243),\n",
              " ('귀국/NNG', 0.33741137385368347),\n",
              " ('황조/NNP', 0.33727705478668213),\n",
              " ('선대/NNG', 0.33551546931266785),\n",
              " ('아/IC', 0.3328183591365814),\n",
              " ('운세/NNG', 0.33217090368270874),\n",
              " ('나라/NNG', 0.3300834000110626),\n",
              " ('보우/NNG', 0.32873275876045227)]"
            ]
          },
          "execution_count": 24,
          "metadata": {},
          "output_type": "execute_result"
        }
      ],
      "source": [
        "# 해당 단어와 문맥이 비슷한 유사어 추출\n",
        "v300_w5_min300_sg.wv.most_similar('우리/NP', topn=20)  # get other similar words"
      ]
    },
    {
      "cell_type": "code",
      "execution_count": null,
      "metadata": {
        "id": "qVLsTqD2Wj1W",
        "outputId": "d30f14ba-fbc8-4afa-f94a-cb672797b235"
      },
      "outputs": [
        {
          "data": {
            "text/plain": [
              "[('국가/NNG', 0.5750422477722168),\n",
              " ('나라/NNP', 0.5151606798171997),\n",
              " ('중국/NNP', 0.4762977957725525),\n",
              " ('진나라/NNP', 0.4732874035835266),\n",
              " ('동방/NNG', 0.4682823121547699),\n",
              " ('말기/NNG', 0.458796888589859),\n",
              " ('조선/NNP', 0.45646387338638306),\n",
              " ('우리나라/NNG', 0.45567983388900757),\n",
              " ('명나라/NNP', 0.44819194078445435),\n",
              " ('대국/NNG', 0.44091689586639404),\n",
              " ('왕실/NNG', 0.4408324062824249),\n",
              " ('당나라/NNP', 0.43115121126174927),\n",
              " ('주나라/NNP', 0.4241371750831604),\n",
              " ('위나라/NNP', 0.41377589106559753),\n",
              " ('송나라/NNP', 0.4052186906337738),\n",
              " ('멸망/NNG', 0.3988746404647827),\n",
              " ('초/NNP', 0.39514434337615967),\n",
              " ('상나라/NNP', 0.3926469087600708),\n",
              " ('강토/NNG', 0.3902271091938019),\n",
              " ('시대/NNG', 0.3889213502407074)]"
            ]
          },
          "execution_count": 26,
          "metadata": {},
          "output_type": "execute_result"
        }
      ],
      "source": [
        "# 해당 단어와 문맥이 비슷한 유사어 추출\n",
        "v300_w5_min300_sg.wv.most_similar('나라/NNG', topn=20)  # get other similar words"
      ]
    },
    {
      "cell_type": "code",
      "execution_count": null,
      "metadata": {
        "id": "eUM1dUBsWj1W",
        "outputId": "517f2ffe-ecb2-4f38-9ab7-5eb28d1241c4"
      },
      "outputs": [
        {
          "data": {
            "text/plain": [
              "[('중국/NNP', 0.6110798120498657),\n",
              " ('명나라/NNP', 0.5548319220542908),\n",
              " ('동방/NNG', 0.5487597584724426),\n",
              " ('조선/NNP', 0.5296672582626343),\n",
              " ('우리/NP', 0.5254528522491455),\n",
              " ('소방/NNG', 0.47975093126296997),\n",
              " ('청나라/NNP', 0.46813228726387024),\n",
              " ('일본/NNP', 0.4626047611236572),\n",
              " ('동국/NNG', 0.4574148654937744),\n",
              " ('나라/NNG', 0.45567983388900757),\n",
              " ('송나라/NNP', 0.44411179423332214),\n",
              " ('국조/NNG', 0.44326555728912354),\n",
              " ('역대/NNG', 0.44253021478652954),\n",
              " ('외국/NNG', 0.4414551258087158),\n",
              " ('황조/NNP', 0.4338394105434418),\n",
              " ('본국/NNG', 0.4303795397281647),\n",
              " ('오랑캐/NNG', 0.4283376932144165),\n",
              " ('금나라/NNP', 0.4206307530403137),\n",
              " ('대국/NNG', 0.4184335768222809),\n",
              " ('근세/NNG', 0.40758565068244934)]"
            ]
          },
          "execution_count": 25,
          "metadata": {},
          "output_type": "execute_result"
        }
      ],
      "source": [
        "# 해당 단어와 문맥이 비슷한 유사어 추출\n",
        "v300_w5_min300_sg.wv.most_similar('우리나라/NNG', topn=20)  # get other similar words"
      ]
    },
    {
      "cell_type": "code",
      "execution_count": null,
      "metadata": {
        "id": "3M9UcDCPWj1W",
        "outputId": "f7d20e7d-8665-4040-bf6c-00be3af54caf"
      },
      "outputs": [
        {
          "data": {
            "text/plain": [
              "[('동국/NNG', 0.6192862391471863),\n",
              " ('우리나라/NNG', 0.5487596988677979),\n",
              " ('삼한/NNP', 0.5134291052818298),\n",
              " ('조선/NNP', 0.5046807527542114),\n",
              " ('우리/NP', 0.5026158094406128),\n",
              " ('중국/NNP', 0.47345593571662903),\n",
              " ('나라/NNG', 0.4682822823524475),\n",
              " ('문명/NNG', 0.45248207449913025),\n",
              " ('도학/NNG', 0.42800185084342957),\n",
              " ('해외/NNG', 0.42606234550476074),\n",
              " ('문헌/NNG', 0.41064566373825073),\n",
              " ('기자/NNG', 0.4075033962726593),\n",
              " ('국조/NNG', 0.40189459919929504),\n",
              " ('위대/XR', 0.40034204721450806),\n",
              " ('문물/NNG', 0.39554229378700256),\n",
              " ('개국/NNG', 0.3948737680912018),\n",
              " ('고려/NNP', 0.38988378643989563),\n",
              " ('창도/NNG', 0.38861098885536194),\n",
              " ('문교/NNG', 0.38509392738342285),\n",
              " ('영남/NNP', 0.38195469975471497)]"
            ]
          },
          "execution_count": 27,
          "metadata": {},
          "output_type": "execute_result"
        }
      ],
      "source": [
        "# 해당 단어와 문맥이 비슷한 유사어 추출\n",
        "v300_w5_min300_sg.wv.most_similar('동방/NNG', topn=20)  # get other similar words"
      ]
    },
    {
      "cell_type": "code",
      "execution_count": null,
      "metadata": {
        "id": "NWQSSAXVWj1X",
        "outputId": "ae1b8701-49a8-4bf9-e284-bb67a11ff446"
      },
      "outputs": [
        {
          "data": {
            "text/plain": [
              "[('동방/NNG', 0.619286298751831),\n",
              " ('중국/NNP', 0.4898388981819153),\n",
              " ('해외/NNG', 0.4677925705909729),\n",
              " ('우리나라/NNG', 0.4574148654937744),\n",
              " ('삼한/NNP', 0.4544330835342407),\n",
              " ('조선/NNP', 0.4080956280231476),\n",
              " ('일대/NNG', 0.40805482864379883),\n",
              " ('지역/NNG', 0.3900620937347412),\n",
              " ('우리/NP', 0.38893386721611023),\n",
              " ('고장/NNG', 0.38604849576950073),\n",
              " ('명나라/NNP', 0.38536667823791504),\n",
              " ('문헌/NNG', 0.3853549659252167),\n",
              " ('남방/NNG', 0.38213708996772766),\n",
              " ('국조/NNG', 0.37949904799461365),\n",
              " ('동남/NNG', 0.37889474630355835),\n",
              " ('왕조/NNG', 0.3767855763435364),\n",
              " ('삼국/NNG', 0.3653113543987274),\n",
              " ('영남/NNP', 0.36458665132522583),\n",
              " ('나라/NNG', 0.3608134388923645),\n",
              " ('지방/NNG', 0.3546033799648285)]"
            ]
          },
          "execution_count": 28,
          "metadata": {},
          "output_type": "execute_result"
        }
      ],
      "source": [
        "# 해당 단어와 문맥이 비슷한 유사어 추출\n",
        "v300_w5_min300_sg.wv.most_similar('동국/NNG', topn=20)  # get other similar words"
      ]
    },
    {
      "cell_type": "code",
      "execution_count": null,
      "metadata": {
        "id": "1CftvArcWj1X",
        "outputId": "43d8eafc-bda4-48cf-f707-60313640b7a7"
      },
      "outputs": [
        {
          "data": {
            "text/plain": [
              "[('신라/NNP', 0.5525323152542114),\n",
              " ('고려/NNP', 0.5236599445343018),\n",
              " ('동방/NNG', 0.5134291052818298),\n",
              " ('개국/NNG', 0.5079298615455627),\n",
              " ('삼국/NNG', 0.48147884011268616),\n",
              " ('조선/NNP', 0.4769449830055237),\n",
              " ('태사/NNP', 0.47161865234375),\n",
              " ('고구려/NNP', 0.45650598406791687),\n",
              " ('백제/NNP', 0.45629942417144775),\n",
              " ('동국/NNG', 0.45443305373191833),\n",
              " ('중원/NNP', 0.45373252034187317),\n",
              " ('태조/NNP', 0.4404228925704956),\n",
              " ('통일/NNG', 0.4404096305370331),\n",
              " ('계림/NNP', 0.43856188654899597),\n",
              " ('시조/NNG', 0.43188127875328064),\n",
              " ('통합/NNG', 0.43062376976013184),\n",
              " ('혁혁/XR', 0.42426738142967224),\n",
              " ('공훈/NNG', 0.4196465313434601),\n",
              " ('후예/NNG', 0.40516576170921326),\n",
              " ('고려조/NNG', 0.39854133129119873)]"
            ]
          },
          "execution_count": 50,
          "metadata": {},
          "output_type": "execute_result"
        }
      ],
      "source": [
        "# 해당 단어와 문맥이 비슷한 유사어 추출\n",
        "v300_w5_min300_sg.wv.most_similar('삼한/NNP', topn=20)  # get other similar words"
      ]
    },
    {
      "cell_type": "code",
      "execution_count": null,
      "metadata": {
        "id": "rtNqLQdSWj1X",
        "outputId": "dcdcb238-9a72-4899-ec1b-2c14fb730687"
      },
      "outputs": [
        {
          "data": {
            "text/plain": [
              "[('고려/NNP', 0.55213463306427),\n",
              " ('국왕/NNG', 0.5427425503730774),\n",
              " ('일본/NNP', 0.5352097749710083),\n",
              " ('우리나라/NNG', 0.5296671986579895),\n",
              " ('중국/NNP', 0.5183144211769104),\n",
              " ('대마도/NNP', 0.5150614976882935),\n",
              " ('명나라/NNP', 0.5087485909461975),\n",
              " ('신라/NNP', 0.5077036023139954),\n",
              " ('개국/NNG', 0.5076214671134949),\n",
              " ('동방/NNG', 0.5046806931495667),\n",
              " ('본국/NNG', 0.5005097389221191),\n",
              " ('고구려/NNP', 0.47771331667900085),\n",
              " ('삼한/NNP', 0.4769449532032013),\n",
              " ('거란/NNP', 0.4754819869995117),\n",
              " ('대명/NNG', 0.47370511293411255),\n",
              " ('황조/NNP', 0.4699831008911133),\n",
              " ('청나라/NNP', 0.4684552550315857),\n",
              " ('태조/NNP', 0.4645532965660095),\n",
              " ('조/NNB', 0.46082115173339844),\n",
              " ('귀국/NNG', 0.4583689570426941)]"
            ]
          },
          "execution_count": 33,
          "metadata": {},
          "output_type": "execute_result"
        }
      ],
      "source": [
        "# 해당 단어와 문맥이 비슷한 유사어 추출\n",
        "v300_w5_min300_sg.wv.most_similar('조선/NNP', topn=20)  # get other similar words"
      ]
    },
    {
      "cell_type": "code",
      "execution_count": null,
      "metadata": {
        "id": "n2nVD4pjWj1X",
        "outputId": "4ce6920c-a055-4372-b700-2d9c4984732c"
      },
      "outputs": [
        {
          "ename": "KeyError",
          "evalue": "\"Key '해동/NNP' not present\"",
          "output_type": "error",
          "traceback": [
            "\u001b[0;31m---------------------------------------------------------------------------\u001b[0m",
            "\u001b[0;31mKeyError\u001b[0m                                  Traceback (most recent call last)",
            "\u001b[0;32m/tmp/ipykernel_649961/3053267625.py\u001b[0m in \u001b[0;36m<module>\u001b[0;34m\u001b[0m\n\u001b[1;32m      1\u001b[0m \u001b[0;31m# 해당 단어와 문맥이 비슷한 유사어 추출\u001b[0m\u001b[0;34m\u001b[0m\u001b[0;34m\u001b[0m\u001b[0;34m\u001b[0m\u001b[0m\n\u001b[0;32m----> 2\u001b[0;31m \u001b[0mv300_w5_min300_sg\u001b[0m\u001b[0;34m.\u001b[0m\u001b[0mwv\u001b[0m\u001b[0;34m.\u001b[0m\u001b[0mmost_similar\u001b[0m\u001b[0;34m(\u001b[0m\u001b[0;34m'해동/NNP'\u001b[0m\u001b[0;34m,\u001b[0m \u001b[0mtopn\u001b[0m\u001b[0;34m=\u001b[0m\u001b[0;36m20\u001b[0m\u001b[0;34m)\u001b[0m  \u001b[0;31m# get other similar words\u001b[0m\u001b[0;34m\u001b[0m\u001b[0;34m\u001b[0m\u001b[0m\n\u001b[0m",
            "\u001b[0;32m~/.conda/envs/python38/lib/python3.8/site-packages/gensim/models/keyedvectors.py\u001b[0m in \u001b[0;36mmost_similar\u001b[0;34m(self, positive, negative, topn, clip_start, clip_end, restrict_vocab, indexer)\u001b[0m\n\u001b[1;32m    771\u001b[0m                 \u001b[0mmean\u001b[0m\u001b[0;34m.\u001b[0m\u001b[0mappend\u001b[0m\u001b[0;34m(\u001b[0m\u001b[0mweight\u001b[0m \u001b[0;34m*\u001b[0m \u001b[0mkey\u001b[0m\u001b[0;34m)\u001b[0m\u001b[0;34m\u001b[0m\u001b[0;34m\u001b[0m\u001b[0m\n\u001b[1;32m    772\u001b[0m             \u001b[0;32melse\u001b[0m\u001b[0;34m:\u001b[0m\u001b[0;34m\u001b[0m\u001b[0;34m\u001b[0m\u001b[0m\n\u001b[0;32m--> 773\u001b[0;31m                 \u001b[0mmean\u001b[0m\u001b[0;34m.\u001b[0m\u001b[0mappend\u001b[0m\u001b[0;34m(\u001b[0m\u001b[0mweight\u001b[0m \u001b[0;34m*\u001b[0m \u001b[0mself\u001b[0m\u001b[0;34m.\u001b[0m\u001b[0mget_vector\u001b[0m\u001b[0;34m(\u001b[0m\u001b[0mkey\u001b[0m\u001b[0;34m,\u001b[0m \u001b[0mnorm\u001b[0m\u001b[0;34m=\u001b[0m\u001b[0;32mTrue\u001b[0m\u001b[0;34m)\u001b[0m\u001b[0;34m)\u001b[0m\u001b[0;34m\u001b[0m\u001b[0;34m\u001b[0m\u001b[0m\n\u001b[0m\u001b[1;32m    774\u001b[0m                 \u001b[0;32mif\u001b[0m \u001b[0mself\u001b[0m\u001b[0;34m.\u001b[0m\u001b[0mhas_index_for\u001b[0m\u001b[0;34m(\u001b[0m\u001b[0mkey\u001b[0m\u001b[0;34m)\u001b[0m\u001b[0;34m:\u001b[0m\u001b[0;34m\u001b[0m\u001b[0;34m\u001b[0m\u001b[0m\n\u001b[1;32m    775\u001b[0m                     \u001b[0mall_keys\u001b[0m\u001b[0;34m.\u001b[0m\u001b[0madd\u001b[0m\u001b[0;34m(\u001b[0m\u001b[0mself\u001b[0m\u001b[0;34m.\u001b[0m\u001b[0mget_index\u001b[0m\u001b[0;34m(\u001b[0m\u001b[0mkey\u001b[0m\u001b[0;34m)\u001b[0m\u001b[0;34m)\u001b[0m\u001b[0;34m\u001b[0m\u001b[0;34m\u001b[0m\u001b[0m\n",
            "\u001b[0;32m~/.conda/envs/python38/lib/python3.8/site-packages/gensim/models/keyedvectors.py\u001b[0m in \u001b[0;36mget_vector\u001b[0;34m(self, key, norm)\u001b[0m\n\u001b[1;32m    436\u001b[0m \u001b[0;34m\u001b[0m\u001b[0m\n\u001b[1;32m    437\u001b[0m         \"\"\"\n\u001b[0;32m--> 438\u001b[0;31m         \u001b[0mindex\u001b[0m \u001b[0;34m=\u001b[0m \u001b[0mself\u001b[0m\u001b[0;34m.\u001b[0m\u001b[0mget_index\u001b[0m\u001b[0;34m(\u001b[0m\u001b[0mkey\u001b[0m\u001b[0;34m)\u001b[0m\u001b[0;34m\u001b[0m\u001b[0;34m\u001b[0m\u001b[0m\n\u001b[0m\u001b[1;32m    439\u001b[0m         \u001b[0;32mif\u001b[0m \u001b[0mnorm\u001b[0m\u001b[0;34m:\u001b[0m\u001b[0;34m\u001b[0m\u001b[0;34m\u001b[0m\u001b[0m\n\u001b[1;32m    440\u001b[0m             \u001b[0mself\u001b[0m\u001b[0;34m.\u001b[0m\u001b[0mfill_norms\u001b[0m\u001b[0;34m(\u001b[0m\u001b[0;34m)\u001b[0m\u001b[0;34m\u001b[0m\u001b[0;34m\u001b[0m\u001b[0m\n",
            "\u001b[0;32m~/.conda/envs/python38/lib/python3.8/site-packages/gensim/models/keyedvectors.py\u001b[0m in \u001b[0;36mget_index\u001b[0;34m(self, key, default)\u001b[0m\n\u001b[1;32m    410\u001b[0m             \u001b[0;32mreturn\u001b[0m \u001b[0mdefault\u001b[0m\u001b[0;34m\u001b[0m\u001b[0;34m\u001b[0m\u001b[0m\n\u001b[1;32m    411\u001b[0m         \u001b[0;32melse\u001b[0m\u001b[0;34m:\u001b[0m\u001b[0;34m\u001b[0m\u001b[0;34m\u001b[0m\u001b[0m\n\u001b[0;32m--> 412\u001b[0;31m             \u001b[0;32mraise\u001b[0m \u001b[0mKeyError\u001b[0m\u001b[0;34m(\u001b[0m\u001b[0;34mf\"Key '{key}' not present\"\u001b[0m\u001b[0;34m)\u001b[0m\u001b[0;34m\u001b[0m\u001b[0;34m\u001b[0m\u001b[0m\n\u001b[0m\u001b[1;32m    413\u001b[0m \u001b[0;34m\u001b[0m\u001b[0m\n\u001b[1;32m    414\u001b[0m     \u001b[0;32mdef\u001b[0m \u001b[0mget_vector\u001b[0m\u001b[0;34m(\u001b[0m\u001b[0mself\u001b[0m\u001b[0;34m,\u001b[0m \u001b[0mkey\u001b[0m\u001b[0;34m,\u001b[0m \u001b[0mnorm\u001b[0m\u001b[0;34m=\u001b[0m\u001b[0;32mFalse\u001b[0m\u001b[0;34m)\u001b[0m\u001b[0;34m:\u001b[0m\u001b[0;34m\u001b[0m\u001b[0;34m\u001b[0m\u001b[0m\n",
            "\u001b[0;31mKeyError\u001b[0m: \"Key '해동/NNP' not present\""
          ]
        }
      ],
      "source": [
        "# 해당 단어와 문맥이 비슷한 유사어 추출\n",
        "v300_w5_min300_sg.wv.most_similar('해동/NNP', topn=20)  # get other similar words"
      ]
    },
    {
      "cell_type": "markdown",
      "source": [
        "### 원문 Word2vec"
      ],
      "metadata": {
        "id": "IGBCwNFLunOE"
      }
    },
    {
      "cell_type": "code",
      "source": [
        "#분석용 피클파일 불러오기\n",
        "# https://drive.google.com/file/d/1BCAZmBi3OK9GFtC2prab4wCRQtJaYUVq/view?usp=sharing\n",
        "!curl -c ./cookie -s -L \"https://drive.google.com/uc?export=download&id=1BCAZmBi3OK9GFtC2prab4wCRQtJaYUVq\" > /dev/null\n",
        "!curl -Lb ./cookie \"https://drive.google.com/uc?export=download&confirm=`awk '/download/ {print $NF}' ./cookie`&id=1BCAZmBi3OK9GFtC2prab4wCRQtJaYUVq\" -o df_sent.pkl"
      ],
      "metadata": {
        "id": "ZUxbf2slurZK"
      },
      "execution_count": null,
      "outputs": []
    },
    {
      "cell_type": "code",
      "source": [
        "with open('df_sent.pkl', \"rb\") as fh:\n",
        "  df_sent = pickle.load(fh)"
      ],
      "metadata": {
        "id": "rNbpBuODbvLi"
      },
      "execution_count": null,
      "outputs": []
    },
    {
      "cell_type": "code",
      "source": [
        "# vector : 차원, window : 앞뒤 단어 보는 크기, min_count : 분석에 포함할 최소 단어 빈도수, sg : 0이면 cbow, 1이면 skip-gram\n",
        "v300_w5_min5000_sg = Word2Vec(sentences=df_sent['token'].to_list(), vector_size=300, window=5, min_count=300,sg=1,seed=2021, workers=1)\n",
        "v300_w5_min5000_sg.save('ch_v300_w5_min300_sg.model') # 모델 저장. 모델 로드할때는 model= Word2Vec.load('v200_w3_min300_sg.model')"
      ],
      "metadata": {
        "id": "w5NZZOb5feR1"
      },
      "execution_count": null,
      "outputs": []
    },
    {
      "cell_type": "code",
      "source": [
        "v300_w5_min300_sg = Word2Vec.load('ch_v300_w5_min300_sg.model')"
      ],
      "metadata": {
        "id": "2tIbS1-UfuY3"
      },
      "execution_count": null,
      "outputs": []
    },
    {
      "cell_type": "code",
      "source": [
        "# 해당 단어와 문맥이 비슷한 유사어 추출\n",
        "v300_w5_min300_sg.wv.most_similar('國', topn=20)  # get other similar words"
      ],
      "metadata": {
        "colab": {
          "base_uri": "https://localhost:8080/"
        },
        "id": "eSKggQMNfy1j",
        "outputId": "3ffb1d0c-ab1a-4a82-89d5-e6e171290fdb"
      },
      "execution_count": null,
      "outputs": [
        {
          "output_type": "execute_result",
          "data": {
            "text/plain": [
              "[('邦', 0.49060723185539246),\n",
              " ('廷', 0.3014860451221466),\n",
              " ('朝', 0.29671192169189453),\n",
              " ('域', 0.2852965295314789),\n",
              " ('家', 0.28310567140579224),\n",
              " ('麗', 0.2802332639694214),\n",
              " ('疆', 0.27800172567367554),\n",
              " ('狄', 0.276493638753891),\n",
              " ('貴', 0.2671152353286743),\n",
              " ('大', 0.2667595446109772),\n",
              " ('搢', 0.2611580193042755),\n",
              " ('億', 0.25519484281539917),\n",
              " ('也', 0.2522425651550293),\n",
              " ('者', 0.25005918741226196),\n",
              " ('王', 0.24942584335803986),\n",
              " ('閥', 0.24924707412719727),\n",
              " ('寇', 0.24853019416332245),\n",
              " ('社', 0.2478121966123581),\n",
              " ('宗', 0.24748802185058594),\n",
              " ('捍', 0.24625685811042786)]"
            ]
          },
          "metadata": {},
          "execution_count": 36
        }
      ]
    },
    {
      "cell_type": "code",
      "source": [
        "# 해당 단어와 문맥이 비슷한 유사어 추출\n",
        "v300_w5_min300_sg.wv.most_similar('我', topn=20)"
      ],
      "metadata": {
        "colab": {
          "base_uri": "https://localhost:8080/"
        },
        "id": "KNwvY1E7hKGN",
        "outputId": "6884032d-823e-45c8-fbce-f6ccc017cff4"
      },
      "execution_count": null,
      "outputs": [
        {
          "output_type": "execute_result",
          "data": {
            "text/plain": [
              "[('吾', 0.4932482838630676),\n",
              " ('余', 0.40199732780456543),\n",
              " ('予', 0.32671672105789185),\n",
              " ('朕', 0.30729252099990845),\n",
              " ('鮮', 0.2977280020713806),\n",
              " ('敝', 0.2936617136001587),\n",
              " ('人', 0.2914992570877075),\n",
              " ('賴', 0.28828781843185425),\n",
              " ('王', 0.28543445467948914),\n",
              " ('瀷', 0.28015753626823425),\n",
              " ('祖', 0.2762998342514038),\n",
              " ('皇', 0.2755458652973175),\n",
              " ('爾', 0.26780253648757935),\n",
              " ('矧', 0.2653608024120331),\n",
              " ('彼', 0.26424384117126465),\n",
              " ('汝', 0.2619032561779022),\n",
              " ('溘', 0.2569100856781006),\n",
              " ('寡', 0.25523895025253296),\n",
              " ('惟', 0.25349894165992737),\n",
              " ('饗', 0.25345274806022644)]"
            ]
          },
          "metadata": {},
          "execution_count": 37
        }
      ]
    },
    {
      "cell_type": "code",
      "source": [
        "v300_w5_min300_sg.wv.most_similar('吾', topn=20)"
      ],
      "metadata": {
        "colab": {
          "base_uri": "https://localhost:8080/"
        },
        "id": "zC_yKAHWfkuZ",
        "outputId": "37a3689b-3ef0-4dd5-bc11-974e87d33776"
      },
      "execution_count": null,
      "outputs": [
        {
          "output_type": "execute_result",
          "data": {
            "text/plain": [
              "[('我', 0.49324825406074524),\n",
              " ('余', 0.48607683181762695),\n",
              " ('渠', 0.44041797518730164),\n",
              " ('汝', 0.41565221548080444),\n",
              " ('兄', 0.4037293493747711),\n",
              " ('瀷', 0.3959735631942749),\n",
              " ('弟', 0.3628588914871216),\n",
              " ('儕', 0.3415936529636383),\n",
              " ('其', 0.3364463746547699),\n",
              " ('姪', 0.32650044560432434),\n",
              " ('此', 0.321274071931839),\n",
              " ('爲', 0.3208879828453064),\n",
              " ('謂', 0.3201736807823181),\n",
              " ('予', 0.31980982422828674),\n",
              " ('君', 0.3190440237522125),\n",
              " ('則', 0.3160014748573303),\n",
              " ('但', 0.31013214588165283),\n",
              " ('生', 0.3090127110481262),\n",
              " ('人', 0.30574333667755127),\n",
              " ('父', 0.2988203465938568)]"
            ]
          },
          "metadata": {},
          "execution_count": 34
        }
      ]
    },
    {
      "cell_type": "code",
      "source": [
        "v300_w5_min300_sg.wv.most_similar('東', topn=20)"
      ],
      "metadata": {
        "colab": {
          "base_uri": "https://localhost:8080/"
        },
        "id": "xygIm_tQf8yX",
        "outputId": "e60792c3-519c-42fe-9d6c-205ef3144f23"
      },
      "execution_count": null,
      "outputs": [
        {
          "output_type": "execute_result",
          "data": {
            "text/plain": [
              "[('西', 0.5984089374542236),\n",
              " ('南', 0.5458069443702698),\n",
              " ('北', 0.4687977731227875),\n",
              " ('湖', 0.34696611762046814),\n",
              " ('瀛', 0.3141981065273285),\n",
              " ('海', 0.31271299719810486),\n",
              " ('球', 0.3096626102924347),\n",
              " ('萊', 0.3034631013870239),\n",
              " ('坡', 0.3008774220943451),\n",
              " ('淮', 0.30057740211486816),\n",
              " ('伽', 0.2989337146282196),\n",
              " ('江', 0.2839382290840149),\n",
              " ('山', 0.28217917680740356),\n",
              " ('邦', 0.2709294557571411),\n",
              " ('滄', 0.27080878615379333),\n",
              " ('迤', 0.26823994517326355),\n",
              " ('璿', 0.26807478070259094),\n",
              " ('嵩', 0.2678627371788025),\n",
              " ('州', 0.2661154866218567),\n",
              " ('嶠', 0.26283448934555054)]"
            ]
          },
          "metadata": {},
          "execution_count": 38
        }
      ]
    },
    {
      "cell_type": "code",
      "execution_count": null,
      "metadata": {
        "id": "uASHjkpC0aSi"
      },
      "outputs": [],
      "source": [
        "target_list = ['我', '吾', '東', '國']"
      ]
    },
    {
      "cell_type": "code",
      "execution_count": null,
      "metadata": {
        "outputId": "e9805527-eb47-44ed-fe4e-858e26548012",
        "colab": {
          "base_uri": "https://localhost:8080/",
          "height": 677
        },
        "id": "VW8GVjb40aSj"
      },
      "outputs": [
        {
          "output_type": "execute_result",
          "data": {
            "text/html": [
              "<div>\n",
              "<style scoped>\n",
              "    .dataframe tbody tr th:only-of-type {\n",
              "        vertical-align: middle;\n",
              "    }\n",
              "\n",
              "    .dataframe tbody tr th {\n",
              "        vertical-align: top;\n",
              "    }\n",
              "\n",
              "    .dataframe thead th {\n",
              "        text-align: right;\n",
              "    }\n",
              "</style>\n",
              "<table border=\"1\" class=\"dataframe\">\n",
              "  <thead>\n",
              "    <tr style=\"text-align: right;\">\n",
              "      <th></th>\n",
              "      <th>我</th>\n",
              "      <th>similarity</th>\n",
              "      <th>吾</th>\n",
              "      <th>similarity</th>\n",
              "      <th>東</th>\n",
              "      <th>similarity</th>\n",
              "      <th>國</th>\n",
              "      <th>similarity</th>\n",
              "    </tr>\n",
              "  </thead>\n",
              "  <tbody>\n",
              "    <tr>\n",
              "      <th>0</th>\n",
              "      <td>吾</td>\n",
              "      <td>0.493248</td>\n",
              "      <td>我</td>\n",
              "      <td>0.493248</td>\n",
              "      <td>西</td>\n",
              "      <td>0.598409</td>\n",
              "      <td>邦</td>\n",
              "      <td>0.490607</td>\n",
              "    </tr>\n",
              "    <tr>\n",
              "      <th>1</th>\n",
              "      <td>余</td>\n",
              "      <td>0.401997</td>\n",
              "      <td>余</td>\n",
              "      <td>0.486077</td>\n",
              "      <td>南</td>\n",
              "      <td>0.545807</td>\n",
              "      <td>廷</td>\n",
              "      <td>0.301486</td>\n",
              "    </tr>\n",
              "    <tr>\n",
              "      <th>2</th>\n",
              "      <td>予</td>\n",
              "      <td>0.326717</td>\n",
              "      <td>渠</td>\n",
              "      <td>0.440418</td>\n",
              "      <td>北</td>\n",
              "      <td>0.468798</td>\n",
              "      <td>朝</td>\n",
              "      <td>0.296712</td>\n",
              "    </tr>\n",
              "    <tr>\n",
              "      <th>3</th>\n",
              "      <td>朕</td>\n",
              "      <td>0.307293</td>\n",
              "      <td>汝</td>\n",
              "      <td>0.415652</td>\n",
              "      <td>湖</td>\n",
              "      <td>0.346966</td>\n",
              "      <td>域</td>\n",
              "      <td>0.285297</td>\n",
              "    </tr>\n",
              "    <tr>\n",
              "      <th>4</th>\n",
              "      <td>鮮</td>\n",
              "      <td>0.297728</td>\n",
              "      <td>兄</td>\n",
              "      <td>0.403729</td>\n",
              "      <td>瀛</td>\n",
              "      <td>0.314198</td>\n",
              "      <td>家</td>\n",
              "      <td>0.283106</td>\n",
              "    </tr>\n",
              "    <tr>\n",
              "      <th>5</th>\n",
              "      <td>敝</td>\n",
              "      <td>0.293662</td>\n",
              "      <td>瀷</td>\n",
              "      <td>0.395974</td>\n",
              "      <td>海</td>\n",
              "      <td>0.312713</td>\n",
              "      <td>麗</td>\n",
              "      <td>0.280233</td>\n",
              "    </tr>\n",
              "    <tr>\n",
              "      <th>6</th>\n",
              "      <td>人</td>\n",
              "      <td>0.291499</td>\n",
              "      <td>弟</td>\n",
              "      <td>0.362859</td>\n",
              "      <td>球</td>\n",
              "      <td>0.309663</td>\n",
              "      <td>疆</td>\n",
              "      <td>0.278002</td>\n",
              "    </tr>\n",
              "    <tr>\n",
              "      <th>7</th>\n",
              "      <td>賴</td>\n",
              "      <td>0.288288</td>\n",
              "      <td>儕</td>\n",
              "      <td>0.341594</td>\n",
              "      <td>萊</td>\n",
              "      <td>0.303463</td>\n",
              "      <td>狄</td>\n",
              "      <td>0.276494</td>\n",
              "    </tr>\n",
              "    <tr>\n",
              "      <th>8</th>\n",
              "      <td>王</td>\n",
              "      <td>0.285434</td>\n",
              "      <td>其</td>\n",
              "      <td>0.336446</td>\n",
              "      <td>坡</td>\n",
              "      <td>0.300877</td>\n",
              "      <td>貴</td>\n",
              "      <td>0.267115</td>\n",
              "    </tr>\n",
              "    <tr>\n",
              "      <th>9</th>\n",
              "      <td>瀷</td>\n",
              "      <td>0.280158</td>\n",
              "      <td>姪</td>\n",
              "      <td>0.326500</td>\n",
              "      <td>淮</td>\n",
              "      <td>0.300577</td>\n",
              "      <td>大</td>\n",
              "      <td>0.266760</td>\n",
              "    </tr>\n",
              "    <tr>\n",
              "      <th>10</th>\n",
              "      <td>祖</td>\n",
              "      <td>0.276300</td>\n",
              "      <td>此</td>\n",
              "      <td>0.321274</td>\n",
              "      <td>伽</td>\n",
              "      <td>0.298934</td>\n",
              "      <td>搢</td>\n",
              "      <td>0.261158</td>\n",
              "    </tr>\n",
              "    <tr>\n",
              "      <th>11</th>\n",
              "      <td>皇</td>\n",
              "      <td>0.275546</td>\n",
              "      <td>爲</td>\n",
              "      <td>0.320888</td>\n",
              "      <td>江</td>\n",
              "      <td>0.283938</td>\n",
              "      <td>億</td>\n",
              "      <td>0.255195</td>\n",
              "    </tr>\n",
              "    <tr>\n",
              "      <th>12</th>\n",
              "      <td>爾</td>\n",
              "      <td>0.267803</td>\n",
              "      <td>謂</td>\n",
              "      <td>0.320174</td>\n",
              "      <td>山</td>\n",
              "      <td>0.282179</td>\n",
              "      <td>也</td>\n",
              "      <td>0.252243</td>\n",
              "    </tr>\n",
              "    <tr>\n",
              "      <th>13</th>\n",
              "      <td>矧</td>\n",
              "      <td>0.265361</td>\n",
              "      <td>予</td>\n",
              "      <td>0.319810</td>\n",
              "      <td>邦</td>\n",
              "      <td>0.270929</td>\n",
              "      <td>者</td>\n",
              "      <td>0.250059</td>\n",
              "    </tr>\n",
              "    <tr>\n",
              "      <th>14</th>\n",
              "      <td>彼</td>\n",
              "      <td>0.264244</td>\n",
              "      <td>君</td>\n",
              "      <td>0.319044</td>\n",
              "      <td>滄</td>\n",
              "      <td>0.270809</td>\n",
              "      <td>王</td>\n",
              "      <td>0.249426</td>\n",
              "    </tr>\n",
              "    <tr>\n",
              "      <th>15</th>\n",
              "      <td>汝</td>\n",
              "      <td>0.261903</td>\n",
              "      <td>則</td>\n",
              "      <td>0.316001</td>\n",
              "      <td>迤</td>\n",
              "      <td>0.268240</td>\n",
              "      <td>閥</td>\n",
              "      <td>0.249247</td>\n",
              "    </tr>\n",
              "    <tr>\n",
              "      <th>16</th>\n",
              "      <td>溘</td>\n",
              "      <td>0.256910</td>\n",
              "      <td>但</td>\n",
              "      <td>0.310132</td>\n",
              "      <td>璿</td>\n",
              "      <td>0.268075</td>\n",
              "      <td>寇</td>\n",
              "      <td>0.248530</td>\n",
              "    </tr>\n",
              "    <tr>\n",
              "      <th>17</th>\n",
              "      <td>寡</td>\n",
              "      <td>0.255239</td>\n",
              "      <td>生</td>\n",
              "      <td>0.309013</td>\n",
              "      <td>嵩</td>\n",
              "      <td>0.267863</td>\n",
              "      <td>社</td>\n",
              "      <td>0.247812</td>\n",
              "    </tr>\n",
              "    <tr>\n",
              "      <th>18</th>\n",
              "      <td>惟</td>\n",
              "      <td>0.253499</td>\n",
              "      <td>人</td>\n",
              "      <td>0.305743</td>\n",
              "      <td>州</td>\n",
              "      <td>0.266115</td>\n",
              "      <td>宗</td>\n",
              "      <td>0.247488</td>\n",
              "    </tr>\n",
              "    <tr>\n",
              "      <th>19</th>\n",
              "      <td>饗</td>\n",
              "      <td>0.253453</td>\n",
              "      <td>父</td>\n",
              "      <td>0.298820</td>\n",
              "      <td>嶠</td>\n",
              "      <td>0.262834</td>\n",
              "      <td>捍</td>\n",
              "      <td>0.246257</td>\n",
              "    </tr>\n",
              "  </tbody>\n",
              "</table>\n",
              "</div>"
            ],
            "text/plain": [
              "    我  similarity  吾  similarity  東  similarity  國  similarity\n",
              "0   吾    0.493248  我    0.493248  西    0.598409  邦    0.490607\n",
              "1   余    0.401997  余    0.486077  南    0.545807  廷    0.301486\n",
              "2   予    0.326717  渠    0.440418  北    0.468798  朝    0.296712\n",
              "3   朕    0.307293  汝    0.415652  湖    0.346966  域    0.285297\n",
              "4   鮮    0.297728  兄    0.403729  瀛    0.314198  家    0.283106\n",
              "5   敝    0.293662  瀷    0.395974  海    0.312713  麗    0.280233\n",
              "6   人    0.291499  弟    0.362859  球    0.309663  疆    0.278002\n",
              "7   賴    0.288288  儕    0.341594  萊    0.303463  狄    0.276494\n",
              "8   王    0.285434  其    0.336446  坡    0.300877  貴    0.267115\n",
              "9   瀷    0.280158  姪    0.326500  淮    0.300577  大    0.266760\n",
              "10  祖    0.276300  此    0.321274  伽    0.298934  搢    0.261158\n",
              "11  皇    0.275546  爲    0.320888  江    0.283938  億    0.255195\n",
              "12  爾    0.267803  謂    0.320174  山    0.282179  也    0.252243\n",
              "13  矧    0.265361  予    0.319810  邦    0.270929  者    0.250059\n",
              "14  彼    0.264244  君    0.319044  滄    0.270809  王    0.249426\n",
              "15  汝    0.261903  則    0.316001  迤    0.268240  閥    0.249247\n",
              "16  溘    0.256910  但    0.310132  璿    0.268075  寇    0.248530\n",
              "17  寡    0.255239  生    0.309013  嵩    0.267863  社    0.247812\n",
              "18  惟    0.253499  人    0.305743  州    0.266115  宗    0.247488\n",
              "19  饗    0.253453  父    0.298820  嶠    0.262834  捍    0.246257"
            ]
          },
          "metadata": {},
          "execution_count": 40
        }
      ],
      "source": [
        "res = pd.DataFrame()\n",
        "for target in target_list:\n",
        "    res = pd.concat([res,pd.DataFrame(v300_w5_min300_sg.wv.most_similar(target, topn=20),columns=[target,'similarity'])],axis=1)  # get other similar words\n",
        "res"
      ]
    },
    {
      "cell_type": "code",
      "source": [
        "res.to_excel('한국고전종합DB_원문_word2vec.xlsx')"
      ],
      "metadata": {
        "id": "eiRGFGf6g21w"
      },
      "execution_count": null,
      "outputs": []
    }
  ],
  "metadata": {
    "colab": {
      "name": "한국고전종합DB_word2vec.ipynb",
      "provenance": [],
      "include_colab_link": true
    },
    "kernelspec": {
      "display_name": "Python 3",
      "name": "python3"
    },
    "language_info": {
      "codemirror_mode": {
        "name": "ipython",
        "version": 3
      },
      "file_extension": ".py",
      "mimetype": "text/x-python",
      "name": "python",
      "nbconvert_exporter": "python",
      "pygments_lexer": "ipython3",
      "version": "3.8.12"
    }
  },
  "nbformat": 4,
  "nbformat_minor": 0
}